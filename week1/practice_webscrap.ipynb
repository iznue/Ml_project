{
 "cells": [
  {
   "cell_type": "code",
   "execution_count": 37,
   "metadata": {},
   "outputs": [
    {
     "name": "stdout",
     "output_type": "stream",
     "text": [
      "Requirement already satisfied: selenium in c:\\users\\user\\miniconda3\\envs\\py\\lib\\site-packages (4.9.1)\n",
      "Requirement already satisfied: urllib3[socks]<3,>=1.26 in c:\\users\\user\\miniconda3\\envs\\py\\lib\\site-packages (from selenium) (1.26.15)\n",
      "Requirement already satisfied: trio~=0.17 in c:\\users\\user\\miniconda3\\envs\\py\\lib\\site-packages (from selenium) (0.22.0)\n",
      "Requirement already satisfied: trio-websocket~=0.9 in c:\\users\\user\\miniconda3\\envs\\py\\lib\\site-packages (from selenium) (0.10.2)\n",
      "Requirement already satisfied: certifi>=2021.10.8 in c:\\users\\user\\miniconda3\\envs\\py\\lib\\site-packages (from selenium) (2023.5.7)\n",
      "Requirement already satisfied: attrs>=19.2.0 in c:\\users\\user\\miniconda3\\envs\\py\\lib\\site-packages (from trio~=0.17->selenium) (22.1.0)\n",
      "Requirement already satisfied: sortedcontainers in c:\\users\\user\\miniconda3\\envs\\py\\lib\\site-packages (from trio~=0.17->selenium) (2.4.0)\n",
      "Requirement already satisfied: async-generator>=1.9 in c:\\users\\user\\miniconda3\\envs\\py\\lib\\site-packages (from trio~=0.17->selenium) (1.10)\n",
      "Requirement already satisfied: idna in c:\\users\\user\\miniconda3\\envs\\py\\lib\\site-packages (from trio~=0.17->selenium) (3.4)\n",
      "Requirement already satisfied: outcome in c:\\users\\user\\miniconda3\\envs\\py\\lib\\site-packages (from trio~=0.17->selenium) (1.2.0)\n",
      "Requirement already satisfied: sniffio in c:\\users\\user\\miniconda3\\envs\\py\\lib\\site-packages (from trio~=0.17->selenium) (1.2.0)\n",
      "Requirement already satisfied: cffi>=1.14 in c:\\users\\user\\miniconda3\\envs\\py\\lib\\site-packages (from trio~=0.17->selenium) (1.15.1)\n",
      "Requirement already satisfied: exceptiongroup in c:\\users\\user\\miniconda3\\envs\\py\\lib\\site-packages (from trio-websocket~=0.9->selenium) (1.1.1)\n",
      "Requirement already satisfied: wsproto>=0.14 in c:\\users\\user\\miniconda3\\envs\\py\\lib\\site-packages (from trio-websocket~=0.9->selenium) (1.2.0)\n",
      "Requirement already satisfied: PySocks!=1.5.7,<2.0,>=1.5.6 in c:\\users\\user\\miniconda3\\envs\\py\\lib\\site-packages (from urllib3[socks]<3,>=1.26->selenium) (1.7.1)\n",
      "Requirement already satisfied: pycparser in c:\\users\\user\\miniconda3\\envs\\py\\lib\\site-packages (from cffi>=1.14->trio~=0.17->selenium) (2.21)\n",
      "Requirement already satisfied: h11<1,>=0.9.0 in c:\\users\\user\\miniconda3\\envs\\py\\lib\\site-packages (from wsproto>=0.14->trio-websocket~=0.9->selenium) (0.14.0)\n",
      "Requirement already satisfied: webdriver-manager in c:\\users\\user\\miniconda3\\envs\\py\\lib\\site-packages (3.8.6)\n",
      "Requirement already satisfied: requests in c:\\users\\user\\miniconda3\\envs\\py\\lib\\site-packages (from webdriver-manager) (2.29.0)\n",
      "Requirement already satisfied: python-dotenv in c:\\users\\user\\miniconda3\\envs\\py\\lib\\site-packages (from webdriver-manager) (1.0.0)\n",
      "Requirement already satisfied: tqdm in c:\\users\\user\\miniconda3\\envs\\py\\lib\\site-packages (from webdriver-manager) (4.65.0)\n",
      "Requirement already satisfied: packaging in c:\\users\\user\\miniconda3\\envs\\py\\lib\\site-packages (from webdriver-manager) (23.0)\n",
      "Requirement already satisfied: charset-normalizer<4,>=2 in c:\\users\\user\\miniconda3\\envs\\py\\lib\\site-packages (from requests->webdriver-manager) (2.0.4)\n",
      "Requirement already satisfied: idna<4,>=2.5 in c:\\users\\user\\miniconda3\\envs\\py\\lib\\site-packages (from requests->webdriver-manager) (3.4)\n",
      "Requirement already satisfied: urllib3<1.27,>=1.21.1 in c:\\users\\user\\miniconda3\\envs\\py\\lib\\site-packages (from requests->webdriver-manager) (1.26.15)\n",
      "Requirement already satisfied: certifi>=2017.4.17 in c:\\users\\user\\miniconda3\\envs\\py\\lib\\site-packages (from requests->webdriver-manager) (2023.5.7)\n",
      "Requirement already satisfied: colorama in c:\\users\\user\\miniconda3\\envs\\py\\lib\\site-packages (from tqdm->webdriver-manager) (0.4.6)\n"
     ]
    }
   ],
   "source": [
    "!pip install selenium\n",
    "!pip install webdriver-manager"
   ]
  },
  {
   "cell_type": "code",
   "execution_count": 38,
   "metadata": {},
   "outputs": [],
   "source": [
    "import sys\n",
    "import time\n",
    "from selenium import webdriver\n",
    "from selenium.webdriver import Keys\n",
    "from selenium.webdriver.common.by import By\n",
    "from selenium.webdriver.chrome.service import Service\n",
    "from webdriver_manager.chrome import ChromeDriverManager\n",
    "from bs4 import BeautifulSoup"
   ]
  },
  {
   "cell_type": "code",
   "execution_count": 46,
   "metadata": {},
   "outputs": [
    {
     "name": "stdout",
     "output_type": "stream",
     "text": [
      "new_height :  5797\n",
      "last_height :  5818\n",
      "new_height :  9758\n",
      "last_height :  14230\n",
      "new_height :  14230\n",
      "last_height :  18645\n",
      "new_height :  18645\n",
      "last_height :  18645\n",
      "페이지 스크롤 완료\n"
     ]
    }
   ],
   "source": [
    "chrome_options = webdriver.ChromeOptions()\n",
    "\n",
    "#Mozilla/5.0 (Windows NT 10.0; Win64; x64) AppleWebKit/537.36 (KHTML, like Gecko) Chrome/113.0.0.0 Safari/537.36\n",
    "user_agent = 'Mozilla/5.0 (Windows NT 10.0; Win64; x64) AppleWebKit/537.36 (KHTML, like Gecko) Chrome/113.0.0.0 Safari/537.36'\n",
    "\n",
    "chrome_options.add_experimental_option('detach', True)\n",
    "driver = webdriver.Chrome(service=Service(ChromeDriverManager().install()),options=chrome_options)\n",
    "#driver.maximize_window()\n",
    "\n",
    "start_url='https://www.youtube.com/'\n",
    "driver.get(start_url)\n",
    "time.sleep(2)\n",
    "\n",
    "# search_box = driver.find_element(By.CSS_SELECTOR, '.ytd-searchbox-spt')\n",
    "# search_box.click()\n",
    "##driver.find_element(By.CSS_SELECTOR, '#search-input').send_keys(keyword)\n",
    "\n",
    "keyword='playlist'\n",
    "search_box=driver.find_element(By.NAME, 'search_query')\n",
    "search_box.click()\n",
    "search_box.send_keys(keyword)\n",
    "time.sleep(2)\n",
    "search_box.send_keys(Keys.ENTER)\n",
    "time.sleep(1)\n",
    "\n",
    "scrol_count=5\n",
    "while True:\n",
    "    new_height=driver.execute_script('return document.documentElement.scrollHeight')\n",
    "    print('new_height : ',new_height)\n",
    "    time.sleep(1)\n",
    "\n",
    "    if scrol_count==-1:\n",
    "        driver.find_element(By.CSS_SELECTOR, 'body').send_keys(Keys.END)\n",
    "        time.sleep(1)\n",
    "\n",
    "        last_height = driver.execute_script(\"return document.documentElement.scrollHeight\")\n",
    "        print('last_height : ', last_height)\n",
    "        time.sleep(1)\n",
    "\n",
    "        if new_height == last_height: \n",
    "            break\n",
    "    else:\n",
    "        html = driver.page_source\n",
    "        soup = BeautifulSoup(html, 'html.parser')\n",
    "        time.sleep(1)\n",
    "        #print(soup)\n",
    "\n",
    "\n",
    "        info_sections=soup.find_all('ytd-video-renderer', class_='ytd-section-list-renderer')\n",
    "\n",
    "        if len(info_sections) < scrol_count: \n",
    "            driver.find_element(By.CSS_SELECTOR, 'body').send_keys(Keys.END)\n",
    "            time.sleep(1)\n",
    "\n",
    "            last_height = driver.execute_script(\"return document.documentElement.scrollHeight\")\n",
    "            print('last_height : ', last_height)\n",
    "            time.sleep(1)\n",
    "\n",
    "            if new_height == last_height: \n",
    "                break\n",
    "        else:\n",
    "            print(f'{scrol_count}만큼 댓글 확보 완료')\n",
    "            del info_sections[scrol_count:] \n",
    "            break\n",
    "\n",
    "print('페이지 스크롤 완료')"
   ]
  },
  {
   "cell_type": "code",
   "execution_count": 48,
   "metadata": {},
   "outputs": [
    {
     "data": {
      "text/plain": [
       "[]"
      ]
     },
     "execution_count": 48,
     "metadata": {},
     "output_type": "execute_result"
    }
   ],
   "source": [
    "info_sections"
   ]
  }
 ],
 "metadata": {
  "kernelspec": {
   "display_name": "py",
   "language": "python",
   "name": "python3"
  },
  "language_info": {
   "codemirror_mode": {
    "name": "ipython",
    "version": 3
   },
   "file_extension": ".py",
   "mimetype": "text/x-python",
   "name": "python",
   "nbconvert_exporter": "python",
   "pygments_lexer": "ipython3",
   "version": "3.11.3"
  },
  "orig_nbformat": 4
 },
 "nbformat": 4,
 "nbformat_minor": 2
}

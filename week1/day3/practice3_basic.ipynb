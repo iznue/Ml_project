{
 "cells": [
  {
   "cell_type": "code",
   "execution_count": 3,
   "metadata": {},
   "outputs": [
    {
     "name": "stdout",
     "output_type": "stream",
     "text": [
      "----------------------------------------------------------------------------------------------------\n",
      "####################################################################################################\n",
      "-----\n",
      "#####\n",
      "#####\n",
      "----------------------------------------------------------------------------------------------------\n",
      "\n",
      "        date:2023-6-1\n",
      "        writer : ej\n",
      "        version : 1.2\n",
      "        lan : python\n",
      "    \n",
      "----------------------------------------------------------------------------------------------------\n"
     ]
    }
   ],
   "source": [
    "def prnLine(x1='-',x2=100):\n",
    "    print(x1*x2)\n",
    "\n",
    "prnLine()\n",
    "prnLine(\"#\")\n",
    "prnLine(x2=5)\n",
    "prnLine(\"#\",5)\n",
    "prnLine(x2=5,x1=\"#\")\n",
    "\n",
    "\n",
    "def title():\n",
    "    prnLine()\n",
    "    txt='''\n",
    "        date:2023-6-1\n",
    "        writer : ej\n",
    "        version : 1.2\n",
    "        lan : python\n",
    "    '''\n",
    "    print(txt)\n",
    "    prnLine()\n",
    "\n",
    "title()\n"
   ]
  },
  {
   "cell_type": "code",
   "execution_count": 5,
   "metadata": {},
   "outputs": [
    {
     "data": {
      "text/plain": [
       "0"
      ]
     },
     "execution_count": 5,
     "metadata": {},
     "output_type": "execute_result"
    }
   ],
   "source": [
    "def a(*args):\n",
    "    tmp=0\n",
    "    for i in args:\n",
    "        tmp+=i\n",
    "    return tmp\n",
    "\n",
    "b=a() # * -> 데이터를 스칼라값으로 넣는데 얼마나 넣을지 모를 때 사용\n",
    "b"
   ]
  },
  {
   "cell_type": "code",
   "execution_count": null,
   "metadata": {},
   "outputs": [],
   "source": [
    "def a(x):\n",
    "    tmp=0\n",
    "    for i in x:\n",
    "        tmp=tmp+i\n",
    "    return tmp\n",
    "\n",
    "b=a([3,4,56,7])\n",
    "b"
   ]
  },
  {
   "cell_type": "code",
   "execution_count": 7,
   "metadata": {},
   "outputs": [
    {
     "name": "stdout",
     "output_type": "stream",
     "text": [
      "dict_keys(['phone', 'birth'])\n"
     ]
    },
    {
     "data": {
      "text/plain": [
       "['010-9999-1234', '111', '222']"
      ]
     },
     "execution_count": 7,
     "metadata": {},
     "output_type": "execute_result"
    }
   ],
   "source": [
    "a = {'phone':['010-9999-1234','111','222'],\n",
    "     'birth':['1111','22','333']}\n",
    "\n",
    "print(a.keys())\n",
    "a['phone']"
   ]
  },
  {
   "cell_type": "code",
   "execution_count": 21,
   "metadata": {},
   "outputs": [
    {
     "data": {
      "text/plain": [
       "1.0"
      ]
     },
     "execution_count": 21,
     "metadata": {},
     "output_type": "execute_result"
    }
   ],
   "source": [
    "a = {'info':{'le':'python',\n",
    "             'wr':'ej',\n",
    "             'ver':'1.0'\n",
    "            },   \n",
    "     'data':{  \n",
    "            'phone':['010-9999-1234','111','222'],\n",
    "            'birth':['1111','22','333'],\n",
    "            'eye':{'eyeL':[1.0,2.0,1.5],\n",
    "                   'eyeR':[1.5,2.0,1.0]}\n",
    "            }\n",
    "}\n",
    "# 위의 형식을 저장하면 json\n",
    "# json으로 저장하면 key value 나눠서 저장됨\n",
    "# json으로 저장 시 읽어낼 때 info, data key로 저장\n",
    "\n",
    "a.keys()\n",
    "a['data'].keys()\n",
    "a['data']['phone']\n",
    "a['info']['le']\n",
    "a['data']['eye']['eyeL'][0]\n"
   ]
  },
  {
   "cell_type": "code",
   "execution_count": 26,
   "metadata": {},
   "outputs": [
    {
     "data": {
      "text/html": [
       "<div>\n",
       "<style scoped>\n",
       "    .dataframe tbody tr th:only-of-type {\n",
       "        vertical-align: middle;\n",
       "    }\n",
       "\n",
       "    .dataframe tbody tr th {\n",
       "        vertical-align: top;\n",
       "    }\n",
       "\n",
       "    .dataframe thead th {\n",
       "        text-align: right;\n",
       "    }\n",
       "</style>\n",
       "<table border=\"1\" class=\"dataframe\">\n",
       "  <thead>\n",
       "    <tr style=\"text-align: right;\">\n",
       "      <th></th>\n",
       "      <th>kor</th>\n",
       "      <th>eng</th>\n",
       "      <th>mat</th>\n",
       "    </tr>\n",
       "  </thead>\n",
       "  <tbody>\n",
       "    <tr>\n",
       "      <th>0</th>\n",
       "      <td>9</td>\n",
       "      <td>2</td>\n",
       "      <td>3</td>\n",
       "    </tr>\n",
       "    <tr>\n",
       "      <th>1</th>\n",
       "      <td>5</td>\n",
       "      <td>3</td>\n",
       "      <td>7</td>\n",
       "    </tr>\n",
       "    <tr>\n",
       "      <th>2</th>\n",
       "      <td>3</td>\n",
       "      <td>4</td>\n",
       "      <td>3</td>\n",
       "    </tr>\n",
       "  </tbody>\n",
       "</table>\n",
       "</div>"
      ],
      "text/plain": [
       "   kor  eng  mat\n",
       "0    9    2    3\n",
       "1    5    3    7\n",
       "2    3    4    3"
      ]
     },
     "execution_count": 26,
     "metadata": {},
     "output_type": "execute_result"
    }
   ],
   "source": [
    "x=dict({'kor':[9,5,3], 'eng':[2,3,4], 'mat':[3,7,3]})  # 크롤링 시 자주 사용\n",
    "pd.DataFrame(x)\n",
    "\n",
    "# for 크롤링:\n",
    "#     korlist.append(3)\n",
    "# x=dict({'kor':korlist, 'eng':[2,3,4], 'mat':[3,7,3]})  # 크롤링 시 자주 사용\n",
    "# pd.DataFrame(x)"
   ]
  },
  {
   "cell_type": "code",
   "execution_count": 25,
   "metadata": {},
   "outputs": [
    {
     "data": {
      "text/html": [
       "<div>\n",
       "<style scoped>\n",
       "    .dataframe tbody tr th:only-of-type {\n",
       "        vertical-align: middle;\n",
       "    }\n",
       "\n",
       "    .dataframe tbody tr th {\n",
       "        vertical-align: top;\n",
       "    }\n",
       "\n",
       "    .dataframe thead th {\n",
       "        text-align: right;\n",
       "    }\n",
       "</style>\n",
       "<table border=\"1\" class=\"dataframe\">\n",
       "  <thead>\n",
       "    <tr style=\"text-align: right;\">\n",
       "      <th></th>\n",
       "      <th>kor</th>\n",
       "      <th>eng</th>\n",
       "      <th>mat</th>\n",
       "    </tr>\n",
       "  </thead>\n",
       "  <tbody>\n",
       "    <tr>\n",
       "      <th>0</th>\n",
       "      <td>0</td>\n",
       "      <td>3</td>\n",
       "      <td>1</td>\n",
       "    </tr>\n",
       "    <tr>\n",
       "      <th>1</th>\n",
       "      <td>2</td>\n",
       "      <td>4</td>\n",
       "      <td>5</td>\n",
       "    </tr>\n",
       "    <tr>\n",
       "      <th>2</th>\n",
       "      <td>4</td>\n",
       "      <td>5</td>\n",
       "      <td>0</td>\n",
       "    </tr>\n",
       "    <tr>\n",
       "      <th>3</th>\n",
       "      <td>4</td>\n",
       "      <td>1</td>\n",
       "      <td>3</td>\n",
       "    </tr>\n",
       "    <tr>\n",
       "      <th>4</th>\n",
       "      <td>5</td>\n",
       "      <td>5</td>\n",
       "      <td>6</td>\n",
       "    </tr>\n",
       "  </tbody>\n",
       "</table>\n",
       "</div>"
      ],
      "text/plain": [
       "   kor  eng  mat\n",
       "0    0    3    1\n",
       "1    2    4    5\n",
       "2    4    5    0\n",
       "3    4    1    3\n",
       "4    5    5    6"
      ]
     },
     "execution_count": 25,
     "metadata": {},
     "output_type": "execute_result"
    }
   ],
   "source": [
    "import numpy as np\n",
    "import pandas as pd\n",
    "\n",
    "a=np.random.rand(5,3)*7\n",
    "a=a.astype('int32')\n",
    "\n",
    "df=pd.DataFrame(a, columns=['kor','eng','mat'])\n",
    "df"
   ]
  },
  {
   "cell_type": "code",
   "execution_count": 35,
   "metadata": {},
   "outputs": [
    {
     "name": "stdout",
     "output_type": "stream",
     "text": [
      "[2 6 4]\n"
     ]
    },
    {
     "data": {
      "text/html": [
       "<div>\n",
       "<style scoped>\n",
       "    .dataframe tbody tr th:only-of-type {\n",
       "        vertical-align: middle;\n",
       "    }\n",
       "\n",
       "    .dataframe tbody tr th {\n",
       "        vertical-align: top;\n",
       "    }\n",
       "\n",
       "    .dataframe thead th {\n",
       "        text-align: right;\n",
       "    }\n",
       "</style>\n",
       "<table border=\"1\" class=\"dataframe\">\n",
       "  <thead>\n",
       "    <tr style=\"text-align: right;\">\n",
       "      <th></th>\n",
       "      <th>kor</th>\n",
       "      <th>eng</th>\n",
       "      <th>mat</th>\n",
       "    </tr>\n",
       "  </thead>\n",
       "  <tbody>\n",
       "    <tr>\n",
       "      <th>0</th>\n",
       "      <td>0</td>\n",
       "      <td>18</td>\n",
       "      <td>4</td>\n",
       "    </tr>\n",
       "    <tr>\n",
       "      <th>1</th>\n",
       "      <td>4</td>\n",
       "      <td>24</td>\n",
       "      <td>20</td>\n",
       "    </tr>\n",
       "    <tr>\n",
       "      <th>2</th>\n",
       "      <td>8</td>\n",
       "      <td>30</td>\n",
       "      <td>0</td>\n",
       "    </tr>\n",
       "    <tr>\n",
       "      <th>3</th>\n",
       "      <td>8</td>\n",
       "      <td>6</td>\n",
       "      <td>12</td>\n",
       "    </tr>\n",
       "    <tr>\n",
       "      <th>4</th>\n",
       "      <td>10</td>\n",
       "      <td>30</td>\n",
       "      <td>24</td>\n",
       "    </tr>\n",
       "  </tbody>\n",
       "</table>\n",
       "</div>"
      ],
      "text/plain": [
       "   kor  eng  mat\n",
       "0    0   18    4\n",
       "1    4   24   20\n",
       "2    8   30    0\n",
       "3    8    6   12\n",
       "4   10   30   24"
      ]
     },
     "execution_count": 35,
     "metadata": {},
     "output_type": "execute_result"
    }
   ],
   "source": [
    "import numpy as np\n",
    "w=np.random.rand(3)*7\n",
    "w=w.astype('int32')\n",
    "print(w)\n",
    "w*df\n",
    "# weight (가중치) 값을 만드는 과정"
   ]
  },
  {
   "cell_type": "code",
   "execution_count": 38,
   "metadata": {},
   "outputs": [
    {
     "name": "stdout",
     "output_type": "stream",
     "text": [
      "[[0 3 1]\n",
      " [2 4 5]\n",
      " [4 5 0]\n",
      " [4 1 3]\n",
      " [5 5 6]]\n",
      "[[ 0 18  4]\n",
      " [ 4 24 20]\n",
      " [ 8 30  0]\n",
      " [ 8  6 12]\n",
      " [10 30 24]]\n"
     ]
    },
    {
     "data": {
      "text/plain": [
       "array([22, 48, 38, 26, 64])"
      ]
     },
     "execution_count": 38,
     "metadata": {},
     "output_type": "execute_result"
    }
   ],
   "source": [
    "print(df.values)\n",
    "print(df.values * w)   # array가 됨\n",
    "\n",
    "# 예측값은 행단위로 더한 값임\n",
    "np.dot(df.values, w)\n",
    "# y와 해당 예측값(최종값)이 얼마나 차이 날것인가\n",
    "# 가장 적은 오차를 갖는 weight를 찾는 방법"
   ]
  },
  {
   "cell_type": "code",
   "execution_count": 45,
   "metadata": {},
   "outputs": [
    {
     "data": {
      "text/plain": [
       "3"
      ]
     },
     "execution_count": 45,
     "metadata": {},
     "output_type": "execute_result"
    }
   ],
   "source": [
    "len(df.values[0])  # weight로 필요한 수 확인"
   ]
  },
  {
   "attachments": {},
   "cell_type": "markdown",
   "metadata": {},
   "source": [
    "함수화 시키기"
   ]
  },
  {
   "cell_type": "code",
   "execution_count": 43,
   "metadata": {},
   "outputs": [
    {
     "data": {
      "text/plain": [
       "array([14, 43, 27, 30, 60])"
      ]
     },
     "execution_count": 43,
     "metadata": {},
     "output_type": "execute_result"
    }
   ],
   "source": [
    "def w(x):        \n",
    "    import numpy as np\n",
    "    colCnt=len(x[0])\n",
    "    w=np.random.rand(colCnt)*7\n",
    "    w=w.astype('int32')\n",
    "    return w\n",
    "\n",
    "def cal(data, w):\n",
    "    return np.dot(data, w)  # 내적곱\n",
    "\n",
    "\n",
    "we=w(df.values)\n",
    "cal(df.values, we)  # y 예측값 계산\n"
   ]
  },
  {
   "cell_type": "code",
   "execution_count": 46,
   "metadata": {},
   "outputs": [
    {
     "name": "stdout",
     "output_type": "stream",
     "text": [
      "000태어남\n"
     ]
    },
    {
     "data": {
      "text/plain": [
       "<__main__.prn at 0x11e210a1d50>"
      ]
     },
     "execution_count": 46,
     "metadata": {},
     "output_type": "execute_result"
    }
   ],
   "source": [
    "class prn:\n",
    "    def __init__(self,x):\n",
    "        print(x+'태어남')\n",
    "    def prnLine():\n",
    "        print('-'*10)\n",
    "    def prnTile():\n",
    "        print('wwwpython')\n",
    "\n",
    "prn('000')"
   ]
  },
  {
   "cell_type": "code",
   "execution_count": null,
   "metadata": {},
   "outputs": [],
   "source": []
  }
 ],
 "metadata": {
  "kernelspec": {
   "display_name": "py",
   "language": "python",
   "name": "python3"
  },
  "language_info": {
   "codemirror_mode": {
    "name": "ipython",
    "version": 3
   },
   "file_extension": ".py",
   "mimetype": "text/x-python",
   "name": "python",
   "nbconvert_exporter": "python",
   "pygments_lexer": "ipython3",
   "version": "3.11.3"
  },
  "orig_nbformat": 4
 },
 "nbformat": 4,
 "nbformat_minor": 2
}

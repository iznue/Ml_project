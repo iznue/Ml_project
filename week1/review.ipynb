{
 "cells": [
  {
   "attachments": {},
   "cell_type": "markdown",
   "metadata": {},
   "source": [
    "#### 파이썬 변수 타입"
   ]
  },
  {
   "cell_type": "code",
   "execution_count": 5,
   "metadata": {},
   "outputs": [
    {
     "name": "stdout",
     "output_type": "stream",
     "text": [
      "a\n"
     ]
    }
   ],
   "source": [
    "#예약어는 변수로 사용 불가\n",
    "print=\"3\" # print라는 예약어는 사라짐\n",
    "\n",
    "del print # 변수를 메모리에서 제거, 쓸데없는 변수는 지우는 것이 좋음\n",
    "print('a')"
   ]
  },
  {
   "cell_type": "code",
   "execution_count": 4,
   "metadata": {},
   "outputs": [
    {
     "ename": "TypeError",
     "evalue": "'str' object is not callable",
     "output_type": "error",
     "traceback": [
      "\u001b[1;31m---------------------------------------------------------------------------\u001b[0m",
      "\u001b[1;31mTypeError\u001b[0m                                 Traceback (most recent call last)",
      "Cell \u001b[1;32mIn[4], line 1\u001b[0m\n\u001b[1;32m----> 1\u001b[0m \u001b[39mprint\u001b[39m(\u001b[39m5\u001b[39m)\n",
      "\u001b[1;31mTypeError\u001b[0m: 'str' object is not callable"
     ]
    }
   ],
   "source": [
    "print(5)"
   ]
  },
  {
   "cell_type": "code",
   "execution_count": null,
   "metadata": {},
   "outputs": [],
   "source": [
    "# 변수에 값 할당, 변수 선언은 다른 개념\n",
    "# 변수 선언은 프로그램에 따라 필수여부 다름 -> python은 필요x -> 메모리 낭비가 심함(각 변수의 메모리 크기를 정해주지 않기때문)\n",
    "# 변수 선언은 dtype 선언\n",
    "\n",
    "a=3\n",
    "a='bb'  # 메모리 번지를 a라고 명명 그 번지에 값을 넣음\n",
    "print(a)  # a가 명명된 메모리의 내용을 디스플레이함\n",
    "a=['a','b','c']  # 0번 위치에는 'a'가 들어간 장소의 번지와 1번위치의 주소번지를 기억함\n",
    "a=np.array(['a','b','c']) # 행열을 기억하는 장소의 번지를 기억함"
   ]
  },
  {
   "cell_type": "code",
   "execution_count": 7,
   "metadata": {},
   "outputs": [
    {
     "name": "stdout",
     "output_type": "stream",
     "text": [
      "1 --- <class 'int'>\n",
      "1.0 --- <class 'float'>\n",
      "a --- <class 'str'>\n",
      "aa --- <class 'str'>\n",
      "[1, 2] --- <class 'list'>\n"
     ]
    }
   ],
   "source": [
    "def mytype(*args):\n",
    "    for i in args:\n",
    "        print(i,'---',type(i))\n",
    "\n",
    "mytype(1,1.,'a','aa',[1,2])"
   ]
  },
  {
   "cell_type": "code",
   "execution_count": 9,
   "metadata": {},
   "outputs": [
    {
     "data": {
      "text/plain": [
       "int"
      ]
     },
     "execution_count": 9,
     "metadata": {},
     "output_type": "execute_result"
    }
   ],
   "source": [
    "1+1.  # 정수 실수 연산은 실수\n",
    "a=1\n",
    "type(a)"
   ]
  },
  {
   "cell_type": "code",
   "execution_count": 10,
   "metadata": {},
   "outputs": [
    {
     "data": {
      "text/plain": [
       "array([1., 2., 3.])"
      ]
     },
     "execution_count": 10,
     "metadata": {},
     "output_type": "execute_result"
    }
   ],
   "source": [
    "import numpy as np\n",
    "\n",
    "a=np.array([1,2,3])\n",
    "a*1.  # 소수 이하 연산의 경우astype을 안 하고 바로 연산 가능\n",
    "\n",
    "# 변수 타입에 따라 변수를 바꾸는 방법론이 다름\n",
    "# list의 type 변형 시 각 요소를 읽어올 때 -> for문으로 하나씩 바꾸거나, map함수 이용"
   ]
  },
  {
   "cell_type": "code",
   "execution_count": 19,
   "metadata": {},
   "outputs": [
    {
     "data": {
      "text/plain": [
       "1"
      ]
     },
     "execution_count": 19,
     "metadata": {},
     "output_type": "execute_result"
    }
   ],
   "source": [
    "# 파이썬 자료형 \n",
    "# 스칼라, 벡터, array, 튜플, 딕셔너리\n",
    "\n",
    "A=[1,1,2,1,1,2,1]\n",
    "set(A)  # 중복제거 -> UNIQUE한 값을 찾음\n",
    "# set함수는 인덱싱을 갖지 않음! -> 인덱싱이 필요한 경우 set을 쓰면 안 됨\n",
    "\n",
    "b=set(A)\n",
    "list(b)[0]  # list로 감싸는 경우 인덱싱 가능"
   ]
  },
  {
   "cell_type": "code",
   "execution_count": 14,
   "metadata": {},
   "outputs": [
    {
     "data": {
      "text/plain": [
       "[1, 2, 3]"
      ]
     },
     "execution_count": 14,
     "metadata": {},
     "output_type": "execute_result"
    }
   ],
   "source": [
    "list_str=['1','2','3']\n",
    "\n",
    "for i in range(len(list_str)):  # 인덱싱 호출하는 경우 속도가 느리므로 사용하지 않는 것이 좋음\n",
    "    list_str[i]=int(list_str[i])\n",
    "\n",
    "list_str"
   ]
  },
  {
   "cell_type": "code",
   "execution_count": 21,
   "metadata": {},
   "outputs": [
    {
     "data": {
      "text/plain": [
       "array([1, 2])"
      ]
     },
     "execution_count": 21,
     "metadata": {},
     "output_type": "execute_result"
    }
   ],
   "source": [
    "np.unique(A)  # set과 unique 함수 기억!  -> unique : 인덱싱 및 카운트, return 값 등을 가짐"
   ]
  },
  {
   "cell_type": "code",
   "execution_count": 13,
   "metadata": {},
   "outputs": [
    {
     "name": "stdout",
     "output_type": "stream",
     "text": [
      "[1, 2, 3]\n",
      "['1', '2', '3']\n"
     ]
    }
   ],
   "source": [
    "# 변수 타입에 따라 변수를 바꾸는 방법론이 다름\n",
    "# list의 type 변형 시 각 요소를 읽어올 때 -> for문으로 하나씩 바꾸거나, map함수 이용\n",
    "\n",
    "list_str=['1','2','3']\n",
    "list_int = list(map(int, list_str))  #정수로 변환, tuple을 list로 변환한 것과 같은 의미\n",
    "list_str2 = list(map(str, list_int))  #문자열로 변환\n",
    "print(list_int)\n",
    "print(list_str2)"
   ]
  },
  {
   "cell_type": "code",
   "execution_count": 27,
   "metadata": {},
   "outputs": [
    {
     "name": "stdout",
     "output_type": "stream",
     "text": [
      "a\n",
      "b\n",
      "c\n",
      "d\n",
      "e\n",
      "f\n",
      "g\n"
     ]
    },
    {
     "data": {
      "text/plain": [
       "'abc'"
      ]
     },
     "execution_count": 27,
     "metadata": {},
     "output_type": "execute_result"
    }
   ],
   "source": [
    "txt = 'abcdefg'\n",
    "\n",
    "for i in txt:\n",
    "    print(i)\n",
    "    #문자열 슬라이싱\n",
    "\n",
    "txt[:3]\n",
    "\n",
    "strsplit=3\n",
    "a=''\n",
    "cnt=0\n",
    "# 슬라이싱 없이 for문으로 구현\n",
    "for i in txt:\n",
    "    if cnt>=strsplit:\n",
    "        break\n",
    "    a+=i\n",
    "    cnt+=1\n",
    "\n",
    "a"
   ]
  },
  {
   "attachments": {},
   "cell_type": "markdown",
   "metadata": {},
   "source": [
    "### 크롤링에 사용"
   ]
  },
  {
   "cell_type": "code",
   "execution_count": 34,
   "metadata": {},
   "outputs": [
    {
     "data": {
      "text/plain": [
       "(array(['파이썬 공부 일정 \\n 강아지와 늘 산책 잠'], dtype='<U23'), array([1], dtype=int64))"
      ]
     },
     "execution_count": 34,
     "metadata": {},
     "output_type": "execute_result"
    }
   ],
   "source": [
    "# blog1='파이썬 공부 일정'\n",
    "# blog2='강아지와 늘 산책 잠'\n",
    "\n",
    "txt='파이썬 공부 일정 \\n 강아지와 늘 산책 잠'  # \\n을 어떤 단위로 list str을 나눌지 고민해야함 -> 크롤링 시 중요 (연관도 분석을 위해)\n",
    "txt.split('\\n')\n",
    "# 가져올 때 리스트 안에서 나눌 수 있는 구분자를 잘 생각해야함 -> 크롤링 시 주의\n",
    "\n",
    "txt.split(' ')\n",
    "data=np.unique(txt, return_counts=True)\n",
    "\n",
    "# join 함수 : 문자열과 문자열의 연결, for를 안 쓰고 가능"
   ]
  },
  {
   "cell_type": "code",
   "execution_count": 44,
   "metadata": {},
   "outputs": [],
   "source": [
    "##워드 클라우드는 리스트로 나누어진 문장을 한개의 문자열로 모아서 (여러개의 리스트라면 한개로 모아야함)\n",
    "# 단어셋을 제작하고(구분자로 나누던지, 명사형을 취하던지), 단어셋의 빈도수로 문장의 중요 단어를 체크\n",
    "txt=['파이썬 공부 일정',\n",
    "    '강아지와 늘 산책 공부 잠']\n",
    "\n",
    "result=''\n",
    "for i in txt:\n",
    "    result+=i\n",
    "result\n",
    "\n",
    "wordlist=result.split(' ')"
   ]
  },
  {
   "cell_type": "code",
   "execution_count": 47,
   "metadata": {},
   "outputs": [
    {
     "name": "stdout",
     "output_type": "stream",
     "text": [
      "1\n",
      "2\n"
     ]
    }
   ],
   "source": [
    "def mycount(*qword):\n",
    "    for i in qword:\n",
    "        print(wordlist.count(i))\n",
    "\n",
    "\n",
    "word1='파이썬'\n",
    "word2='공부'\n",
    "#qword=['파이썬','공부']\n",
    "result=mycount(word1, word2)\n",
    "result"
   ]
  },
  {
   "cell_type": "code",
   "execution_count": 48,
   "metadata": {},
   "outputs": [
    {
     "data": {
      "text/plain": [
       "[1, 2]"
      ]
     },
     "execution_count": 48,
     "metadata": {},
     "output_type": "execute_result"
    }
   ],
   "source": [
    "def mycount(*qword):  # 외부데이터를 받아서 return 하는 경우 argument로 받는 것이 좋음\n",
    "    tmp=[]\n",
    "    for i in qword:\n",
    "        tmp.append(wordlist.count(i))\n",
    "        #print(wordlist.count(i))\n",
    "    return tmp\n",
    "\n",
    "word1='파이썬'\n",
    "word2='공부'\n",
    "#qword=['파이썬','공부']\n",
    "result=mycount(word1, word2)\n",
    "result"
   ]
  },
  {
   "cell_type": "code",
   "execution_count": 40,
   "metadata": {},
   "outputs": [
    {
     "data": {
      "text/plain": [
       "(array(['공부', '늘', '산책', '일정강아지와', '잠', '파이썬'], dtype='<U6'),\n",
       " array([2, 1, 1, 1, 1, 1], dtype=int64))"
      ]
     },
     "execution_count": 40,
     "metadata": {},
     "output_type": "execute_result"
    }
   ],
   "source": [
    "data=np.unique(wordlist, return_counts=True)\n",
    "data"
   ]
  },
  {
   "cell_type": "code",
   "execution_count": null,
   "metadata": {},
   "outputs": [],
   "source": []
  },
  {
   "cell_type": "code",
   "execution_count": null,
   "metadata": {},
   "outputs": [],
   "source": []
  }
 ],
 "metadata": {
  "kernelspec": {
   "display_name": "py",
   "language": "python",
   "name": "python3"
  },
  "language_info": {
   "codemirror_mode": {
    "name": "ipython",
    "version": 3
   },
   "file_extension": ".py",
   "mimetype": "text/x-python",
   "name": "python",
   "nbconvert_exporter": "python",
   "pygments_lexer": "ipython3",
   "version": "3.11.3"
  },
  "orig_nbformat": 4
 },
 "nbformat": 4,
 "nbformat_minor": 2
}

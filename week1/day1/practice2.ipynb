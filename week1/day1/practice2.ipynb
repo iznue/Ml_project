{
 "cells": [
  {
   "cell_type": "code",
   "execution_count": 28,
   "id": "5aaf29f9",
   "metadata": {},
   "outputs": [
    {
     "name": "stdout",
     "output_type": "stream",
     "text": [
      "[1, 2, 3, 4]\n",
      "[5, 6, 7, 8]\n",
      "[9, 10, 11, 12]\n",
      "[13, 14, 15, 16]\n",
      "[1, 2, 3, 4]\n",
      "----------------------------------------------------------------------------------------------------\n",
      "[5, 6, 7, 8]\n",
      "----------------------------------------------------------------------------------------------------\n",
      "[9, 10, 11, 12]\n",
      "----------------------------------------------------------------------------------------------------\n",
      "[13, 14, 15, 16]\n",
      "----------------------------------------------------------------------------------------------------\n"
     ]
    }
   ],
   "source": [
    "import numpy as np\n",
    " \n",
    "#np.random(4,4)\n",
    "\n",
    "data=[[1,2,3,4],[5,6,7,8],[9,10,11,12],[13,14,15,16]]\n",
    "#data\n",
    "\n",
    "for row in data:\n",
    "    print(row) #데이터불러오기1 : 직접 호출 \n",
    "    \n",
    "for row in range(4): # len(data)\n",
    "    print(data[row]) #데이터불러오기2 : 인덱싱 호출 -> 다음의 방법은 좋지않음\n",
    "    print('-'*100) # 데이터 구분을 해주는 것이 좋음"
   ]
  },
  {
   "cell_type": "code",
   "execution_count": 29,
   "id": "18835978",
   "metadata": {},
   "outputs": [
    {
     "name": "stdout",
     "output_type": "stream",
     "text": [
      "1 ----------------------------------------------------------------------------------------------------\n",
      "[1, 2, 3, 4]\n",
      "2 ----------------------------------------------------------------------------------------------------\n",
      "[5, 6, 7, 8]\n"
     ]
    }
   ],
   "source": [
    "cnt=1\n",
    "for row in data[:2]:\n",
    "    print(cnt, '-'*100)\n",
    "    cnt+=1\n",
    "    print(row)\n",
    "    "
   ]
  },
  {
   "cell_type": "code",
   "execution_count": 38,
   "id": "69ed3b67",
   "metadata": {},
   "outputs": [
    {
     "name": "stdout",
     "output_type": "stream",
     "text": [
      "\n",
      "▶row :  0 ----------------------------------------------------------------------------------------------------\n",
      "[1, 2, 3, 4]\n",
      "total col :  10\n",
      "\n",
      "▶row :  1 ----------------------------------------------------------------------------------------------------\n",
      "[5, 6, 7, 8]\n",
      "total col :  26\n",
      "\n",
      "▶row :  2 ----------------------------------------------------------------------------------------------------\n",
      "[9, 10, 11, 12]\n",
      "total col :  42\n",
      "\n",
      "▶row :  3 ----------------------------------------------------------------------------------------------------\n",
      "[13, 14, 15, 16]\n",
      "total col :  58\n"
     ]
    }
   ],
   "source": [
    "for cnt,row in enumerate(data):\n",
    "    print('\\n▶row : ', cnt, '-'*100)\n",
    "    print(row) \n",
    "    # 데이터를 불러올 때 가독성이 좋도록\n",
    "    \n",
    "    # 데이터가 잘 들어왔는지 확인\n",
    "    sum=0\n",
    "    for col in row:\n",
    "        #print('\\n▶col : ')\n",
    "        #print(col)\n",
    "        sum+=col\n",
    "    print('total col : ', sum)"
   ]
  },
  {
   "cell_type": "code",
   "execution_count": 39,
   "id": "d5a18bd7",
   "metadata": {},
   "outputs": [
    {
     "data": {
      "text/plain": [
       "(2, 6, 10, 14)"
      ]
     },
     "execution_count": 39,
     "metadata": {},
     "output_type": "execute_result"
    }
   ],
   "source": [
    "\"\"\"\n",
    "data=[[1,2,3,4],\n",
    "      [5,6,7,8],\n",
    "      [9,10,11,12],\n",
    "      [13,14,15,16]]\n",
    "\"\"\"\n",
    "\n",
    "data[0][0], data[1][0], data[2][0], data[3][0]\n",
    "data[0][1], data[1][1], data[2][1], data[3][1]"
   ]
  },
  {
   "cell_type": "markdown",
   "id": "bb7308af",
   "metadata": {},
   "source": [
    "##### 열 단위 (세로단위) 합\n",
    "- 열 번호는 동일, 행번호만 순차적으로 변경"
   ]
  },
  {
   "cell_type": "code",
   "execution_count": 48,
   "id": "fe8c95de",
   "metadata": {},
   "outputs": [
    {
     "name": "stdout",
     "output_type": "stream",
     "text": [
      "----------------------------------------------------------------------------------------------------\n",
      "1\n",
      "5\n",
      "9\n",
      "13\n",
      "열단위 sum :  28\n",
      "----------------------------------------------------------------------------------------------------\n",
      "2\n",
      "6\n",
      "10\n",
      "14\n",
      "열단위 sum :  32\n",
      "----------------------------------------------------------------------------------------------------\n",
      "3\n",
      "7\n",
      "11\n",
      "15\n",
      "열단위 sum :  36\n",
      "----------------------------------------------------------------------------------------------------\n",
      "4\n",
      "8\n",
      "12\n",
      "16\n",
      "열단위 sum :  40\n"
     ]
    }
   ],
   "source": [
    "for i in range(4):   # 열번호\n",
    "    print('-'*100)\n",
    "    sum=0\n",
    "    for j in range(4):   # 행번호\n",
    "        print(data[j][i])\n",
    "        sum+=data[j][i]\n",
    "    print('열단위 sum : ', sum)"
   ]
  },
  {
   "cell_type": "markdown",
   "id": "65d6554c",
   "metadata": {},
   "source": [
    "### 작업한 수식을 함수로 제작"
   ]
  },
  {
   "cell_type": "code",
   "execution_count": 56,
   "id": "6860507f",
   "metadata": {},
   "outputs": [],
   "source": [
    "class mySum:\n",
    "    # 행단위 sum\n",
    "    def sumRow(x):\n",
    "        for cnt,row in enumerate(x):\n",
    "            print('\\n▶row : ', cnt, '-'*100)\n",
    "            print(row) \n",
    "            # 데이터를 불러올 때 가독성이 좋도록\n",
    "\n",
    "            # 데이터가 잘 들어왔는지 확인\n",
    "            sum=0\n",
    "            for col in row:\n",
    "                sum+=col\n",
    "            print('total col : ', sum)\n",
    "\n",
    "    # 열단위 sum\n",
    "    def sumCol(x):\n",
    "        row_cnt, col_cnt =len(x), len(x[0])\n",
    "        for i in range(col_cnt):   # 열번호\n",
    "            print('-'*100)\n",
    "            sum=0\n",
    "            for j in range(row_cnt):   # 행번호\n",
    "                print(data[j][i])\n",
    "                sum+=data[j][i]\n",
    "            print('열단위 sum : ', sum)"
   ]
  },
  {
   "cell_type": "code",
   "execution_count": 59,
   "id": "c205d9ef",
   "metadata": {},
   "outputs": [
    {
     "name": "stdout",
     "output_type": "stream",
     "text": [
      "2\n",
      "3\n",
      "----------------------------------------------------------------------------------------------------\n",
      "1\n",
      "4\n",
      "열단위 sum :  5\n",
      "----------------------------------------------------------------------------------------------------\n",
      "2\n",
      "5\n",
      "열단위 sum :  7\n",
      "----------------------------------------------------------------------------------------------------\n",
      "3\n",
      "6\n",
      "열단위 sum :  9\n"
     ]
    }
   ],
   "source": [
    "data=[[1,2,3],[4,5,6]]\n",
    "print(len(data))\n",
    "print(len(data[0]))\n",
    "\n",
    "#mySum.sumRow(data)\n",
    "\n",
    "mySum.sumCol(data)"
   ]
  },
  {
   "cell_type": "code",
   "execution_count": 51,
   "id": "98b18d9e",
   "metadata": {},
   "outputs": [
    {
     "name": "stdout",
     "output_type": "stream",
     "text": [
      "----------------------------------------------------------------------------------------------------\n",
      "1\n",
      "5\n",
      "9\n",
      "13\n",
      "열단위 sum :  28\n",
      "----------------------------------------------------------------------------------------------------\n",
      "2\n",
      "6\n",
      "10\n",
      "14\n",
      "열단위 sum :  32\n",
      "----------------------------------------------------------------------------------------------------\n",
      "3\n",
      "7\n",
      "11\n",
      "15\n",
      "열단위 sum :  36\n",
      "----------------------------------------------------------------------------------------------------\n",
      "4\n",
      "8\n",
      "12\n",
      "16\n",
      "열단위 sum :  40\n"
     ]
    }
   ],
   "source": [
    "a=mySum  # 객체 생성\n",
    "a.rowSum(data)\n",
    "# class는 성격이 비슷한 함수들의 집합체를 만들어 관리함"
   ]
  },
  {
   "cell_type": "code",
   "execution_count": null,
   "id": "c58b4371",
   "metadata": {},
   "outputs": [],
   "source": []
  },
  {
   "cell_type": "code",
   "execution_count": 64,
   "id": "40ef4a8e",
   "metadata": {},
   "outputs": [
    {
     "data": {
      "text/plain": [
       "array([[1.77380677, 6.34735293, 5.26546407, 2.92678654],\n",
       "       [3.20887145, 2.4058778 , 6.39279828, 4.75210139],\n",
       "       [2.08605181, 0.17669254, 5.92785332, 3.04245159]])"
      ]
     },
     "execution_count": 64,
     "metadata": {},
     "output_type": "execute_result"
    }
   ],
   "source": [
    "data = np.random.rand(3,4)*7  # *(수) : 그 수 안의 값에서 random하게 생성\n",
    "data"
   ]
  },
  {
   "cell_type": "code",
   "execution_count": 71,
   "id": "c9711803",
   "metadata": {},
   "outputs": [
    {
     "data": {
      "text/plain": [
       "array([[1, 6, 5, 2],\n",
       "       [3, 2, 6, 4],\n",
       "       [2, 0, 5, 3]], dtype=int8)"
      ]
     },
     "execution_count": 71,
     "metadata": {},
     "output_type": "execute_result"
    }
   ],
   "source": [
    "# 정수로 변환\n",
    "data=data.astype('int8')\n",
    "data\n",
    "\n",
    "\n",
    "# for i in range(len(data)):\n",
    "#     for j in range(len(data[0]))\n",
    "#         data[i][j]=int(data[i][j])\n"
   ]
  },
  {
   "cell_type": "code",
   "execution_count": 72,
   "id": "bd8c9841",
   "metadata": {},
   "outputs": [
    {
     "data": {
      "text/plain": [
       "array([14, 15, 10])"
      ]
     },
     "execution_count": 72,
     "metadata": {},
     "output_type": "execute_result"
    }
   ],
   "source": [
    "np.sum(data)\n",
    "np.sum(data, axis=1)\n",
    "# 행 단위 합산 : axis = 1, 열 단위 합산 : axis = 0\n",
    "# pandas 숫자 데이터는 array 구조에서 numpy로 작업하는 것이 편함"
   ]
  },
  {
   "cell_type": "markdown",
   "id": "877ee70e",
   "metadata": {},
   "source": [
    "### numpy 조건문"
   ]
  },
  {
   "cell_type": "code",
   "execution_count": 73,
   "id": "3697bcd2",
   "metadata": {},
   "outputs": [
    {
     "data": {
      "text/plain": [
       "array([[-100,    6,    5, -100],\n",
       "       [-100, -100,    6, -100],\n",
       "       [-100, -100,    5, -100]], dtype=int8)"
      ]
     },
     "execution_count": 73,
     "metadata": {},
     "output_type": "execute_result"
    }
   ],
   "source": [
    "data[data<5] = -100\n",
    "data\n",
    "\n",
    "# where는 if 구문의 true일 때는 생략 가능"
   ]
  },
  {
   "cell_type": "code",
   "execution_count": 79,
   "id": "42865297",
   "metadata": {},
   "outputs": [
    {
     "name": "stdout",
     "output_type": "stream",
     "text": [
      "[array([[False, False, False, False],\n",
      "       [False, False, False, False],\n",
      "       [False, False, False, False]])]\n"
     ]
    }
   ],
   "source": [
    "print([(data<5) & (data>1)])  # and 조건\n",
    "\n",
    "data[(data<5) & (data>1)]=100"
   ]
  },
  {
   "cell_type": "code",
   "execution_count": 75,
   "id": "2bdfe004",
   "metadata": {},
   "outputs": [
    {
     "data": {
      "text/plain": [
       "array([[False, False, False, False],\n",
       "       [False, False, False, False],\n",
       "       [False, False, False, False]])"
      ]
     },
     "execution_count": 75,
     "metadata": {},
     "output_type": "execute_result"
    }
   ],
   "source": [
    "np.logical_and(data<5, data>1) # logical 함수 사용 "
   ]
  },
  {
   "cell_type": "code",
   "execution_count": 80,
   "id": "6462c0f6",
   "metadata": {},
   "outputs": [
    {
     "data": {
      "text/plain": [
       "array([[-100,    6,    5, -100],\n",
       "       [-100, -100,    6, -100],\n",
       "       [-100, -100,    5, -100]], dtype=int8)"
      ]
     },
     "execution_count": 80,
     "metadata": {},
     "output_type": "execute_result"
    }
   ],
   "source": [
    "data[np.logical_and(data<5, data>1)]=100\n",
    "data"
   ]
  },
  {
   "cell_type": "code",
   "execution_count": 63,
   "id": "da132336",
   "metadata": {},
   "outputs": [
    {
     "data": {
      "text/plain": [
       "(array([  3.,  17.,  59., 150., 211., 234., 190.,  90.,  32.,  14.]),\n",
       " array([-3.16871342, -2.56200962, -1.95530582, -1.34860203, -0.74189823,\n",
       "        -0.13519444,  0.47150936,  1.07821316,  1.68491695,  2.29162075,\n",
       "         2.89832455]),\n",
       " <BarContainer object of 10 artists>)"
      ]
     },
     "execution_count": 63,
     "metadata": {},
     "output_type": "execute_result"
    },
    {
     "data": {
      "image/png": "[encoded data removed]",
      "text/plain": [
       "<Figure size 1000x300 with 2 Axes>"
      ]
     },
     "metadata": {},
     "output_type": "display_data"
    }
   ],
   "source": [
    "y1=np.random.rand(1000) # 무작위 난수\n",
    "y2=np.random.randn(1000) # 정규분포\n",
    "\n",
    "import matplotlib.pyplot as plt\n",
    "plt.figure(figsize=(10,3))\n",
    "plt.subplot(1,2,1)\n",
    "plt.hist(y1)\n",
    "plt.subplot(1,2,2)\n",
    "plt.hist(y2)"
   ]
  },
  {
   "cell_type": "code",
   "execution_count": null,
   "id": "f2ceec55",
   "metadata": {},
   "outputs": [],
   "source": []
  },
  {
   "cell_type": "code",
   "execution_count": null,
   "id": "8c9a5f2e",
   "metadata": {},
   "outputs": [],
   "source": []
  }
 ],
 "metadata": {
  "kernelspec": {
   "display_name": "Python 3 (ipykernel)",
   "language": "python",
   "name": "python3"
  },
  "language_info": {
   "codemirror_mode": {
    "name": "ipython",
    "version": 3
   },
   "file_extension": ".py",
   "mimetype": "text/x-python",
   "name": "python",
   "nbconvert_exporter": "python",
   "pygments_lexer": "ipython3",
   "version": "3.11.3"
  }
 },
 "nbformat": 4,
 "nbformat_minor": 5
}

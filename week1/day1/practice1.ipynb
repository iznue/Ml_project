{
 "cells": [
  {
   "cell_type": "code",
   "execution_count": 1,
   "id": "5094f2f1",
   "metadata": {},
   "outputs": [
    {
     "name": "stdout",
     "output_type": "stream",
     "text": [
      "Name: numpy\n",
      "Version: 1.24.3\n",
      "Summary: Fundamental package for array computing in Python\n",
      "Home-page: https://www.numpy.org\n",
      "Author: Travis E. Oliphant et al.\n",
      "Author-email: \n",
      "License: BSD-3-Clause\n",
      "Location: C:\\Users\\user\\miniconda3\\envs\\py\\Lib\\site-packages\n",
      "Requires: \n",
      "Required-by: mkl-fft, mkl-random\n"
     ]
    }
   ],
   "source": [
    "!pip show numpy #설치된 모듈의 세부정보 확인"
   ]
  },
  {
   "cell_type": "code",
   "execution_count": 5,
   "id": "c4f0e98a",
   "metadata": {},
   "outputs": [
    {
     "name": "stdout",
     "output_type": "stream",
     "text": [
      "[0. 0. 0. 0. 0.] <class 'numpy.ndarray'> float64\n"
     ]
    },
    {
     "data": {
      "text/plain": [
       "array([0, 0, 0, 0, 0], dtype=uint8)"
      ]
     },
     "execution_count": 5,
     "metadata": {},
     "output_type": "execute_result"
    }
   ],
   "source": [
    "import numpy as np  # numpy 폴더의 init.py 실행\n",
    "\n",
    "tmp=np.zeros(5)  # 데이터값의 빈 공간을 만듦\n",
    "print(tmp, type(tmp), tmp.dtype) # dtype : 구조 안에 들어간 값이 float64\n",
    "tmp[...]=256\n",
    "tmp\n",
    "# 이미 생성된 타입을 바꿀 때 -> astype사용\n",
    "# dtype & astype 개념! -> 이미지 처리 데이터타입은 uint8로 해야하지만 이상하게 나오는 경우가 있음 -> 타입을 직접 맞춰줘야함\n",
    "\n",
    "tmp.astype('uint8') # 255까지만 표현 256은 0, 257은 1이 됨\n",
    "\n",
    "#from PIL import Image  # PIL 폴더 안의 Image.py를 실행"
   ]
  },
  {
   "cell_type": "code",
   "execution_count": 7,
   "id": "14cd0534",
   "metadata": {},
   "outputs": [
    {
     "name": "stdout",
     "output_type": "stream",
     "text": [
      "<class 'list'> <class 'numpy.ndarray'>\n"
     ]
    },
    {
     "data": {
      "text/plain": [
       "([1, 2, 3, 4, 5, 6, 3], array([4, 5, 6, 7, 8, 9]))"
      ]
     },
     "execution_count": 7,
     "metadata": {},
     "output_type": "execute_result"
    }
   ],
   "source": [
    "a=[1,2,3,4,5,6]\n",
    "type(a)\n",
    "# list : 값은 있지만 어디있는지 모름 -> 남은 공간에 막 사용 but 한번에 불러올 수 x 속도가 느림\n",
    "# list의 덧셈은 단지 추가의 개념, 연산이 아님 / 곱셈은 반복의 개념 \n",
    "# 배열 (array 구조) : 한번에 불러옴\n",
    "\n",
    "# vision의 경우이미지를 많이 다룸 -> 행렬 연산을 위해 array 타입으로 사용해야함\n",
    "\n",
    "b=np.array(a)\n",
    "print(type(a), type(b))\n",
    "a+[3], b+3\n",
    "# 최대한 array 구조로 된 자료는 numpy 명령어를 사용하는 것이(for문에 비해) 훨씬 빠름"
   ]
  },
  {
   "cell_type": "code",
   "execution_count": 27,
   "id": "5db9a632",
   "metadata": {},
   "outputs": [
    {
     "name": "stdout",
     "output_type": "stream",
     "text": [
      "[ 0  1  2  3  4  5  6  7  8  9 10 11 12 13 14 15 16 17 18 19 20 21 22 23] (24,)\n",
      "0 0\n"
     ]
    },
    {
     "data": {
      "text/plain": [
       "(0,\n",
       " array([0]),\n",
       " array([[ 0],\n",
       "        [ 1],\n",
       "        [ 2],\n",
       "        [ 3],\n",
       "        [ 4],\n",
       "        [ 5],\n",
       "        [ 6],\n",
       "        [ 7],\n",
       "        [ 8],\n",
       "        [ 9],\n",
       "        [10],\n",
       "        [11],\n",
       "        [12],\n",
       "        [13],\n",
       "        [14],\n",
       "        [15],\n",
       "        [16],\n",
       "        [17],\n",
       "        [18],\n",
       "        [19],\n",
       "        [20],\n",
       "        [21],\n",
       "        [22],\n",
       "        [23]]),\n",
       " array([2]))"
      ]
     },
     "execution_count": 27,
     "metadata": {},
     "output_type": "execute_result"
    }
   ],
   "source": [
    "x=np.arange(24) # 24개의 자료생성  -> 인공지능에는 random 함수를 많이 사용함\n",
    "print(x,np.shape(x)) # 각 행에 1개의 스칼라 값이 있음\n",
    "\n",
    "y = x.reshape(24,1) # 각 행에 1개의 벡터 값이 있음\n",
    "# (24,1) : 리스트 값이 벡터처럼 들어감  /  (24,) : 값이 스칼라로 들어감 \n",
    "# (24,)과 (24,1)은 다른 개념\n",
    "\n",
    "print(x[0], y[0][0])\n",
    "\n",
    "z = x.reshape(1,24,1)\n",
    "x[0], y[0], z[0], z[0][2]\n",
    "\n",
    "# reshape -> 인공지능의 경우 원본 이미지를 같은 사이즈로 array에 쌓아놓음 -> 2장 이상의 이미지를 가지므로 tensor의 형태 사용\n",
    "# tensor에 이미지를 일정량 받아 무작위로 array를 만들고 숫자값을 뿌림 ( filter kernel ) : 커널 수 = 경우의 수\n",
    "# 곱하기와 더하기를 통해 하나의 숫자값으로 만듦 => 모든 작업은 tensor하에 진행 "
   ]
  },
  {
   "cell_type": "code",
   "execution_count": 21,
   "id": "d70cb002",
   "metadata": {},
   "outputs": [
    {
     "data": {
      "text/plain": [
       "array([[ 0,  1],\n",
       "       [ 2,  3],\n",
       "       [ 4,  5],\n",
       "       [ 6,  7],\n",
       "       [ 8,  9],\n",
       "       [10, 11],\n",
       "       [12, 13],\n",
       "       [14, 15],\n",
       "       [16, 17],\n",
       "       [18, 19],\n",
       "       [20, 21],\n",
       "       [22, 23]])"
      ]
     },
     "execution_count": 21,
     "metadata": {},
     "output_type": "execute_result"
    }
   ],
   "source": [
    "x.reshape(12,-1) # -1 : 알아서 작업\n",
    "# 사이즈가 안 맞으면 안 나옴 ex) 5\n",
    "\n"
   ]
  },
  {
   "cell_type": "code",
   "execution_count": 34,
   "id": "91c88911",
   "metadata": {},
   "outputs": [
    {
     "data": {
      "text/plain": [
       "(dtype('uint8'),\n",
       " array([[[150,  55,  50, 150],\n",
       "         [ 50,  49,  60,  50]],\n",
       " \n",
       "        [[ 60,  55,  49, 150],\n",
       "         [ 50,  55,  60,  49]]], dtype=uint8))"
      ]
     },
     "execution_count": 34,
     "metadata": {},
     "output_type": "execute_result"
    }
   ],
   "source": [
    "x1=[[100,5,0,100], [0,255,10,0]]\n",
    "x2=[[10,5,255,100], [0,5,10,255]]\n",
    "type(x1), type(x2)\n",
    "img=[x1,x2]\n",
    "type(img)\n",
    "imgs=np.array(img)\n",
    "type(imgs)  # 연산 가능\n",
    "\n",
    "imgs=imgs.astype('uint8')\n",
    "imgs = imgs+50\n",
    "imgs.dtype, imgs\n",
    "# img 값 범위안으로 변화(255까지) -> astype으로 타입 변경"
   ]
  },
  {
   "cell_type": "code",
   "execution_count": 45,
   "id": "f2a60afd",
   "metadata": {
    "scrolled": true
   },
   "outputs": [
    {
     "data": {
      "text/plain": [
       "(dtype('uint8'),\n",
       " array([[[ 38, 199, 194,  38],\n",
       "         [194, 193, 204, 194]],\n",
       " \n",
       "        [[204, 199, 193,  38],\n",
       "         [194, 199, 204, 193]]], dtype=uint8),\n",
       " (2, 5),\n",
       " (2, 2, 4))"
      ]
     },
     "execution_count": 45,
     "metadata": {},
     "output_type": "execute_result"
    }
   ],
   "source": [
    "x1=np.array([[100,5,0,100,5], [0,255,10,0,5]])\n",
    "x2=np.array([[10,5,255,100,5], [0,5,10,255,5]])\n",
    "type(x1), type(x2)\n",
    "img=np.array(([x1,x2]))  # tensor\n",
    "type(img)\n",
    "type(imgs)  # 연산 가능\n",
    "\n",
    "imgs=imgs.astype('uint8')\n",
    "imgs = imgs+50\n",
    "imgs.dtype, imgs, np.shape(x1), np.shape(imgs)\n",
    "# img 값 범위안으로 변화(255까지) -> astype으로 타입 변경\n",
    "# (2,4)"
   ]
  },
  {
   "cell_type": "code",
   "execution_count": 38,
   "id": "cbbb1bf7",
   "metadata": {},
   "outputs": [
    {
     "name": "stdout",
     "output_type": "stream",
     "text": [
      "Requirement already satisfied: matplotlib in c:\\users\\user\\miniconda3\\envs\\py\\lib\\site-packages (3.7.1)\n",
      "Requirement already satisfied: contourpy>=1.0.1 in c:\\users\\user\\miniconda3\\envs\\py\\lib\\site-packages (from matplotlib) (1.0.7)\n",
      "Requirement already satisfied: cycler>=0.10 in c:\\users\\user\\miniconda3\\envs\\py\\lib\\site-packages (from matplotlib) (0.11.0)\n",
      "Requirement already satisfied: fonttools>=4.22.0 in c:\\users\\user\\miniconda3\\envs\\py\\lib\\site-packages (from matplotlib) (4.39.4)\n",
      "Requirement already satisfied: kiwisolver>=1.0.1 in c:\\users\\user\\miniconda3\\envs\\py\\lib\\site-packages (from matplotlib) (1.4.4)\n",
      "Requirement already satisfied: numpy>=1.20 in c:\\users\\user\\miniconda3\\envs\\py\\lib\\site-packages (from matplotlib) (1.24.3)\n",
      "Requirement already satisfied: packaging>=20.0 in c:\\users\\user\\miniconda3\\envs\\py\\lib\\site-packages (from matplotlib) (23.0)\n",
      "Requirement already satisfied: pillow>=6.2.0 in c:\\users\\user\\miniconda3\\envs\\py\\lib\\site-packages (from matplotlib) (9.5.0)\n",
      "Requirement already satisfied: pyparsing>=2.3.1 in c:\\users\\user\\miniconda3\\envs\\py\\lib\\site-packages (from matplotlib) (3.0.9)\n",
      "Requirement already satisfied: python-dateutil>=2.7 in c:\\users\\user\\miniconda3\\envs\\py\\lib\\site-packages (from matplotlib) (2.8.2)\n",
      "Requirement already satisfied: six>=1.5 in c:\\users\\user\\miniconda3\\envs\\py\\lib\\site-packages (from python-dateutil>=2.7->matplotlib) (1.16.0)\n",
      "Requirement already satisfied: PILLOW in c:\\users\\user\\miniconda3\\envs\\py\\lib\\site-packages (9.5.0)\n"
     ]
    }
   ],
   "source": [
    "!pip install matplotlib\n",
    "!pip install PILLOW"
   ]
  },
  {
   "cell_type": "code",
   "execution_count": 47,
   "id": "b874baf0",
   "metadata": {},
   "outputs": [
    {
     "data": {
      "text/plain": [
       "<matplotlib.image.AxesImage at 0x29310731010>"
      ]
     },
     "execution_count": 47,
     "metadata": {},
     "output_type": "execute_result"
    },
    {
     "data": {
      "image/png": "[encoded data removed]",
      "text/plain": [
       "<Figure size 640x480 with 1 Axes>"
      ]
     },
     "metadata": {},
     "output_type": "display_data"
    }
   ],
   "source": [
    "import matplotlib.pyplot as plt\n",
    "plt.imshow(x1, cmap='gray')\n",
    "\n",
    "plt.imshow(imgs[0], cmap='gray') \n",
    "# plt.imshow는 이미지 여러개를 보여주는 기능이 없음"
   ]
  },
  {
   "cell_type": "code",
   "execution_count": 61,
   "id": "2f8435ca",
   "metadata": {},
   "outputs": [
    {
     "name": "stdout",
     "output_type": "stream",
     "text": [
      "(2, 10)\n",
      "(2, 2, 5)\n"
     ]
    }
   ],
   "source": [
    "x1=[1,2,3,4,5,6,7,8,9,10]\n",
    "x2=[1,2,1,2,1,2,1,2,1,2]\n",
    "imgs=np.array([x1,x2])\n",
    "print(imgs.shape) # type이 array인 것은 .shape 가능 but type이 list이면 .shape 불가능 -> np.shape 사용\n",
    "imgs=imgs.reshape(2,2,-1) \n",
    "print(imgs.shape) # reshape도 shape와 동일"
   ]
  },
  {
   "cell_type": "code",
   "execution_count": 62,
   "id": "8f8c2c91",
   "metadata": {},
   "outputs": [
    {
     "data": {
      "text/plain": [
       "\"\\nsample_cnt=5\\nfor cnt,x in enumerate(imgs[:sample_cnt]): # enumerate : 열거형 for문\\n    cnt+=1\\n    plt.subplot(1,sample_cnt, cnt)  # len(imgs) => np.shape(imgs)[0]\\n    plt.imshow(x, cmap='gray')\\n\""
      ]
     },
     "execution_count": 62,
     "metadata": {},
     "output_type": "execute_result"
    },
    {
     "data": {
      "image/png": "[encoded data removed]",
      "text/plain": [
       "<Figure size 640x480 with 2 Axes>"
      ]
     },
     "metadata": {},
     "output_type": "display_data"
    }
   ],
   "source": [
    "cnt = 0\n",
    "for x in imgs:\n",
    "    cnt+=1\n",
    "    plt.subplot(1,len(imgs), cnt)  # len(imgs) => np.shape(imgs)[0]\n",
    "    plt.imshow(x, cmap='gray')\n",
    "# 이미지 동시 출력\n",
    "# 이미지인덱싱을 통해서만 확인 가능\n",
    "\n",
    "\"\"\"\n",
    "cnt = 0, sample_cnt=5\n",
    "for x in imgs[:sample_cnt]:\n",
    "    cnt+=1\n",
    "    plt.subplot(1,sample_cnt, cnt)  # len(imgs) => np.shape(imgs)[0]\n",
    "    plt.imshow(x, cmap='gray')\n",
    "\"\"\"\n",
    "\n",
    "\"\"\"\n",
    "sample_cnt=5\n",
    "for cnt,x in enumerate(imgs[:sample_cnt]): # enumerate : 열거형 for문\n",
    "    cnt+=1\n",
    "    plt.subplot(1,sample_cnt, cnt)  # len(imgs) => np.shape(imgs)[0]\n",
    "    plt.imshow(x, cmap='gray')\n",
    "\"\"\""
   ]
  },
  {
   "cell_type": "code",
   "execution_count": null,
   "id": "f2773f46",
   "metadata": {},
   "outputs": [],
   "source": []
  },
  {
   "cell_type": "code",
   "execution_count": 77,
   "id": "2af340cb",
   "metadata": {},
   "outputs": [
    {
     "data": {
      "text/plain": [
       "<matplotlib.image.AxesImage at 0x29315aaf590>"
      ]
     },
     "execution_count": 77,
     "metadata": {},
     "output_type": "execute_result"
    },
    {
     "data": {
      "image/png": "[encoded data removed]",
      "text/plain": [
       "<Figure size 640x480 with 1 Axes>"
      ]
     },
     "metadata": {},
     "output_type": "display_data"
    }
   ],
   "source": [
    "y=np.random.normal(size=2500)\n",
    "y[y<0]=100 # 조건 값이 작을수록 어두움\n",
    "np.min(y), np.max(y)\n",
    "#x=np.arange(len(y))\n",
    "#plt.bar(x,y)\n",
    "#plt.hist(y)\n",
    "img=y.reshape(50,50)\n",
    "#img[img>100]=0\n",
    "plt.imshow(img, cmap='gray')"
   ]
  },
  {
   "cell_type": "code",
   "execution_count": 85,
   "id": "f4c357df",
   "metadata": {},
   "outputs": [
    {
     "data": {
      "text/plain": [
       "array([[50, 50, 50, 50, 50],\n",
       "       [ 5,  6,  7,  8,  9],\n",
       "       [10, 11, 12, 13, 14]])"
      ]
     },
     "execution_count": 85,
     "metadata": {},
     "output_type": "execute_result"
    }
   ],
   "source": [
    "a=np.arange(15).reshape(3,5)\n",
    "for row, rowdata in enumerate(a):\n",
    "    #print(row)\n",
    "    for col, coldata in enumerate(rowdata):\n",
    "        if coldata < 5:\n",
    "            a[row][col]=50\n",
    "            #print(col)\n",
    "            #print('-'*50)\n",
    "a"
   ]
  },
  {
   "cell_type": "code",
   "execution_count": 88,
   "id": "a6e122f0",
   "metadata": {},
   "outputs": [
    {
     "data": {
      "text/plain": [
       "array([[50, 50, 50, 50, 50],\n",
       "       [ 5,  6,  7,  8,  9],\n",
       "       [10, 11, 12, 13, 14]])"
      ]
     },
     "execution_count": 88,
     "metadata": {},
     "output_type": "execute_result"
    }
   ],
   "source": [
    "a=np.arange(15).reshape(3,5)\n",
    "a[a<5]=50\n",
    "a\n",
    "# array 구조에서는 for보다 numpy 명령을 사용하는 것을 권장함\n",
    "# arange는 차트 생성 시에 사용 -> x 변수 setting\n"
   ]
  },
  {
   "cell_type": "code",
   "execution_count": 90,
   "id": "397143b7",
   "metadata": {},
   "outputs": [
    {
     "data": {
      "text/plain": [
       "array([[150, 150, 150, 150, 150],\n",
       "       [105, 106, 107, 108, 109],\n",
       "       [110, 111, 112, 113, 114]])"
      ]
     },
     "execution_count": 90,
     "metadata": {},
     "output_type": "execute_result"
    }
   ],
   "source": [
    "# 브로드캐스트\n",
    "a+100"
   ]
  },
  {
   "cell_type": "code",
   "execution_count": null,
   "id": "bb331104",
   "metadata": {},
   "outputs": [],
   "source": [
    "b=np.zeros((3,5))\n",
    "b[...]=100\n",
    "# b+100과 동일한 작업"
   ]
  },
  {
   "cell_type": "code",
   "execution_count": 94,
   "id": "d710ce64",
   "metadata": {},
   "outputs": [
    {
     "data": {
      "text/plain": [
       "array([[100,  50,  50,  50,  50],\n",
       "       [ 55,   6,   7,   8,   9],\n",
       "       [ 60,  11,  12,  13,  14]])"
      ]
     },
     "execution_count": 94,
     "metadata": {},
     "output_type": "execute_result"
    }
   ],
   "source": [
    "a"
   ]
  },
  {
   "cell_type": "code",
   "execution_count": 95,
   "id": "e8890551",
   "metadata": {},
   "outputs": [
    {
     "data": {
      "text/plain": [
       "array([[150,  50,  50,  50,  50],\n",
       "       [105,   6,   7,   8,   9],\n",
       "       [110,  11,  12,  13,  14]])"
      ]
     },
     "execution_count": 95,
     "metadata": {},
     "output_type": "execute_result"
    }
   ],
   "source": [
    "a[:,0]=a[:,0] + 50\n",
    "a # 특정 열의 값만 변경"
   ]
  },
  {
   "cell_type": "code",
   "execution_count": 97,
   "id": "6ac759a1",
   "metadata": {},
   "outputs": [
    {
     "data": {
      "text/plain": [
       "array([[  0,   0,   0,   0,   0],\n",
       "       [105,   6,   7,   8,   9],\n",
       "       [110,  11,  12,  13,  14]])"
      ]
     },
     "execution_count": 97,
     "metadata": {},
     "output_type": "execute_result"
    }
   ],
   "source": [
    "a[0,:]=0\n",
    "a"
   ]
  },
  {
   "cell_type": "code",
   "execution_count": 98,
   "id": "7b3a6f79",
   "metadata": {},
   "outputs": [
    {
     "data": {
      "text/plain": [
       "array([[500, 500, 500, 500, 500],\n",
       "       [500, 500, 500, 500, 500],\n",
       "       [500, 500, 500, 500, 500]])"
      ]
     },
     "execution_count": 98,
     "metadata": {},
     "output_type": "execute_result"
    }
   ],
   "source": [
    "a[:,:]=500\n",
    "a"
   ]
  },
  {
   "cell_type": "code",
   "execution_count": 99,
   "id": "f139b8ee",
   "metadata": {},
   "outputs": [
    {
     "name": "stdout",
     "output_type": "stream",
     "text": [
      "(16, 16, 3)\n"
     ]
    },
    {
     "data": {
      "text/plain": [
       "<matplotlib.image.AxesImage at 0x2931592a810>"
      ]
     },
     "execution_count": 99,
     "metadata": {},
     "output_type": "execute_result"
    },
    {
     "data": {
      "image/png": "[encoded data removed]",
      "text/plain": [
       "<Figure size 640x480 with 1 Axes>"
      ]
     },
     "metadata": {},
     "output_type": "display_data"
    }
   ],
   "source": [
    "import numpy as np\n",
    "import matplotlib.pyplot as plt\n",
    "duckRGB = np.array([\n",
    "[[255,255,255],[255,255,255],[255,255,255],[255,255,255],[255,255,255],[255,255,255],[255,255,255],[255,255,255],[255,255,255],[255,255,255],[255,255,255],[255,255,255],[255,255,255],[255,255,255],[255,255,255],[255,255,255]],\n",
    "[[255,255,255],[255,255,255],[255,255,255],[255,255,255],[255,255,255],[255,255,255],[255,255,255],[255,255,255],[255,255,255],[255,255,255],[255,255,255],[255,255,255],[255,255,255],[255,255,255],[255,255,255],[255,255,255]],\n",
    "[[255,255,255],[255,255,255],[255,255,255],[255,255,255],[255,229,153],[255,229,153],[255,229,153],[255,229,153],[255,229,153],[255,255,255],[255,255,255],[255,255,255],[255,255,255],[255,255,255],[255,255,255],[255,255,255]],\n",
    "[[255,255,255],[255,255,255],[255,255,255],[255,229,153],[255,229,153],[255,229,153],[255,229,153],[255,229,153],[255,229,153],[255,229,153],[255,255,255],[255,255,255],[255,255,255],[255,255,255],[255,255,255],[255,255,255]],\n",
    "[[255,255,255],[255,255,255],[255,255,255],[255,153, 0],[255,229,153],[ 0, 0, 0],[255,229,153],[255,229,153],[255,229,153],[255,229,153],[255,255,255],[255,255,255],[255,255,255],[255,255,255],[255,255,255],[255,255,255]],\n",
    "[[255,255,255],[255,153, 0],[255,153, 0],[255,153, 0],[255,229,153],[255,229,153],[255,229,153],[255,229,153],[255,229,153],[255,229,153],[255,255,255],[255,255,255],[255,255,255],[255,255,255],[255,255,255],[255,255,255]],\n",
    "[[255,255,255],[255,255,255],[255,153, 0],[255,153, 0],[255,153, 0],[255,229,153],[255,229,153],[255,229,153],[255,229,153],[255,255,255],[255,255,255],[255,255,255],[255,255,255],[255,255,255],[255,255,255],[255,255,255]],\n",
    "[[255,255,255],[255,255,255],[255,255,255],[255,255,255],[255,229,153],[255,229,153],[255,229,153],[255,229,153],[255,255,255],[255,229,153],[255,229,153],[255,229,153],[255,255,255],[255,229,153],[255,255,255],[255,255,255]],\n",
    "[[255,255,255],[255,255,255],[255,255,255],[255,229,153],[255,229,153],[255,229,153],[255,229,153],[255,229,153],[255,229,153],[255,229,153],[255,229,153],[255,229,153],[ 0, 0, 0],[255,229,153],[255,255,255],[255,255,255]],\n",
    "[[255,255,255],[255,255,255],[255,229,153],[255,229,153],[255,229,153],[255,229,153],[255,229,153],[ 0, 0, 0],[255,229,153],[255,229,153],[255,229,153],[ 0, 0, 0],[255,229,153],[255,229,153],[255,255,255],[255,255,255]],\n",
    "[[255,255,255],[255,255,255],[255,229,153],[255,229,153],[255,229,153],[255,229,153],[255,229,153],[255,229,153],[ 0, 0, 0],[ 0, 0, 0],[ 0, 0, 0],[255,229,153],[255,229,153],[255,229,153],[255,255,255],[255,255,255]],\n",
    "[[ 74,134,232],[ 74,134,232],[255,229,153],[255,229,153],[255,229,153],[255,229,153],[255,229,153],[255,229,153],[255,229,153],[255,229,153],[255,229,153],[255,229,153],[255,229,153],[255,229,153],[ 74,134,232],[ 74,134,232]],\n",
    "[[ 74,134,232],[ 74,134,232],[ 74,134,232],[255,229,153],[255,229,153],[255,229,153],[255,229,153],[255,229,153],[255,229,153],[255,229,153],[255,229,153],[255,229,153],[255,229,153],[ 74,134,232],[ 74,134,232],[ 74,134,232]],\n",
    "[[ 74,134,232],[ 74,134,232],[ 74,134,232],[ 74,134,232],[255,229,153],[255,229,153],[255,229,153],[255,229,153],[255,229,153],[255,229,153],[255,229,153],[255,229,153],[ 74,134,232],[ 74,134,232],[ 74,134,232],[ 74,134,232]],\n",
    "[[ 74,134,232],[ 74,134,232],[ 74,134,232],[ 74,134,232],[ 74,134,232],[ 74,134,232],[ 74,134,232],[ 74,134,232],[ 74,134,232],[ 74,134,232],[ 74,134,232],[ 74,134,232],[ 74,134,232],[ 74,134,232],[ 74,134,232],[ 74,134,232]],\n",
    "[[ 74,134,232],[ 74,134,232],[ 74,134,232],[ 74,134,232],[ 74,134,232],[ 74,134,232],[ 74,134,232],[ 74,134,232],[ 74,134,232],[ 74,134,232],[ 74,134,232],[ 74,134,232],[ 74,134,232],[ 74,134,232],[ 74,134,232],[ 74,134,232]],\n",
    "], dtype=np.uint8)\n",
    "print(duckRGB.shape)\n",
    "plt.imshow(duckRGB)"
   ]
  },
  {
   "cell_type": "code",
   "execution_count": 100,
   "id": "25b1c1d5",
   "metadata": {},
   "outputs": [
    {
     "data": {
      "text/plain": [
       "array([[[ True,  True,  True],\n",
       "        [ True,  True,  True],\n",
       "        [ True,  True,  True],\n",
       "        [ True,  True,  True],\n",
       "        [ True,  True,  True],\n",
       "        [ True,  True,  True],\n",
       "        [ True,  True,  True],\n",
       "        [ True,  True,  True],\n",
       "        [ True,  True,  True],\n",
       "        [ True,  True,  True],\n",
       "        [ True,  True,  True],\n",
       "        [ True,  True,  True],\n",
       "        [ True,  True,  True],\n",
       "        [ True,  True,  True],\n",
       "        [ True,  True,  True],\n",
       "        [ True,  True,  True]],\n",
       "\n",
       "       [[ True,  True,  True],\n",
       "        [ True,  True,  True],\n",
       "        [ True,  True,  True],\n",
       "        [ True,  True,  True],\n",
       "        [ True,  True,  True],\n",
       "        [ True,  True,  True],\n",
       "        [ True,  True,  True],\n",
       "        [ True,  True,  True],\n",
       "        [ True,  True,  True],\n",
       "        [ True,  True,  True],\n",
       "        [ True,  True,  True],\n",
       "        [ True,  True,  True],\n",
       "        [ True,  True,  True],\n",
       "        [ True,  True,  True],\n",
       "        [ True,  True,  True],\n",
       "        [ True,  True,  True]],\n",
       "\n",
       "       [[ True,  True,  True],\n",
       "        [ True,  True,  True],\n",
       "        [ True,  True,  True],\n",
       "        [ True,  True,  True],\n",
       "        [ True, False, False],\n",
       "        [ True, False, False],\n",
       "        [ True, False, False],\n",
       "        [ True, False, False],\n",
       "        [ True, False, False],\n",
       "        [ True,  True,  True],\n",
       "        [ True,  True,  True],\n",
       "        [ True,  True,  True],\n",
       "        [ True,  True,  True],\n",
       "        [ True,  True,  True],\n",
       "        [ True,  True,  True],\n",
       "        [ True,  True,  True]],\n",
       "\n",
       "       [[ True,  True,  True],\n",
       "        [ True,  True,  True],\n",
       "        [ True,  True,  True],\n",
       "        [ True, False, False],\n",
       "        [ True, False, False],\n",
       "        [ True, False, False],\n",
       "        [ True, False, False],\n",
       "        [ True, False, False],\n",
       "        [ True, False, False],\n",
       "        [ True, False, False],\n",
       "        [ True,  True,  True],\n",
       "        [ True,  True,  True],\n",
       "        [ True,  True,  True],\n",
       "        [ True,  True,  True],\n",
       "        [ True,  True,  True],\n",
       "        [ True,  True,  True]],\n",
       "\n",
       "       [[ True,  True,  True],\n",
       "        [ True,  True,  True],\n",
       "        [ True,  True,  True],\n",
       "        [ True, False, False],\n",
       "        [ True, False, False],\n",
       "        [False, False, False],\n",
       "        [ True, False, False],\n",
       "        [ True, False, False],\n",
       "        [ True, False, False],\n",
       "        [ True, False, False],\n",
       "        [ True,  True,  True],\n",
       "        [ True,  True,  True],\n",
       "        [ True,  True,  True],\n",
       "        [ True,  True,  True],\n",
       "        [ True,  True,  True],\n",
       "        [ True,  True,  True]],\n",
       "\n",
       "       [[ True,  True,  True],\n",
       "        [ True, False, False],\n",
       "        [ True, False, False],\n",
       "        [ True, False, False],\n",
       "        [ True, False, False],\n",
       "        [ True, False, False],\n",
       "        [ True, False, False],\n",
       "        [ True, False, False],\n",
       "        [ True, False, False],\n",
       "        [ True, False, False],\n",
       "        [ True,  True,  True],\n",
       "        [ True,  True,  True],\n",
       "        [ True,  True,  True],\n",
       "        [ True,  True,  True],\n",
       "        [ True,  True,  True],\n",
       "        [ True,  True,  True]],\n",
       "\n",
       "       [[ True,  True,  True],\n",
       "        [ True,  True,  True],\n",
       "        [ True, False, False],\n",
       "        [ True, False, False],\n",
       "        [ True, False, False],\n",
       "        [ True, False, False],\n",
       "        [ True, False, False],\n",
       "        [ True, False, False],\n",
       "        [ True, False, False],\n",
       "        [ True,  True,  True],\n",
       "        [ True,  True,  True],\n",
       "        [ True,  True,  True],\n",
       "        [ True,  True,  True],\n",
       "        [ True,  True,  True],\n",
       "        [ True,  True,  True],\n",
       "        [ True,  True,  True]],\n",
       "\n",
       "       [[ True,  True,  True],\n",
       "        [ True,  True,  True],\n",
       "        [ True,  True,  True],\n",
       "        [ True,  True,  True],\n",
       "        [ True, False, False],\n",
       "        [ True, False, False],\n",
       "        [ True, False, False],\n",
       "        [ True, False, False],\n",
       "        [ True,  True,  True],\n",
       "        [ True, False, False],\n",
       "        [ True, False, False],\n",
       "        [ True, False, False],\n",
       "        [ True,  True,  True],\n",
       "        [ True, False, False],\n",
       "        [ True,  True,  True],\n",
       "        [ True,  True,  True]],\n",
       "\n",
       "       [[ True,  True,  True],\n",
       "        [ True,  True,  True],\n",
       "        [ True,  True,  True],\n",
       "        [ True, False, False],\n",
       "        [ True, False, False],\n",
       "        [ True, False, False],\n",
       "        [ True, False, False],\n",
       "        [ True, False, False],\n",
       "        [ True, False, False],\n",
       "        [ True, False, False],\n",
       "        [ True, False, False],\n",
       "        [ True, False, False],\n",
       "        [False, False, False],\n",
       "        [ True, False, False],\n",
       "        [ True,  True,  True],\n",
       "        [ True,  True,  True]],\n",
       "\n",
       "       [[ True,  True,  True],\n",
       "        [ True,  True,  True],\n",
       "        [ True, False, False],\n",
       "        [ True, False, False],\n",
       "        [ True, False, False],\n",
       "        [ True, False, False],\n",
       "        [ True, False, False],\n",
       "        [False, False, False],\n",
       "        [ True, False, False],\n",
       "        [ True, False, False],\n",
       "        [ True, False, False],\n",
       "        [False, False, False],\n",
       "        [ True, False, False],\n",
       "        [ True, False, False],\n",
       "        [ True,  True,  True],\n",
       "        [ True,  True,  True]],\n",
       "\n",
       "       [[ True,  True,  True],\n",
       "        [ True,  True,  True],\n",
       "        [ True, False, False],\n",
       "        [ True, False, False],\n",
       "        [ True, False, False],\n",
       "        [ True, False, False],\n",
       "        [ True, False, False],\n",
       "        [ True, False, False],\n",
       "        [False, False, False],\n",
       "        [False, False, False],\n",
       "        [False, False, False],\n",
       "        [ True, False, False],\n",
       "        [ True, False, False],\n",
       "        [ True, False, False],\n",
       "        [ True,  True,  True],\n",
       "        [ True,  True,  True]],\n",
       "\n",
       "       [[False, False, False],\n",
       "        [False, False, False],\n",
       "        [ True, False, False],\n",
       "        [ True, False, False],\n",
       "        [ True, False, False],\n",
       "        [ True, False, False],\n",
       "        [ True, False, False],\n",
       "        [ True, False, False],\n",
       "        [ True, False, False],\n",
       "        [ True, False, False],\n",
       "        [ True, False, False],\n",
       "        [ True, False, False],\n",
       "        [ True, False, False],\n",
       "        [ True, False, False],\n",
       "        [False, False, False],\n",
       "        [False, False, False]],\n",
       "\n",
       "       [[False, False, False],\n",
       "        [False, False, False],\n",
       "        [False, False, False],\n",
       "        [ True, False, False],\n",
       "        [ True, False, False],\n",
       "        [ True, False, False],\n",
       "        [ True, False, False],\n",
       "        [ True, False, False],\n",
       "        [ True, False, False],\n",
       "        [ True, False, False],\n",
       "        [ True, False, False],\n",
       "        [ True, False, False],\n",
       "        [ True, False, False],\n",
       "        [False, False, False],\n",
       "        [False, False, False],\n",
       "        [False, False, False]],\n",
       "\n",
       "       [[False, False, False],\n",
       "        [False, False, False],\n",
       "        [False, False, False],\n",
       "        [False, False, False],\n",
       "        [ True, False, False],\n",
       "        [ True, False, False],\n",
       "        [ True, False, False],\n",
       "        [ True, False, False],\n",
       "        [ True, False, False],\n",
       "        [ True, False, False],\n",
       "        [ True, False, False],\n",
       "        [ True, False, False],\n",
       "        [False, False, False],\n",
       "        [False, False, False],\n",
       "        [False, False, False],\n",
       "        [False, False, False]],\n",
       "\n",
       "       [[False, False, False],\n",
       "        [False, False, False],\n",
       "        [False, False, False],\n",
       "        [False, False, False],\n",
       "        [False, False, False],\n",
       "        [False, False, False],\n",
       "        [False, False, False],\n",
       "        [False, False, False],\n",
       "        [False, False, False],\n",
       "        [False, False, False],\n",
       "        [False, False, False],\n",
       "        [False, False, False],\n",
       "        [False, False, False],\n",
       "        [False, False, False],\n",
       "        [False, False, False],\n",
       "        [False, False, False]],\n",
       "\n",
       "       [[False, False, False],\n",
       "        [False, False, False],\n",
       "        [False, False, False],\n",
       "        [False, False, False],\n",
       "        [False, False, False],\n",
       "        [False, False, False],\n",
       "        [False, False, False],\n",
       "        [False, False, False],\n",
       "        [False, False, False],\n",
       "        [False, False, False],\n",
       "        [False, False, False],\n",
       "        [False, False, False],\n",
       "        [False, False, False],\n",
       "        [False, False, False],\n",
       "        [False, False, False],\n",
       "        [False, False, False]]])"
      ]
     },
     "execution_count": 100,
     "metadata": {},
     "output_type": "execute_result"
    }
   ],
   "source": [
    "duckRGB[:,:,:]==[255,255,255] # (255,255,255) : white"
   ]
  },
  {
   "cell_type": "code",
   "execution_count": 101,
   "id": "9c491fef",
   "metadata": {},
   "outputs": [
    {
     "name": "stdout",
     "output_type": "stream",
     "text": [
      "(16, 16)\n"
     ]
    },
    {
     "data": {
      "image/png": "[encoded data removed]",
      "text/plain": [
       "<Figure size 640x480 with 1 Axes>"
      ]
     },
     "metadata": {},
     "output_type": "display_data"
    }
   ],
   "source": [
    "import numpy as np\n",
    "import matplotlib.pyplot as plt\n",
    "# 16x16 픽셀\n",
    "duckGray = np.array([\n",
    "[255,255,255,255,255,255,255,255,255,255,255,255,255,255,255,255],\n",
    "[255,255,255,255,255,255,255,255,255,255,255,255,255,255,255,255],\n",
    "[255,255,255,255,201,201,201,201,201,255,255,255,255,255,255,255],\n",
    "[255,255,255,201,201,201,201,201,201,201,255,255,255,255,255,255],\n",
    "[255,255,255,150,201, 0,201,201,201,201,255,255,255,255,255,255],\n",
    "[255,150,150,150,201,201,201,201,201,201,255,255,255,255,255,255],\n",
    "[255,255,150,150,150,201,201,201,201,255,255,255,255,255,255,255],\n",
    "[255,255,255,255,201,201,201,201,255,201,201,201,255,201,255,255],\n",
    "[255,255,255,201,201,201,201,201,201,201,201,201, 0,201,255,255],\n",
    "[255,255,201,201,201,201,201, 0,201,201,201, 0,201,201,255,255],\n",
    "[255,255,201,201,201,201,201,201, 0, 0, 0,201,201,201,255,255],\n",
    "[ 50, 50,201,201,201,201,201,201,201,201,201,201,201,201, 50, 50],\n",
    "[ 50, 50, 50,201,201,201,201,201,201,201,201,201,201, 50, 50, 50],\n",
    "[ 50, 50, 50, 50,201,201,201,201,201,201,201,201, 50, 50, 50, 50],\n",
    "[ 50, 50, 50, 50, 50, 50, 50, 50, 50, 50, 50, 50, 50, 50, 50, 50],\n",
    "[ 50, 50, 50, 50, 50, 50, 50, 50, 50, 50, 50, 50, 50, 50, 50, 50],\n",
    "], dtype=np.uint8)\n",
    "print(duckGray.shape)\n",
    "plt.imshow(duckGray, cmap='gray')\n",
    "plt.show()"
   ]
  },
  {
   "cell_type": "code",
   "execution_count": 113,
   "id": "19495487",
   "metadata": {},
   "outputs": [
    {
     "data": {
      "text/plain": [
       "<matplotlib.image.AxesImage at 0x29317317fd0>"
      ]
     },
     "execution_count": 113,
     "metadata": {},
     "output_type": "execute_result"
    },
    {
     "data": {
      "image/png": "[encoded data removed]",
      "text/plain": [
       "<Figure size 640x480 with 1 Axes>"
      ]
     },
     "metadata": {},
     "output_type": "display_data"
    }
   ],
   "source": [
    "duckGray[:3,:]=0 #행은 3까지, 열음 모두 보기\n",
    "plt.imshow(duckGray, cmap='gray')\n",
    "\n",
    "\n",
    "duckGray[-1:,:]=255\n",
    "plt.imshow(duckGray, cmap='gray')\n",
    "\n",
    "duckGray[:,0]=255\n",
    "plt.imshow(duckGray, cmap='gray')\n",
    "\n",
    "duckGray[:,-1]=255\n",
    "plt.imshow(duckGray, cmap='gray')"
   ]
  },
  {
   "cell_type": "code",
   "execution_count": 114,
   "id": "b349b038",
   "metadata": {},
   "outputs": [
    {
     "data": {
      "text/plain": [
       "<matplotlib.image.AxesImage at 0x293172f9c10>"
      ]
     },
     "execution_count": 114,
     "metadata": {},
     "output_type": "execute_result"
    },
    {
     "data": {
      "image/png": "[encoded data removed]",
      "text/plain": [
       "<Figure size 640x480 with 1 Axes>"
      ]
     },
     "metadata": {},
     "output_type": "display_data"
    }
   ],
   "source": [
    "back=np.zeros((16,16))\n",
    "plt.imshow(back,cmap='gray')\n",
    "back[2:14,2:14]=duckGray[2:14,2:14]\n",
    "plt.imshow(back,cmap='gray')"
   ]
  }
 ],
 "metadata": {
  "kernelspec": {
   "display_name": "Python 3 (ipykernel)",
   "language": "python",
   "name": "python3"
  },
  "language_info": {
   "codemirror_mode": {
    "name": "ipython",
    "version": 3
   },
   "file_extension": ".py",
   "mimetype": "text/x-python",
   "name": "python",
   "nbconvert_exporter": "python",
   "pygments_lexer": "ipython3",
   "version": "3.11.3"
  }
 },
 "nbformat": 4,
 "nbformat_minor": 5
}

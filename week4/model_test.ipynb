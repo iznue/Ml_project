{
 "cells": [
  {
   "cell_type": "code",
   "execution_count": 1,
   "metadata": {},
   "outputs": [],
   "source": [
    "import tensorflow as tf\n",
    "\n",
    "from tensorflow.keras import datasets, layers, models\n",
    "import matplotlib.pyplot as plt"
   ]
  },
  {
   "cell_type": "code",
   "execution_count": 2,
   "metadata": {},
   "outputs": [],
   "source": [
    "(train_images, train_labels), (test_images, test_labels) = datasets.cifar10.load_data()\n",
    "\n",
    "# Normalize pixel values to be between 0 and 1\n",
    "train_images, test_images = train_images / 255.0, test_images / 255.0"
   ]
  },
  {
   "cell_type": "code",
   "execution_count": 3,
   "metadata": {},
   "outputs": [
    {
     "name": "stdout",
     "output_type": "stream",
     "text": [
      "Epoch 1/10\n",
      "1/1 [==============================] - 5s 5s/step - loss: 2.2885 - accuracy: 0.1333 - val_loss: 2.3377 - val_accuracy: 0.1333\n",
      "Epoch 2/10\n",
      "1/1 [==============================] - 0s 20ms/step - loss: 2.2290 - accuracy: 0.1667 - val_loss: 2.3724 - val_accuracy: 0.1333\n",
      "Epoch 3/10\n",
      "1/1 [==============================] - 0s 23ms/step - loss: 2.1672 - accuracy: 0.1667 - val_loss: 2.4573 - val_accuracy: 0.1333\n",
      "Epoch 4/10\n",
      "1/1 [==============================] - 0s 20ms/step - loss: 2.1149 - accuracy: 0.1667 - val_loss: 2.5900 - val_accuracy: 0.1333\n",
      "Epoch 5/10\n",
      "1/1 [==============================] - 0s 20ms/step - loss: 2.0696 - accuracy: 0.1667 - val_loss: 2.6830 - val_accuracy: 0.1333\n",
      "Epoch 6/10\n",
      "1/1 [==============================] - 0s 21ms/step - loss: 2.0253 - accuracy: 0.2000 - val_loss: 2.7519 - val_accuracy: 0.0667\n",
      "Epoch 7/10\n",
      "1/1 [==============================] - 0s 19ms/step - loss: 1.9881 - accuracy: 0.3333 - val_loss: 2.7892 - val_accuracy: 0.1000\n",
      "Epoch 8/10\n",
      "1/1 [==============================] - 0s 21ms/step - loss: 1.9302 - accuracy: 0.4000 - val_loss: 2.8166 - val_accuracy: 0.2333\n",
      "Epoch 9/10\n",
      "1/1 [==============================] - 0s 20ms/step - loss: 1.8675 - accuracy: 0.3000 - val_loss: 2.8360 - val_accuracy: 0.2667\n",
      "Epoch 10/10\n",
      "1/1 [==============================] - 0s 22ms/step - loss: 1.8043 - accuracy: 0.3333 - val_loss: 2.8133 - val_accuracy: 0.2333\n"
     ]
    }
   ],
   "source": [
    "model = models.Sequential()\n",
    "model.add(layers.Conv2D(32, (3, 3), activation='relu', input_shape=(32, 32, 3)))\n",
    "model.add(layers.MaxPooling2D((2, 2)))\n",
    "model.add(layers.Conv2D(64, (3, 3), activation='relu'))\n",
    "model.add(layers.MaxPooling2D((2, 2)))\n",
    "model.add(layers.Conv2D(64, (3, 3), activation='relu'))\n",
    "model.add(layers.Flatten())\n",
    "model.add(layers.Dense(64, activation='relu'))\n",
    "model.add(layers.Dense(10))\n",
    "\n",
    "model.compile(optimizer='adam',\n",
    "              loss=tf.keras.losses.SparseCategoricalCrossentropy(from_logits=True),\n",
    "              metrics=['accuracy'])\n",
    "\n",
    "history = model.fit(train_images[:30], train_labels[:30], epochs=10, \n",
    "                    validation_data=(test_images[:30], test_labels[:30]))"
   ]
  }
 ],
 "metadata": {
  "kernelspec": {
   "display_name": "gpu",
   "language": "python",
   "name": "python3"
  },
  "language_info": {
   "codemirror_mode": {
    "name": "ipython",
    "version": 3
   },
   "file_extension": ".py",
   "mimetype": "text/x-python",
   "name": "python",
   "nbconvert_exporter": "python",
   "pygments_lexer": "ipython3",
   "version": "3.9.16"
  },
  "orig_nbformat": 4
 },
 "nbformat": 4,
 "nbformat_minor": 2
}

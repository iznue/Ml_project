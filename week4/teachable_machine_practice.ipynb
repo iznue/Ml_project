{
 "cells": [
  {
   "cell_type": "code",
   "execution_count": 1,
   "metadata": {},
   "outputs": [
    {
     "name": "stdout",
     "output_type": "stream",
     "text": [
      "WARNING:tensorflow:No training configuration found in the save file, so the model was *not* compiled. Compile it manually.\n",
      "Model: \"sequential_8\"\n",
      "_________________________________________________________________\n",
      " Layer (type)                Output Shape              Param #   \n",
      "=================================================================\n",
      " sequential_5 (Sequential)   (None, 1280)              410208    \n",
      "                                                                 \n",
      " sequential_7 (Sequential)   (None, 2)                 128300    \n",
      "                                                                 \n",
      "=================================================================\n",
      "Total params: 538,508\n",
      "Trainable params: 524,428\n",
      "Non-trainable params: 14,080\n",
      "_________________________________________________________________\n"
     ]
    }
   ],
   "source": [
    "import tensorflow as tf\n",
    "\n",
    "model=tf.keras.models.load_model('c:/data/teachable_machine_test/keras_model.h5.')\n",
    "\n",
    "model.summary()\n",
    "# 1280개의 경우의 수를 가짐\n",
    "# shape : 2 -> 가위, 보"
   ]
  },
  {
   "cell_type": "code",
   "execution_count": 2,
   "metadata": {},
   "outputs": [
    {
     "ename": "",
     "evalue": "",
     "output_type": "error",
     "traceback": [
      "\u001b[1;31mCannot execute code, session has been disposed. Please try restarting the Kernel."
     ]
    },
    {
     "ename": "",
     "evalue": "",
     "output_type": "error",
     "traceback": [
      "\u001b[1;31mThe Kernel crashed while executing code in the the current cell or a previous cell. Please review the code in the cell(s) to identify a possible cause of the failure. Click <a href='https://aka.ms/vscodeJupyterKernelCrash'>here</a> for more info. View Jupyter <a href='command:jupyter.viewOutput'>log</a> for further details."
     ]
    }
   ],
   "source": [
    "from PIL import Image\n",
    "import numpy as np\n",
    "import matplotlib.pyplot as plt\n",
    "\n",
    "img=Image.open('c:/data/teachable_machine_test/example.png').resize((224,224)).convert('RGB')\n",
    "# print(np.shape(img)) #(224,224,3)\n",
    "img=np.array(img) # 행렬변환\n",
    "img=(img/127.5)-1 # teachable machine의 스케일링\n",
    "# 사진을 더 명확하게 나누는 방법으로 흰색과 어두운 색의 영역을 극명하게 나눔 - 밝은 것은 더 밝게, 어두운 것은 더 어둡게\n",
    "# plt.imshow(img)\n",
    "img=np.reshape(img, (1,224,224,3))\n",
    "\n",
    "result1=model.predict(img)\n",
    "result2=np.argmax(result1)\n",
    "print(result2)\n",
    "class_name=['가위','보']\n",
    "class_name[result2]"
   ]
  },
  {
   "cell_type": "code",
   "execution_count": 3,
   "metadata": {},
   "outputs": [
    {
     "ename": "",
     "evalue": "",
     "output_type": "error",
     "traceback": [
      "\u001b[1;31mCannot execute code, session has been disposed. Please try restarting the Kernel."
     ]
    },
    {
     "ename": "",
     "evalue": "",
     "output_type": "error",
     "traceback": [
      "\u001b[1;31mThe Kernel crashed while executing code in the the current cell or a previous cell. Please review the code in the cell(s) to identify a possible cause of the failure. Click <a href='https://aka.ms/vscodeJupyterKernelCrash'>here</a> for more info. View Jupyter <a href='command:jupyter.viewOutput'>log</a> for further details."
     ]
    }
   ],
   "source": [
    "from keras.models import load_model  # TensorFlow is required for Keras to work\n",
    "from PIL import Image, ImageOps  # Install pillow instead of PIL\n",
    "import numpy as np\n",
    "\n",
    "np.set_printoptions(suppress=True)\n",
    "\n",
    "model = load_model(\"c:/data/teachable_machine_test/keras_model.h5\", compile=False)\n",
    "# class_names = open(\"c:/data/teachable_machine_test/labels.txt\", \"r\").readlines()\n",
    "image = Image.open(\"c:/data/teachable_machine_test/example.png\").convert(\"RGB\")\n",
    "size = (224, 224)\n",
    "image = ImageOps.fit(image, size, Image.Resampling.LANCZOS)\n",
    "\n",
    "# turn the image into a numpy array\n",
    "image_array = np.asarray(image)\n",
    "\n",
    "# Normalize the image\n",
    "normalized_image_array = (image_array.astype(np.float32) / 127.5) - 1\n",
    "\n",
    "# Load the image into the array\n",
    "data = np.ndarray(shape=(1, 224, 224, 3), dtype=np.float32)  # 모델에 들어갈 자룔 셋의 크기를 미리 준비\n",
    "data[0] = normalized_image_array  # 준비한 자료셋에 내 이미지 넣기\n",
    "\n",
    "# Predicts the model\n",
    "prediction = model.predict(data) # 예측 결과는 [0의 위치 확률값, 1의 위치 확률값....]\n",
    "index = np.argmax(prediction)  # 가장 큰 값을 갖고 있는 위치 값\n",
    "# class_name = class_names[index]  # 라벨\n",
    "# confidence_score = prediction[0][index]\n",
    "\n",
    "# # Print prediction and confidence score\n",
    "# print(\"Class:\", class_name[2:], end=\"\")\n",
    "# print(\"Confidence Score:\", confidence_score)\n",
    "index"
   ]
  }
 ],
 "metadata": {
  "kernelspec": {
   "display_name": "gpu",
   "language": "python",
   "name": "python3"
  },
  "language_info": {
   "codemirror_mode": {
    "name": "ipython",
    "version": 3
   },
   "file_extension": ".py",
   "mimetype": "text/x-python",
   "name": "python",
   "nbconvert_exporter": "python",
   "pygments_lexer": "ipython3",
   "version": "3.9.16"
  },
  "orig_nbformat": 4
 },
 "nbformat": 4,
 "nbformat_minor": 2
}

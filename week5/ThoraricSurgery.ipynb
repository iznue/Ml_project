{
 "cells": [
  {
   "attachments": {},
   "cell_type": "markdown",
   "metadata": {},
   "source": [
    "### 1. 환경 준비 "
   ]
  },
  {
   "cell_type": "code",
   "execution_count": 1,
   "metadata": {},
   "outputs": [],
   "source": [
    "# 텐서플로 라이브러리 안에 있는 케라스 API에서 필요한 함수들을 불러옵니다.\n",
    "from tensorflow.keras.models import Sequential  \n",
    "from tensorflow.keras.layers import Dense   \n",
    "\n",
    "# 데이터를 다루는 데 필요한 라이브러리를 불러옵니다.\n",
    "import numpy as np"
   ]
  },
  {
   "attachments": {},
   "cell_type": "markdown",
   "metadata": {},
   "source": [
    "### 2. 데이터 준비"
   ]
  },
  {
   "cell_type": "code",
   "execution_count": 3,
   "metadata": {},
   "outputs": [
    {
     "data": {
      "text/plain": [
       "((470, 16), (470,))"
      ]
     },
     "execution_count": 3,
     "metadata": {},
     "output_type": "execute_result"
    }
   ],
   "source": [
    "# 준비된 수술 환자 데이터를 불러옵니다.\n",
    "Data_set = np.loadtxt(\"c:/data/data_deeplearning/ThoraricSurgery3.csv\", delimiter=\",\")  \n",
    "X = Data_set[:,0:16]    # 환자의 진찰 기록을 X로 지정합니다.\n",
    "y = Data_set[:,16]      # 수술 1년 후 사망/생존 여부를 y로 지정합니다.\n",
    "np.shape(X), np.shape(y)\n",
    "# x변수 16개, y값은 1개\n",
    "# y값 생존 1, 사망 0으로 되어있음"
   ]
  },
  {
   "attachments": {},
   "cell_type": "markdown",
   "metadata": {},
   "source": [
    "### 3. 구조 결정 "
   ]
  },
  {
   "cell_type": "code",
   "execution_count": 16,
   "metadata": {},
   "outputs": [
    {
     "name": "stdout",
     "output_type": "stream",
     "text": [
      "Model: \"sequential_2\"\n",
      "_________________________________________________________________\n",
      " Layer (type)                Output Shape              Param #   \n",
      "=================================================================\n",
      " dense_4 (Dense)             (None, 30)                510       \n",
      "                                                                 \n",
      " dense_5 (Dense)             (None, 30)                930       \n",
      "                                                                 \n",
      " dense_6 (Dense)             (None, 1)                 31        \n",
      "                                                                 \n",
      "=================================================================\n",
      "Total params: 1,471\n",
      "Trainable params: 1,471\n",
      "Non-trainable params: 0\n",
      "_________________________________________________________________\n"
     ]
    }
   ],
   "source": [
    "# 딥러닝 모델의 구조를 결정합니다.\n",
    "model = Sequential()                                                   \n",
    "model.add(Dense(30, input_dim=16, activation='relu'))  # w:16, b:1 -> 17*30=510\n",
    "model.add(Dense(30, activation='relu'))\n",
    "model.add(Dense(1, activation='sigmoid'))  # w:30, b:1 -> 31*1=31\n",
    "\n",
    "model.summary()"
   ]
  },
  {
   "cell_type": "code",
   "execution_count": 10,
   "metadata": {},
   "outputs": [
    {
     "data": {
      "text/plain": [
       "4"
      ]
     },
     "execution_count": 10,
     "metadata": {},
     "output_type": "execute_result"
    }
   ],
   "source": [
    "len(model.get_weights())\n",
    "# dense 층이 2개이므로 각각의 w,b가 나오기 때문에 len값은 4"
   ]
  },
  {
   "cell_type": "code",
   "execution_count": 11,
   "metadata": {},
   "outputs": [
    {
     "name": "stdout",
     "output_type": "stream",
     "text": [
      "(16, 30)\n",
      "(30,)\n",
      "(30, 1)\n",
      "(1,)\n"
     ]
    }
   ],
   "source": [
    "for x in model.get_weights():\n",
    "    print(np.shape(x))\n",
    "\n",
    "\n",
    "# 배치사이즈를 500으로 한다면 \n",
    "# (16, 30)  Dense(30, input_shape=(16,))의 w값  np.dot((470행*16열), (16행,30열)) -> 출력물은 470행*30열\n",
    "# (30,)  Dense(30, input_shape=(16,))의 b값\n",
    "# (30, 1)  Dense(1, activation='softmax')의 w값  np.dot((470행*30열), (30행,1열)) -> 출력물은 470행*1열\n",
    "# (1,)  Dense(1, activation='softmax')의 b값"
   ]
  },
  {
   "attachments": {},
   "cell_type": "markdown",
   "metadata": {},
   "source": [
    "### 4. 모델 실행 "
   ]
  },
  {
   "cell_type": "code",
   "execution_count": 19,
   "metadata": {},
   "outputs": [
    {
     "name": "stdout",
     "output_type": "stream",
     "text": [
      "Epoch 1/5\n",
      "47/47 [==============================] - 0s 5ms/step - loss: 0.4528 - accuracy: 0.8511\n",
      "Epoch 2/5\n",
      "47/47 [==============================] - 0s 5ms/step - loss: 0.4231 - accuracy: 0.8511\n",
      "Epoch 3/5\n",
      "47/47 [==============================] - 0s 5ms/step - loss: 0.4215 - accuracy: 0.8511\n",
      "Epoch 4/5\n",
      "47/47 [==============================] - 0s 5ms/step - loss: 0.4266 - accuracy: 0.8511\n",
      "Epoch 5/5\n",
      "47/47 [==============================] - 0s 5ms/step - loss: 0.4116 - accuracy: 0.8511\n"
     ]
    }
   ],
   "source": [
    "# 딥러닝 모델을 실행합니다.\n",
    "model.compile(loss='binary_crossentropy', optimizer='adam', metrics=['accuracy']) \n",
    "# history=model.fit(X, y, epochs=5, batch_size=16)\n",
    "history=model.fit(X, y, epochs=5, batch_size=10)\n",
    "\n",
    "# 470/16 = 30\n",
    "\n",
    "# 반드시 train, test를 나눠서 진행해야함\n",
    "# 현재는 안 나눠놓은 상태"
   ]
  }
 ],
 "metadata": {
  "kernelspec": {
   "display_name": "Python 3 (ipykernel)",
   "language": "python",
   "name": "python3"
  },
  "language_info": {
   "codemirror_mode": {
    "name": "ipython",
    "version": 3
   },
   "file_extension": ".py",
   "mimetype": "text/x-python",
   "name": "python",
   "nbconvert_exporter": "python",
   "pygments_lexer": "ipython3",
   "version": "3.9.16"
  }
 },
 "nbformat": 4,
 "nbformat_minor": 2
}

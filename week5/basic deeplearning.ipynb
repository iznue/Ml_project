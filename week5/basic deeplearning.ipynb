{
 "cells": [
  {
   "attachments": {},
   "cell_type": "markdown",
   "metadata": {},
   "source": [
    "##### Basic Deeplearning"
   ]
  },
  {
   "cell_type": "code",
   "execution_count": 2,
   "metadata": {},
   "outputs": [],
   "source": [
    "import numpy as np\n",
    "import tensorflow as tf\n",
    "\n",
    "from tensorflow import keras\n",
    "from tensorflow.keras import layers\n",
    "# 위의 구문을 사용하지 않는 경우 tf.keras, tf.keras.layers와 같이 사용가능"
   ]
  },
  {
   "cell_type": "code",
   "execution_count": 39,
   "metadata": {},
   "outputs": [],
   "source": [
    "x=np.array([1,2,3,4,5,6])\n",
    "y=np.array([10,98,8,2,3,4])\n",
    "\n",
    "tf.random.set_seed(2)\n",
    "\n",
    "input_layer=tf.keras.layers.InputLayer(input_shape=(1,))\n",
    "# (1,) 이 부분은 Dense의 가장 상단으로 입력되는 x변수의 갯수(독립변수, 특징값갯수)\n",
    "hidden_layer1=tf.keras.layers.Dense(units=4,activation='relu')\n",
    "hidden_layer2=tf.keras.layers.Dense(units=3,activation='relu')\n",
    "output_layer=layers.Dense(units=1)  # unit 생략 가능, activation 없으면 wx+b만 동작 (선형회귀)\n",
    "\n",
    "# 순차 처리 구조, (함수처리 구조도 있음)\n",
    "model=keras.Sequential([\n",
    "    input_layer,\n",
    "    hidden_layer1,\n",
    "    hidden_layer2,\n",
    "    output_layer    \n",
    "])\n",
    "# 자동으로 wx+b 수행"
   ]
  },
  {
   "cell_type": "code",
   "execution_count": 40,
   "metadata": {},
   "outputs": [
    {
     "name": "stdout",
     "output_type": "stream",
     "text": [
      "Model: \"sequential_4\"\n",
      "_________________________________________________________________\n",
      " Layer (type)                Output Shape              Param #   \n",
      "=================================================================\n",
      " dense_7 (Dense)             (None, 4)                 8         \n",
      "                                                                 \n",
      " dense_8 (Dense)             (None, 3)                 15        \n",
      "                                                                 \n",
      " dense_9 (Dense)             (None, 1)                 4         \n",
      "                                                                 \n",
      "=================================================================\n",
      "Total params: 27\n",
      "Trainable params: 27\n",
      "Non-trainable params: 0\n",
      "_________________________________________________________________\n"
     ]
    }
   ],
   "source": [
    "model.summary()\n",
    "# x변수 1개 존재 -> w,b값이 들어가서 생성된 것이 2개임 (param)\n",
    "# param이 8개인 이유 x 변수 하나에 w,b가 생성되므로 dense 4 * 2"
   ]
  },
  {
   "cell_type": "code",
   "execution_count": 41,
   "metadata": {},
   "outputs": [
    {
     "data": {
      "text/plain": [
       "[array([[-0.773598  , -0.07830954, -0.6027144 , -0.32230526]],\n",
       "       dtype=float32),\n",
       " array([0., 0., 0., 0.], dtype=float32),\n",
       " array([[ 0.2345941 ,  0.9147757 ,  0.03404182],\n",
       "        [ 0.5407841 ,  0.05537122, -0.70402545],\n",
       "        [-0.9096717 , -0.5788559 , -0.328     ],\n",
       "        [ 0.09359658,  0.703648  , -0.38132793]], dtype=float32),\n",
       " array([0., 0., 0.], dtype=float32),\n",
       " array([[-0.05038762],\n",
       "        [-0.8220296 ],\n",
       "        [-1.178161  ]], dtype=float32),\n",
       " array([0.], dtype=float32)]"
      ]
     },
     "execution_count": 41,
     "metadata": {},
     "output_type": "execute_result"
    }
   ],
   "source": [
    "model.get_weights()\n",
    "# [-0.37941802] : w, [0.] : b"
   ]
  },
  {
   "cell_type": "code",
   "execution_count": 21,
   "metadata": {},
   "outputs": [
    {
     "name": "stdout",
     "output_type": "stream",
     "text": [
      "Epoch 1/3\n",
      "1/1 [==============================] - 0s 173ms/step - loss: 1706.5474 - accuracy: 0.0000e+00\n",
      "Epoch 2/3\n",
      "1/1 [==============================] - 0s 11ms/step - loss: 1706.0323 - accuracy: 0.0000e+00\n",
      "Epoch 3/3\n",
      "1/1 [==============================] - 0s 3ms/step - loss: 1705.6592 - accuracy: 0.0000e+00\n"
     ]
    },
    {
     "data": {
      "text/plain": [
       "['loss', 'accuracy']"
      ]
     },
     "execution_count": 21,
     "metadata": {},
     "output_type": "execute_result"
    }
   ],
   "source": [
    "# model.fit할 때 오차역전파 하는 방법론 (최적화함수 -> optimizer)\n",
    "# model.fit할 때 구축된 모델에서 계산된 값을 (y예측값) 실제 y값과 비교하는 공식(loss function -> 오차 함수)\n",
    "# model.fit할 떄 화면에 출력될 사항 선택 (metrics)\n",
    "model.compile(#optimizer='adam',\n",
    "              loss='mse',\n",
    "              metrics=['accuracy'])\n",
    "\n",
    "hist=model.fit(x,y,epochs=3,verbose=1) # verbose가 0이면 화면 출력x\n",
    "# hist.history['loss']\n",
    "list(hist.history)"
   ]
  },
  {
   "cell_type": "code",
   "execution_count": 22,
   "metadata": {},
   "outputs": [
    {
     "data": {
      "text/plain": [
       "([1706.54736328125, 1706.0323486328125, 1705.6591796875], [0.0, 0.0, 0.0])"
      ]
     },
     "execution_count": 22,
     "metadata": {},
     "output_type": "execute_result"
    }
   ],
   "source": [
    "hist.history['loss'], hist.history['accuracy']"
   ]
  },
  {
   "cell_type": "code",
   "execution_count": 31,
   "metadata": {},
   "outputs": [
    {
     "data": {
      "text/plain": [
       "Text(0.5, 1.0, 'accuracy')"
      ]
     },
     "execution_count": 31,
     "metadata": {},
     "output_type": "execute_result"
    },
    {
     "data": {
      "image/png": "[encoded data removed]",
      "text/plain": [
       "<Figure size 1000x300 with 2 Axes>"
      ]
     },
     "metadata": {},
     "output_type": "display_data"
    }
   ],
   "source": [
    "import matplotlib.pyplot as plt\n",
    "\n",
    "plt.figure(figsize=(10,3))\n",
    "plt.subplot(1,2,1)\n",
    "plt.plot(hist.history['loss'], label='loss')\n",
    "plt.legend(loc='upper right')\n",
    "plt.title('loss')\n",
    "\n",
    "plt.subplot(1,2,2)\n",
    "plt.plot(hist.history['accuracy'], 'r', label='accuracy')\n",
    "plt.legend(loc='lower right')\n",
    "plt.title('accuracy')"
   ]
  },
  {
   "cell_type": "code",
   "execution_count": 14,
   "metadata": {},
   "outputs": [
    {
     "data": {
      "text/plain": [
       "array([[-0.98705286],\n",
       "       [-2.0922048 ],\n",
       "       [-3.1973567 ],\n",
       "       [-4.302509  ],\n",
       "       [-5.407661  ],\n",
       "       [-6.5128126 ]], dtype=float32)"
      ]
     },
     "execution_count": 14,
     "metadata": {},
     "output_type": "execute_result"
    }
   ],
   "source": [
    "model.predict(x)"
   ]
  },
  {
   "cell_type": "code",
   "execution_count": 13,
   "metadata": {},
   "outputs": [
    {
     "data": {
      "text/plain": [
       "[array([[-1.105152]], dtype=float32), array([0.11809918], dtype=float32)]"
      ]
     },
     "execution_count": 13,
     "metadata": {},
     "output_type": "execute_result"
    }
   ],
   "source": [
    "model.get_weights()"
   ]
  },
  {
   "cell_type": "code",
   "execution_count": null,
   "metadata": {},
   "outputs": [],
   "source": []
  },
  {
   "cell_type": "code",
   "execution_count": null,
   "metadata": {},
   "outputs": [],
   "source": []
  }
 ],
 "metadata": {
  "kernelspec": {
   "display_name": "gpu",
   "language": "python",
   "name": "python3"
  },
  "language_info": {
   "codemirror_mode": {
    "name": "ipython",
    "version": 3
   },
   "file_extension": ".py",
   "mimetype": "text/x-python",
   "name": "python",
   "nbconvert_exporter": "python",
   "pygments_lexer": "ipython3",
   "version": "3.9.16"
  },
  "orig_nbformat": 4
 },
 "nbformat": 4,
 "nbformat_minor": 2
}

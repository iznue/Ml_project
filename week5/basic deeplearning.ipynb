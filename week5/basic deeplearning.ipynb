{
 "cells": [
  {
   "attachments": {},
   "cell_type": "markdown",
   "metadata": {},
   "source": [
    "##### Basic Deeplearning"
   ]
  },
  {
   "cell_type": "code",
   "execution_count": 2,
   "metadata": {},
   "outputs": [],
   "source": [
    "import numpy as np\n",
    "import tensorflow as tf\n",
    "\n",
    "from tensorflow import keras\n",
    "from tensorflow.keras import layers\n",
    "# 위의 구문을 사용하지 않는 경우 tf.keras, tf.keras.layers와 같이 사용가능"
   ]
  },
  {
   "cell_type": "code",
   "execution_count": 12,
   "metadata": {},
   "outputs": [],
   "source": [
    "x=np.array([1,2,3,4,5,6])\n",
    "y=np.array([10,98,8,2,3,4])\n",
    "\n",
    "tf.random.set_seed(2)\n",
    "\n",
    "input_layer=tf.keras.layers.InputLayer(input_shape=(1,))\n",
    "# (1,) 이 부분은 Dense의 가장 상단으로 입력되는 x변수의 갯수(독립변수, 특징값갯수)\n",
    "hidden_layer1=tf.keras.layers.Dense(units=4,activation='relu')\n",
    "hidden_layer2=tf.keras.layers.Dense(units=2,activation='relu')\n",
    "output_layer=layers.Dense(units=1)  # unit 생략 가능, activation 없으면 wx+b만 동작 (선형회귀)\n",
    "\n",
    "# 순차 처리 구조, (함수처리 구조도 있음)\n",
    "model=keras.Sequential([\n",
    "    input_layer,\n",
    "    hidden_layer1,\n",
    "    hidden_layer2,\n",
    "    output_layer    \n",
    "])\n",
    "# 자동으로 wx+b 수행"
   ]
  },
  {
   "cell_type": "code",
   "execution_count": 21,
   "metadata": {},
   "outputs": [
    {
     "name": "stdout",
     "output_type": "stream",
     "text": [
      "=============\n",
      "tf.Tensor(\n",
      "[[0. 0. 0. 0.]\n",
      " [0. 0. 0. 0.]\n",
      " [0. 0. 0. 0.]\n",
      " [0. 0. 0. 0.]\n",
      " [0. 0. 0. 0.]\n",
      " [0. 0. 0. 0.]], shape=(6, 4), dtype=float32)\n"
     ]
    }
   ],
   "source": [
    "intermediate_layer_model = tf.keras.Model(inputs=model.input,\n",
    "                                          outputs=model.layers[0].output)\n",
    "intermediate_output = intermediate_layer_model(x)\n",
    "\n",
    "print(\"=============\")\n",
    "print(intermediate_output)"
   ]
  },
  {
   "cell_type": "code",
   "execution_count": 13,
   "metadata": {},
   "outputs": [
    {
     "name": "stdout",
     "output_type": "stream",
     "text": [
      "Model: \"sequential_1\"\n",
      "_________________________________________________________________\n",
      " Layer (type)                Output Shape              Param #   \n",
      "=================================================================\n",
      " dense_3 (Dense)             (None, 4)                 8         \n",
      "                                                                 \n",
      " dense_4 (Dense)             (None, 2)                 10        \n",
      "                                                                 \n",
      " dense_5 (Dense)             (None, 1)                 3         \n",
      "                                                                 \n",
      "=================================================================\n",
      "Total params: 21\n",
      "Trainable params: 21\n",
      "Non-trainable params: 0\n",
      "_________________________________________________________________\n"
     ]
    }
   ],
   "source": [
    "model.summary()\n",
    "# x변수 1개 존재 -> w,b값이 들어가서 생성된 것이 2개임 (param)\n",
    "# param이 8개인 이유 x 변수 하나에 w,b가 생성되므로 dense 4 * 2"
   ]
  },
  {
   "cell_type": "code",
   "execution_count": 14,
   "metadata": {},
   "outputs": [
    {
     "data": {
      "text/plain": [
       "[array([[-0.773598  , -0.07830954, -0.6027144 , -0.32230526]],\n",
       "       dtype=float32),\n",
       " array([0., 0., 0., 0.], dtype=float32),\n",
       " array([[ 0.25339055,  0.9880707 ],\n",
       "        [ 0.03676939,  0.5841136 ],\n",
       "        [ 0.05980778, -0.7604344 ],\n",
       "        [-0.9825578 , -0.6252358 ]], dtype=float32),\n",
       " array([0., 0.], dtype=float32),\n",
       " array([[-0.0581826],\n",
       "        [-0.9491979]], dtype=float32),\n",
       " array([0.], dtype=float32)]"
      ]
     },
     "execution_count": 14,
     "metadata": {},
     "output_type": "execute_result"
    }
   ],
   "source": [
    "model.get_weights()\n",
    "# [-0.37941802] : w, [0.] : b"
   ]
  },
  {
   "cell_type": "code",
   "execution_count": 15,
   "metadata": {},
   "outputs": [
    {
     "name": "stdout",
     "output_type": "stream",
     "text": [
      "Epoch 1/3\n"
     ]
    },
    {
     "name": "stdout",
     "output_type": "stream",
     "text": [
      "1/1 [==============================] - 0s 232ms/step - loss: 1632.8334 - accuracy: 0.0000e+00\n",
      "Epoch 2/3\n",
      "1/1 [==============================] - 0s 4ms/step - loss: 1632.7017 - accuracy: 0.0000e+00\n",
      "Epoch 3/3\n",
      "1/1 [==============================] - 0s 5ms/step - loss: 1632.6061 - accuracy: 0.0000e+00\n"
     ]
    },
    {
     "data": {
      "text/plain": [
       "['loss', 'accuracy']"
      ]
     },
     "execution_count": 15,
     "metadata": {},
     "output_type": "execute_result"
    }
   ],
   "source": [
    "# model.fit할 때 오차역전파 하는 방법론 (최적화함수 -> optimizer)\n",
    "# model.fit할 때 구축된 모델에서 계산된 값을 (y예측값) 실제 y값과 비교하는 공식(loss function -> 오차 함수)\n",
    "# model.fit할 떄 화면에 출력될 사항 선택 (metrics)\n",
    "model.compile(#optimizer='adam',\n",
    "              loss='mse',\n",
    "              metrics=['accuracy'])\n",
    "\n",
    "hist=model.fit(x,y,epochs=3,verbose=1) # verbose가 0이면 화면 출력x\n",
    "# hist.history['loss']\n",
    "list(hist.history)"
   ]
  },
  {
   "cell_type": "code",
   "execution_count": 16,
   "metadata": {},
   "outputs": [
    {
     "data": {
      "text/plain": [
       "([1632.8333740234375, 1632.70166015625, 1632.6060791015625], [0.0, 0.0, 0.0])"
      ]
     },
     "execution_count": 16,
     "metadata": {},
     "output_type": "execute_result"
    }
   ],
   "source": [
    "hist.history['loss'], hist.history['accuracy']"
   ]
  },
  {
   "cell_type": "code",
   "execution_count": 17,
   "metadata": {},
   "outputs": [
    {
     "data": {
      "text/plain": [
       "Text(0.5, 1.0, 'accuracy')"
      ]
     },
     "execution_count": 17,
     "metadata": {},
     "output_type": "execute_result"
    },
    {
     "data": {
      "image/png": "[encoded data removed]",
      "text/plain": [
       "<Figure size 1000x300 with 2 Axes>"
      ]
     },
     "metadata": {},
     "output_type": "display_data"
    }
   ],
   "source": [
    "import matplotlib.pyplot as plt\n",
    "\n",
    "plt.figure(figsize=(10,3))\n",
    "plt.subplot(1,2,1)\n",
    "plt.plot(hist.history['loss'], label='loss')\n",
    "plt.legend(loc='upper right')\n",
    "plt.title('loss')\n",
    "\n",
    "plt.subplot(1,2,2)\n",
    "plt.plot(hist.history['accuracy'], 'r', label='accuracy')\n",
    "plt.legend(loc='lower right')\n",
    "plt.title('accuracy')"
   ]
  },
  {
   "cell_type": "code",
   "execution_count": 18,
   "metadata": {},
   "outputs": [
    {
     "data": {
      "text/plain": [
       "array([[0.007377],\n",
       "       [0.007377],\n",
       "       [0.007377],\n",
       "       [0.007377],\n",
       "       [0.007377],\n",
       "       [0.007377]], dtype=float32)"
      ]
     },
     "execution_count": 18,
     "metadata": {},
     "output_type": "execute_result"
    }
   ],
   "source": [
    "model.predict(x)"
   ]
  },
  {
   "cell_type": "code",
   "execution_count": 19,
   "metadata": {},
   "outputs": [
    {
     "data": {
      "text/plain": [
       "[array([[-0.773598  , -0.07830954, -0.6027144 , -0.32230526]],\n",
       "       dtype=float32),\n",
       " array([0., 0., 0., 0.], dtype=float32),\n",
       " array([[ 0.25339055,  0.9880707 ],\n",
       "        [ 0.03676939,  0.5841136 ],\n",
       "        [ 0.05980778, -0.7604344 ],\n",
       "        [-0.9825578 , -0.6252358 ]], dtype=float32),\n",
       " array([0., 0.], dtype=float32),\n",
       " array([[-0.0581826],\n",
       "        [-0.9491979]], dtype=float32),\n",
       " array([0.007377], dtype=float32)]"
      ]
     },
     "execution_count": 19,
     "metadata": {},
     "output_type": "execute_result"
    }
   ],
   "source": [
    "model.get_weights()"
   ]
  },
  {
   "cell_type": "code",
   "execution_count": 20,
   "metadata": {},
   "outputs": [
    {
     "name": "stdout",
     "output_type": "stream",
     "text": [
      "1/1 [==============================] - 0s 63ms/step - loss: 1632.5259 - accuracy: 0.0000e+00\n"
     ]
    },
    {
     "data": {
      "text/plain": [
       "[1632.52587890625, 0.0]"
      ]
     },
     "execution_count": 20,
     "metadata": {},
     "output_type": "execute_result"
    }
   ],
   "source": [
    "model.evaluate(x,y)"
   ]
  },
  {
   "cell_type": "code",
   "execution_count": 60,
   "metadata": {},
   "outputs": [
    {
     "data": {
      "text/html": [
       "<div>\n",
       "<style scoped>\n",
       "    .dataframe tbody tr th:only-of-type {\n",
       "        vertical-align: middle;\n",
       "    }\n",
       "\n",
       "    .dataframe tbody tr th {\n",
       "        vertical-align: top;\n",
       "    }\n",
       "\n",
       "    .dataframe thead th {\n",
       "        text-align: right;\n",
       "    }\n",
       "</style>\n",
       "<table border=\"1\" class=\"dataframe\">\n",
       "  <thead>\n",
       "    <tr style=\"text-align: right;\">\n",
       "      <th></th>\n",
       "      <th>나이</th>\n",
       "      <th>성별</th>\n",
       "      <th>성적</th>\n",
       "    </tr>\n",
       "  </thead>\n",
       "  <tbody>\n",
       "    <tr>\n",
       "      <th>0</th>\n",
       "      <td>20</td>\n",
       "      <td>1</td>\n",
       "      <td>2000</td>\n",
       "    </tr>\n",
       "    <tr>\n",
       "      <th>1</th>\n",
       "      <td>30</td>\n",
       "      <td>1</td>\n",
       "      <td>100</td>\n",
       "    </tr>\n",
       "    <tr>\n",
       "      <th>2</th>\n",
       "      <td>40</td>\n",
       "      <td>0</td>\n",
       "      <td>70</td>\n",
       "    </tr>\n",
       "    <tr>\n",
       "      <th>3</th>\n",
       "      <td>57</td>\n",
       "      <td>1</td>\n",
       "      <td>10</td>\n",
       "    </tr>\n",
       "    <tr>\n",
       "      <th>4</th>\n",
       "      <td>10</td>\n",
       "      <td>0</td>\n",
       "      <td>20</td>\n",
       "    </tr>\n",
       "    <tr>\n",
       "      <th>5</th>\n",
       "      <td>25</td>\n",
       "      <td>1</td>\n",
       "      <td>20</td>\n",
       "    </tr>\n",
       "  </tbody>\n",
       "</table>\n",
       "</div>"
      ],
      "text/plain": [
       "   나이  성별    성적\n",
       "0  20   1  2000\n",
       "1  30   1   100\n",
       "2  40   0    70\n",
       "3  57   1    10\n",
       "4  10   0    20\n",
       "5  25   1    20"
      ]
     },
     "metadata": {},
     "output_type": "display_data"
    },
    {
     "data": {
      "text/plain": [
       "numpy.ndarray"
      ]
     },
     "execution_count": 60,
     "metadata": {},
     "output_type": "execute_result"
    }
   ],
   "source": [
    "나이=[20,30,40,57,10,25]\n",
    "성별=[1,1,0,1,0,1]\n",
    "성적=[2000,100,70,10,20,20]\n",
    "\n",
    "import pandas as pd\n",
    "df=pd.DataFrame({'나이':나이, '성별':성별, '성적':성적})\n",
    "display(df)\n",
    "x=df[['나이', '성별']].values # values에 의해 numpy로 변경됨\n",
    "y=df['성적'].values\n",
    "\n",
    "type(x)"
   ]
  },
  {
   "cell_type": "code",
   "execution_count": 61,
   "metadata": {},
   "outputs": [
    {
     "name": "stdout",
     "output_type": "stream",
     "text": [
      "(2, 1)\n"
     ]
    },
    {
     "data": {
      "text/plain": [
       "array([[25],\n",
       "       [35],\n",
       "       [40],\n",
       "       [62],\n",
       "       [10],\n",
       "       [30]], dtype=int64)"
      ]
     },
     "execution_count": 61,
     "metadata": {},
     "output_type": "execute_result"
    }
   ],
   "source": [
    "# Dense(1, input_shape=(2,)) 하고 get_weights한다면\n",
    "# get_we=[w,b]\n",
    "# print(get_we)\n",
    "\n",
    "w=[[1], # 나이값 w\n",
    "   [5]] # 성별값 w\n",
    "print(np.shape(w))\n",
    "b=[0]\n",
    "\n",
    "\n",
    "# w=[1,5]\n",
    "# print(np.shape(w))\n",
    "\n",
    "# w=[[1,5]]\n",
    "# print(np.shape(w))\n",
    "\n",
    "np.dot(x,w)+b # dense 1개"
   ]
  },
  {
   "cell_type": "code",
   "execution_count": 62,
   "metadata": {},
   "outputs": [
    {
     "name": "stdout",
     "output_type": "stream",
     "text": [
      "(2, 3)\n",
      "------hidden------\n",
      "[[ 25  45  70]\n",
      " [ 35  65 100]\n",
      " [ 40  81 122]\n",
      " [ 62 119 181]\n",
      " [ 10  21  32]\n",
      " [ 30  55  85]]\n",
      "------output------\n",
      "[[ 397]\n",
      " [ 567]\n",
      " [ 691]\n",
      " [1026]\n",
      " [ 181]\n",
      " [ 482]]\n"
     ]
    }
   ],
   "source": [
    "### epoch 2\n",
    "# w,b를 epoch1의 mse값을 이용해 갱신(오차역전파,미분)\n",
    "\n",
    "# Dense(3, input_shape=(2,))\n",
    "# 최종출력물은 (6*2, 2*3) => 6*3 최종 자료\n",
    "w=[[1,2,3], # 나이값 w\n",
    "   [5,4,8]] # 성별값 w\n",
    "print(np.shape(w))\n",
    "b=[0,1,2]\n",
    "\n",
    "hidden=np.dot(x,w)+b  # 은닉층의 출력값 6*3 -> w는 무조건 3개 있어야함\n",
    "print('------hidden------')\n",
    "print(hidden)\n",
    "\n",
    "# Dense(1,)\n",
    "w=[[2],\n",
    "   [3],\n",
    "   [3]]\n",
    "b=[2]\n",
    "output=np.dot(hidden,w)+b\n",
    "print('------output------')\n",
    "print(output)"
   ]
  },
  {
   "cell_type": "code",
   "execution_count": 63,
   "metadata": {},
   "outputs": [
    {
     "name": "stdout",
     "output_type": "stream",
     "text": [
      "[[ 397]\n",
      " [ 567]\n",
      " [ 691]\n",
      " [1026]\n",
      " [ 181]\n",
      " [ 482]] [2000  100   70   10   20   20]\n"
     ]
    },
    {
     "data": {
      "text/plain": [
       "188.0"
      ]
     },
     "execution_count": 63,
     "metadata": {},
     "output_type": "execute_result"
    }
   ],
   "source": [
    "## output 값과 실제 y값과의 비교 (오차계산)\n",
    "print(output, y)\n",
    "\n",
    "mse=np.mean((output-np.reshape(y,(-1,1)))^2)\n",
    "mse"
   ]
  },
  {
   "cell_type": "code",
   "execution_count": 64,
   "metadata": {},
   "outputs": [
    {
     "data": {
      "text/plain": [
       "[<matplotlib.lines.Line2D at 0x200f558d6d0>]"
      ]
     },
     "execution_count": 64,
     "metadata": {},
     "output_type": "execute_result"
    },
    {
     "data": {
      "image/png": "[encoded data removed]",
      "text/plain": [
       "<Figure size 300x300 with 1 Axes>"
      ]
     },
     "metadata": {},
     "output_type": "display_data"
    }
   ],
   "source": [
    "plt.figure(figsize=(3,3))\n",
    "plt.plot(성적, 'ro')  # 실제 y값\n",
    "plt.plot(output)"
   ]
  }
 ],
 "metadata": {
  "kernelspec": {
   "display_name": "gpu",
   "language": "python",
   "name": "python3"
  },
  "language_info": {
   "codemirror_mode": {
    "name": "ipython",
    "version": 3
   },
   "file_extension": ".py",
   "mimetype": "text/x-python",
   "name": "python",
   "nbconvert_exporter": "python",
   "pygments_lexer": "ipython3",
   "version": "3.9.16"
  },
  "orig_nbformat": 4
 },
 "nbformat": 4,
 "nbformat_minor": 2
}

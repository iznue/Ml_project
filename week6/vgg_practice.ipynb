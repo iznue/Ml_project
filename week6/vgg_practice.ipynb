{
 "cells": [
  {
   "attachments": {},
   "cell_type": "markdown",
   "metadata": {},
   "source": [
    "## VGG-16"
   ]
  },
  {
   "cell_type": "code",
   "execution_count": 3,
   "metadata": {},
   "outputs": [
    {
     "name": "stdout",
     "output_type": "stream",
     "text": [
      "Downloading data from https://storage.googleapis.com/tensorflow/keras-applications/vgg16/vgg16_weights_tf_dim_ordering_tf_kernels.h5\n",
      "165216256/553467096 [=======>......................] - ETA: 26s"
     ]
    }
   ],
   "source": [
    "from keras.applications import vgg16\n",
    "model = vgg16.VGG16()\n",
    "\n",
    "############# 224,224 총 16개 레이어에, 1000개의 카테고리를 분류하는 모델을 불러옴"
   ]
  },
  {
   "cell_type": "code",
   "execution_count": 4,
   "metadata": {},
   "outputs": [
    {
     "name": "stdout",
     "output_type": "stream",
     "text": [
      "Model: \"vgg16\"\n",
      "_________________________________________________________________\n",
      " Layer (type)                Output Shape              Param #   \n",
      "=================================================================\n",
      " input_1 (InputLayer)        [(None, 224, 224, 3)]     0         \n",
      "                                                                 \n",
      " block1_conv1 (Conv2D)       (None, 224, 224, 64)      1792      \n",
      "                                                                 \n",
      " block1_conv2 (Conv2D)       (None, 224, 224, 64)      36928     \n",
      "                                                                 \n",
      " block1_pool (MaxPooling2D)  (None, 112, 112, 64)      0         \n",
      "                                                                 \n",
      " block2_conv1 (Conv2D)       (None, 112, 112, 128)     73856     \n",
      "                                                                 \n",
      " block2_conv2 (Conv2D)       (None, 112, 112, 128)     147584    \n",
      "                                                                 \n",
      " block2_pool (MaxPooling2D)  (None, 56, 56, 128)       0         \n",
      "                                                                 \n",
      " block3_conv1 (Conv2D)       (None, 56, 56, 256)       295168    \n",
      "                                                                 \n",
      " block3_conv2 (Conv2D)       (None, 56, 56, 256)       590080    \n",
      "                                                                 \n",
      " block3_conv3 (Conv2D)       (None, 56, 56, 256)       590080    \n",
      "                                                                 \n",
      " block3_pool (MaxPooling2D)  (None, 28, 28, 256)       0         \n",
      "                                                                 \n",
      " block4_conv1 (Conv2D)       (None, 28, 28, 512)       1180160   \n",
      "                                                                 \n",
      " block4_conv2 (Conv2D)       (None, 28, 28, 512)       2359808   \n",
      "                                                                 \n",
      " block4_conv3 (Conv2D)       (None, 28, 28, 512)       2359808   \n",
      "                                                                 \n",
      " block4_pool (MaxPooling2D)  (None, 14, 14, 512)       0         \n",
      "                                                                 \n",
      " block5_conv1 (Conv2D)       (None, 14, 14, 512)       2359808   \n",
      "                                                                 \n",
      " block5_conv2 (Conv2D)       (None, 14, 14, 512)       2359808   \n",
      "                                                                 \n",
      " block5_conv3 (Conv2D)       (None, 14, 14, 512)       2359808   \n",
      "                                                                 \n",
      " block5_pool (MaxPooling2D)  (None, 7, 7, 512)         0         \n",
      "                                                                 \n",
      " flatten (Flatten)           (None, 25088)             0         \n",
      "                                                                 \n",
      " fc1 (Dense)                 (None, 4096)              102764544 \n",
      "                                                                 \n",
      " fc2 (Dense)                 (None, 4096)              16781312  \n",
      "                                                                 \n",
      " predictions (Dense)         (None, 1000)              4097000   \n",
      "                                                                 \n",
      "=================================================================\n",
      "Total params: 138,357,544\n",
      "Trainable params: 138,357,544\n",
      "Non-trainable params: 0\n",
      "_________________________________________________________________\n"
     ]
    }
   ],
   "source": [
    "model.summary()"
   ]
  },
  {
   "cell_type": "code",
   "execution_count": 7,
   "metadata": {},
   "outputs": [
    {
     "name": "stdout",
     "output_type": "stream",
     "text": [
      "Model: \"vgg16\"\n",
      "_________________________________________________________________\n",
      " Layer (type)                Output Shape              Param #   \n",
      "=================================================================\n",
      " input_4 (InputLayer)        [(None, 32, 32, 3)]       0         \n",
      "                                                                 \n",
      " block1_conv1 (Conv2D)       (None, 32, 32, 64)        1792      \n",
      "                                                                 \n",
      " block1_conv2 (Conv2D)       (None, 32, 32, 64)        36928     \n",
      "                                                                 \n",
      " block1_pool (MaxPooling2D)  (None, 16, 16, 64)        0         \n",
      "                                                                 \n",
      " block2_conv1 (Conv2D)       (None, 16, 16, 128)       73856     \n",
      "                                                                 \n",
      " block2_conv2 (Conv2D)       (None, 16, 16, 128)       147584    \n",
      "                                                                 \n",
      " block2_pool (MaxPooling2D)  (None, 8, 8, 128)         0         \n",
      "                                                                 \n",
      " block3_conv1 (Conv2D)       (None, 8, 8, 256)         295168    \n",
      "                                                                 \n",
      " block3_conv2 (Conv2D)       (None, 8, 8, 256)         590080    \n",
      "                                                                 \n",
      " block3_conv3 (Conv2D)       (None, 8, 8, 256)         590080    \n",
      "                                                                 \n",
      " block3_pool (MaxPooling2D)  (None, 4, 4, 256)         0         \n",
      "                                                                 \n",
      " block4_conv1 (Conv2D)       (None, 4, 4, 512)         1180160   \n",
      "                                                                 \n",
      " block4_conv2 (Conv2D)       (None, 4, 4, 512)         2359808   \n",
      "                                                                 \n",
      " block4_conv3 (Conv2D)       (None, 4, 4, 512)         2359808   \n",
      "                                                                 \n",
      " block4_pool (MaxPooling2D)  (None, 2, 2, 512)         0         \n",
      "                                                                 \n",
      " block5_conv1 (Conv2D)       (None, 2, 2, 512)         2359808   \n",
      "                                                                 \n",
      " block5_conv2 (Conv2D)       (None, 2, 2, 512)         2359808   \n",
      "                                                                 \n",
      " block5_conv3 (Conv2D)       (None, 2, 2, 512)         2359808   \n",
      "                                                                 \n",
      " block5_pool (MaxPooling2D)  (None, 1, 1, 512)         0         \n",
      "                                                                 \n",
      "=================================================================\n",
      "Total params: 14,714,688\n",
      "Trainable params: 14,714,688\n",
      "Non-trainable params: 0\n",
      "_________________________________________________________________\n"
     ]
    }
   ],
   "source": [
    "model1 = vgg16.VGG16(include_top=False, classes=3, input_shape=(32,32,3))\n",
    "model1.summary()"
   ]
  },
  {
   "cell_type": "code",
   "execution_count": 9,
   "metadata": {},
   "outputs": [],
   "source": [
    "base='d:/vgg/*.jpg'\n",
    "\n",
    "from glob import glob\n",
    "from PIL import Image\n",
    "import numpy as np\n",
    "\n",
    "file=glob(base)[0]\n",
    "img=Image.open(file).resize((224,224)).convert('RGB')\n",
    "img=np.array(img)\n",
    "img=np.reshape(img, (1,224,224,3))\n",
    "\n",
    "pred=model.predict(img)"
   ]
  },
  {
   "cell_type": "code",
   "execution_count": 15,
   "metadata": {},
   "outputs": [
    {
     "data": {
      "text/plain": [
       "1000"
      ]
     },
     "execution_count": 15,
     "metadata": {},
     "output_type": "execute_result"
    }
   ],
   "source": [
    "len(pred[0])\n",
    "# vgg 사용 시 카테고리가 1000개가 나옴"
   ]
  },
  {
   "attachments": {},
   "cell_type": "markdown",
   "metadata": {},
   "source": [
    "###### 1000개의 카테고리를 모르는데 어떻게 찾는가?\n",
    "- decode 사용"
   ]
  },
  {
   "cell_type": "code",
   "execution_count": 16,
   "metadata": {},
   "outputs": [
    {
     "name": "stdout",
     "output_type": "stream",
     "text": [
      "Downloading data from https://storage.googleapis.com/download.tensorflow.org/data/imagenet_class_index.json\n",
      "40960/35363 [==================================] - 0s 0us/step\n",
      "49152/35363 [=========================================] - 0s 0us/step\n"
     ]
    }
   ],
   "source": [
    "# 모델 적용된 결과를 파싱\n",
    "label = vgg16.decode_predictions(pred)\n",
    "# label = [[('n02655020', 'puffer', 0.9612253), ... ]]\n",
    "# 코드넘버, 명칭, 확률값으로 나옴\n",
    "# label[1]이 원하는 라벨값"
   ]
  },
  {
   "cell_type": "code",
   "execution_count": 17,
   "metadata": {},
   "outputs": [],
   "source": [
    "# 가장 확률이 높은 결과를 획득\n",
    "label = label[0][0]"
   ]
  },
  {
   "cell_type": "code",
   "execution_count": 18,
   "metadata": {},
   "outputs": [
    {
     "name": "stdout",
     "output_type": "stream",
     "text": [
      "Granny_Smith (38.52%)\n"
     ]
    }
   ],
   "source": [
    "# 라벨과 라벨을 예측한 확률을 출력\n",
    "print('%s (%.2f%%)' % (label[1], label[2]*100))"
   ]
  },
  {
   "cell_type": "code",
   "execution_count": 29,
   "metadata": {},
   "outputs": [
    {
     "name": "stdout",
     "output_type": "stream",
     "text": [
      "African_elephant\n",
      "Granny_Smith\n",
      "tusker\n",
      "pencil_sharpener\n",
      "sports_car\n",
      "sports_car\n",
      "Walker_hound\n",
      "English_setter\n",
      "hare\n",
      "Granny_Smith\n"
     ]
    }
   ],
   "source": [
    "from glob import glob\n",
    "from PIL import Image\n",
    "import numpy as np\n",
    "import os\n",
    "\n",
    "base='d:/vgg/*.jpg'\n",
    "fileList=glob(base)\n",
    "\n",
    "for file in fileList:\n",
    "    img=Image.open(file).resize((224,224)).convert('RGB')\n",
    "    img=np.array(img)\n",
    "    img=np.reshape(img, (1,224,224,3))\n",
    "\n",
    "    yhat=model.predict(img)  # 1000개의 softmax로 출력\n",
    "\n",
    "    label=vgg16.decode_predictions(yhat)\n",
    "    label = label[0][0]\n",
    "    pred=label[1]\n",
    "\n",
    "    print(pred)\n",
    "    #################### 예측된 값에 의해 이미지를 예측 폴더로 이동\n",
    "    # ex) dog으로 예측되면 dog 폴더를 만들고 (이미 있으면 pass)\n",
    "    # dog 폴더로 이미지 이동\n",
    "    # 각 폴더의 자료 갯수를 확인하여 dataframe 제작 (폴더명, 파일 갯수) dog 5, cat 13 \n",
    "    # 차트 그리기 \n"
   ]
  },
  {
   "cell_type": "code",
   "execution_count": null,
   "metadata": {},
   "outputs": [],
   "source": [
    "##############################  folder 생성 시간까지 출력\n",
    "\n",
    "# from glob import glob\n",
    "# from PIL import Image\n",
    "# import numpy as np\n",
    "# import os\n",
    "# from datetime import datetime\n",
    "# import shutil\n",
    "\n",
    "# tmp=datetime.now()\n",
    "\n",
    "\n",
    "# base='d:/vgg/*.jpg'\n",
    "# fileList=glob(base)\n",
    "# baseFolder='d:/vgg/'\n",
    "\n",
    "\n",
    "\n",
    "# for file in fileList:\n",
    "#     img=Image.open(file).resize((224,224)).convert('RGB')\n",
    "#     img=np.array(img)\n",
    "#     img=np.reshape(img, (1,224,224,3))\n",
    "\n",
    "#     yhat=model.predict(img)  # 1000개의 softmax로 출력\n",
    "\n",
    "#     label=vgg16.decode_predictions(yhat)\n",
    "#     label = label[0][0]\n",
    "#     pred=label[1]\n",
    "#     # print(pred)\n",
    "\n",
    "#     newFolder=baseFolder+pred\n",
    "#     try:\n",
    "#         os.mkdir(newFolder)\n",
    "#     except:\n",
    "#         pass\n",
    "\n",
    "#     shutil.move(file, newFolder)\n",
    "#     # print(newFolder+'/'+file)\n",
    "#     os.rename(newFolder+'/'+str(tmp)+'_'+file)"
   ]
  },
  {
   "cell_type": "code",
   "execution_count": 30,
   "metadata": {},
   "outputs": [
    {
     "name": "stdout",
     "output_type": "stream",
     "text": [
      "African_elephant\n",
      "Granny_Smith\n",
      "tusker\n",
      "pencil_sharpener\n",
      "sports_car\n",
      "sports_car\n",
      "Walker_hound\n",
      "English_setter\n",
      "hare\n",
      "Granny_Smith\n"
     ]
    }
   ],
   "source": [
    "from glob import glob\n",
    "from PIL import Image\n",
    "import numpy as np\n",
    "import os\n",
    "import shutil\n",
    "\n",
    "base='d:/vgg/*.jpg'\n",
    "fileList=glob(base)\n",
    "\n",
    "def createFolder(directory):\n",
    "    try:\n",
    "        if not os.path.exists(directory):\n",
    "            os.makedirs(directory)\n",
    "    except OSError:\n",
    "        print('error:creating_directory'+ directory)\n",
    "\n",
    "\n",
    "for file in fileList:\n",
    "    img=Image.open(file).resize((224,224)).convert('RGB')\n",
    "    img=np.array(img)\n",
    "    img=np.reshape(img, (1,224,224,3))\n",
    "\n",
    "    yhat=model.predict(img)  # 1000개의 softmax로 출력\n",
    "\n",
    "    label=vgg16.decode_predictions(yhat)\n",
    "    label = label[0][0]\n",
    "    pred=label[1]\n",
    "\n",
    "    print(pred)\n",
    "    #################### 예측된 값에 의해 이미지를 예측 폴더로 이동\n",
    "    # ex) dog으로 예측되면 dog 폴더를 만들고 (이미 있으면 pass)\n",
    "    # dog 폴더로 이미지 이동\n",
    "    # 각 폴더의 자료 갯수를 확인하여 dataframe 제작 (폴더명, 파일 갯수) dog 5, cat 13 \n",
    "    # 차트 그리기 \n",
    "    \n",
    "\n",
    "    createFolder('d:/vgg/'+pred)\n",
    "    shutil.move(file, 'd:/vgg/'+pred)\n"
   ]
  },
  {
   "cell_type": "code",
   "execution_count": 57,
   "metadata": {},
   "outputs": [],
   "source": [
    "base_dir = 'd:/vgg/*'\n",
    "folderList=glob(base_dir)\n",
    "folderList\n",
    "\n",
    "folderName=[]\n",
    "fileNum=[]\n",
    "for folder in folderList:\n",
    "    # print(folder)\n",
    "    folderName.append(folder.split('\\\\')[1])\n",
    "    # print(len(glob(folder+'/*')))\n",
    "    fileNum.append(len(glob(folder+'/*')))"
   ]
  },
  {
   "cell_type": "code",
   "execution_count": 67,
   "metadata": {},
   "outputs": [
    {
     "data": {
      "text/plain": [
       "<BarContainer object of 8 artists>"
      ]
     },
     "execution_count": 67,
     "metadata": {},
     "output_type": "execute_result"
    },
    {
     "data": {
      "image/png": "[encoded data removed]",
      "text/plain": [
       "<Figure size 640x480 with 1 Axes>"
      ]
     },
     "metadata": {},
     "output_type": "display_data"
    }
   ],
   "source": [
    "import pandas as pd\n",
    "\n",
    "df = pd.DataFrame(folderName, columns=['folderName'])\n",
    "df['fileNum']=fileNum\n",
    "df\n",
    "\n",
    "df['fileNum']\n",
    "\n",
    "import matplotlib.pyplot as plt\n",
    "plt.barh(df['folderName'], df['fileNum'])"
   ]
  },
  {
   "cell_type": "code",
   "execution_count": null,
   "metadata": {},
   "outputs": [],
   "source": [
    "# import matplotlib.pyplot as plt\n",
    "# folderName,fileCnt=[],[]\n",
    "# folderList=glob(baseFolder+'*')\n",
    "# for folder in folderList:\n",
    "#     cnt=len(glob(folder + '/*.jpg'))\n",
    "#     folderName.append(folder.split('\\\\')[1])\n",
    "#     fileCnt.append(cnt)\n",
    "\n",
    "\n",
    "# df=pd.DataFrame({'folderName':folderName, 'fileCnt':fileCnt})\n",
    "# df['ratio']=round((df['fileCnt']/df['fileCnt'].sum())*100,2)\n",
    "# display(df.T)\n",
    "\n",
    "# plt.barh(df['folderName'],df['fileCnt'])"
   ]
  }
 ],
 "metadata": {
  "kernelspec": {
   "display_name": "gpu",
   "language": "python",
   "name": "python3"
  },
  "language_info": {
   "codemirror_mode": {
    "name": "ipython",
    "version": 3
   },
   "file_extension": ".py",
   "mimetype": "text/x-python",
   "name": "python",
   "nbconvert_exporter": "python",
   "pygments_lexer": "ipython3",
   "version": "3.9.16"
  },
  "orig_nbformat": 4
 },
 "nbformat": 4,
 "nbformat_minor": 2
}

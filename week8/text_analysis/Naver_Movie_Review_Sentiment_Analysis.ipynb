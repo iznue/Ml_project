{
  "cells": [
    {
      "cell_type": "code",
      "execution_count": 79,
      "metadata": {
        "colab": {
          "base_uri": "https://localhost:8080/"
        },
        "id": "PsTs4QxYD2UO",
        "outputId": "b9400cb9-628c-48ae-d70c-b1e85ee54c4d"
      },
      "outputs": [
        {
          "output_type": "stream",
          "name": "stdout",
          "text": [
            "Requirement already satisfied: konlpy in /usr/local/lib/python3.10/dist-packages (0.6.0)\n",
            "Requirement already satisfied: JPype1>=0.7.0 in /usr/local/lib/python3.10/dist-packages (from konlpy) (1.4.1)\n",
            "Requirement already satisfied: lxml>=4.1.0 in /usr/local/lib/python3.10/dist-packages (from konlpy) (4.9.3)\n",
            "Requirement already satisfied: numpy>=1.6 in /usr/local/lib/python3.10/dist-packages (from konlpy) (1.22.4)\n",
            "Requirement already satisfied: packaging in /usr/local/lib/python3.10/dist-packages (from JPype1>=0.7.0->konlpy) (23.1)\n"
          ]
        }
      ],
      "source": [
        "!pip install konlpy"
      ]
    },
    {
      "cell_type": "code",
      "execution_count": 80,
      "metadata": {
        "id": "byDYkT_MDveg"
      },
      "outputs": [],
      "source": [
        "import pickle\n",
        "import pandas as pd\n",
        "import numpy as np\n",
        "import matplotlib.pyplot as plt\n",
        "import re\n",
        "import urllib.request\n",
        "from konlpy.tag import Okt\n",
        "from tqdm import tqdm\n",
        "from tensorflow.keras.preprocessing.text import Tokenizer\n",
        "from tensorflow.keras.preprocessing.sequence import pad_sequences"
      ]
    },
    {
      "cell_type": "code",
      "execution_count": 81,
      "metadata": {
        "colab": {
          "base_uri": "https://localhost:8080/"
        },
        "id": "XbwYk4KCD2f1",
        "outputId": "a83807f4-8fcd-42b0-ca18-5c99de9b3b0d"
      },
      "outputs": [
        {
          "output_type": "execute_result",
          "data": {
            "text/plain": [
              "('ratings_test.txt', <http.client.HTTPMessage at 0x7a904791b070>)"
            ]
          },
          "metadata": {},
          "execution_count": 81
        }
      ],
      "source": [
        "urllib.request.urlretrieve(\"https://raw.githubusercontent.com/e9t/nsmc/master/ratings_train.txt\", filename=\"ratings_train.txt\")\n",
        "urllib.request.urlretrieve(\"https://raw.githubusercontent.com/e9t/nsmc/master/ratings_test.txt\", filename=\"ratings_test.txt\")\n"
      ]
    },
    {
      "cell_type": "code",
      "execution_count": 82,
      "metadata": {
        "colab": {
          "base_uri": "https://localhost:8080/",
          "height": 913
        },
        "id": "o40U7VgoD2jV",
        "outputId": "9affbe4c-79b1-46cb-a53c-f42e0383961e"
      },
      "outputs": [
        {
          "output_type": "stream",
          "name": "stdout",
          "text": [
            "훈련용 리뷰 개수 : 1000\n",
            "테스트용 리뷰 개수 : 1000\n"
          ]
        },
        {
          "output_type": "execute_result",
          "data": {
            "text/plain": [
              "          id                                           document  label\n",
              "0    9976970                                아 더빙.. 진짜 짜증나네요 목소리      0\n",
              "1    3819312                  흠...포스터보고 초딩영화줄....오버연기조차 가볍지 않구나      1\n",
              "2   10265843                                  너무재밓었다그래서보는것을추천한다      0\n",
              "3    9045019                      교도소 이야기구먼 ..솔직히 재미는 없다..평점 조정      0\n",
              "4    6483659  사이몬페그의 익살스런 연기가 돋보였던 영화!스파이더맨에서 늙어보이기만 했던 커스틴 ...      1\n",
              "5    5403919      막 걸음마 뗀 3세부터 초등학교 1학년생인 8살용영화.ㅋㅋㅋ...별반개도 아까움.      0\n",
              "6    7797314                              원작의 긴장감을 제대로 살려내지못했다.      0\n",
              "7    9443947  별 반개도 아깝다 욕나온다 이응경 길용우 연기생활이몇년인지..정말 발로해도 그것보단...      0\n",
              "8    7156791                             액션이 없는데도 재미 있는 몇안되는 영화      1\n",
              "9    5912145      왜케 평점이 낮은건데? 꽤 볼만한데.. 헐리우드식 화려함에만 너무 길들여져 있나?      1\n",
              "10   9008700                                   걍인피니트가짱이다.진짜짱이다♥      1\n",
              "11  10217543        볼때마다 눈물나서 죽겠다90년대의 향수자극!!허진호는 감성절제멜로의 달인이다~      1\n",
              "12   5957425                울면서 손들고 횡단보도 건널때 뛰쳐나올뻔 이범수 연기 드럽게못해      0\n",
              "13   8628627  담백하고 깔끔해서 좋다. 신문기사로만 보다 보면 자꾸 잊어버린다. 그들도 사람이었다...      1\n",
              "14   9864035  취향은 존중한다지만 진짜 내생에 극장에서 본 영화중 가장 노잼 노감동임 스토리도 어...      0\n",
              "15   6852435                                   ㄱ냥 매번 긴장되고 재밋음ㅠㅠ      1\n",
              "16   9143163  참 사람들 웃긴게 바스코가 이기면 락스코라고 까고바비가 이기면 아이돌이라고 깐다.그...      1\n",
              "17   4891476                 굿바이 레닌 표절인것은 이해하는데 왜 뒤로 갈수록 재미없어지냐      0\n",
              "18   7465483      이건 정말 깨알 캐스팅과 질퍽하지않은 산뜻한 내용구성이 잘 버무러진 깨알일드!!♥      1\n",
              "19   3989148                 약탈자를 위한 변명, 이라. 저놈들은 착한놈들 절대 아닌걸요.      1"
            ],
            "text/html": [
              "\n",
              "\n",
              "  <div id=\"df-743e981a-939d-4167-aa18-4b894184bdef\">\n",
              "    <div class=\"colab-df-container\">\n",
              "      <div>\n",
              "<style scoped>\n",
              "    .dataframe tbody tr th:only-of-type {\n",
              "        vertical-align: middle;\n",
              "    }\n",
              "\n",
              "    .dataframe tbody tr th {\n",
              "        vertical-align: top;\n",
              "    }\n",
              "\n",
              "    .dataframe thead th {\n",
              "        text-align: right;\n",
              "    }\n",
              "</style>\n",
              "<table border=\"1\" class=\"dataframe\">\n",
              "  <thead>\n",
              "    <tr style=\"text-align: right;\">\n",
              "      <th></th>\n",
              "      <th>id</th>\n",
              "      <th>document</th>\n",
              "      <th>label</th>\n",
              "    </tr>\n",
              "  </thead>\n",
              "  <tbody>\n",
              "    <tr>\n",
              "      <th>0</th>\n",
              "      <td>9976970</td>\n",
              "      <td>아 더빙.. 진짜 짜증나네요 목소리</td>\n",
              "      <td>0</td>\n",
              "    </tr>\n",
              "    <tr>\n",
              "      <th>1</th>\n",
              "      <td>3819312</td>\n",
              "      <td>흠...포스터보고 초딩영화줄....오버연기조차 가볍지 않구나</td>\n",
              "      <td>1</td>\n",
              "    </tr>\n",
              "    <tr>\n",
              "      <th>2</th>\n",
              "      <td>10265843</td>\n",
              "      <td>너무재밓었다그래서보는것을추천한다</td>\n",
              "      <td>0</td>\n",
              "    </tr>\n",
              "    <tr>\n",
              "      <th>3</th>\n",
              "      <td>9045019</td>\n",
              "      <td>교도소 이야기구먼 ..솔직히 재미는 없다..평점 조정</td>\n",
              "      <td>0</td>\n",
              "    </tr>\n",
              "    <tr>\n",
              "      <th>4</th>\n",
              "      <td>6483659</td>\n",
              "      <td>사이몬페그의 익살스런 연기가 돋보였던 영화!스파이더맨에서 늙어보이기만 했던 커스틴 ...</td>\n",
              "      <td>1</td>\n",
              "    </tr>\n",
              "    <tr>\n",
              "      <th>5</th>\n",
              "      <td>5403919</td>\n",
              "      <td>막 걸음마 뗀 3세부터 초등학교 1학년생인 8살용영화.ㅋㅋㅋ...별반개도 아까움.</td>\n",
              "      <td>0</td>\n",
              "    </tr>\n",
              "    <tr>\n",
              "      <th>6</th>\n",
              "      <td>7797314</td>\n",
              "      <td>원작의 긴장감을 제대로 살려내지못했다.</td>\n",
              "      <td>0</td>\n",
              "    </tr>\n",
              "    <tr>\n",
              "      <th>7</th>\n",
              "      <td>9443947</td>\n",
              "      <td>별 반개도 아깝다 욕나온다 이응경 길용우 연기생활이몇년인지..정말 발로해도 그것보단...</td>\n",
              "      <td>0</td>\n",
              "    </tr>\n",
              "    <tr>\n",
              "      <th>8</th>\n",
              "      <td>7156791</td>\n",
              "      <td>액션이 없는데도 재미 있는 몇안되는 영화</td>\n",
              "      <td>1</td>\n",
              "    </tr>\n",
              "    <tr>\n",
              "      <th>9</th>\n",
              "      <td>5912145</td>\n",
              "      <td>왜케 평점이 낮은건데? 꽤 볼만한데.. 헐리우드식 화려함에만 너무 길들여져 있나?</td>\n",
              "      <td>1</td>\n",
              "    </tr>\n",
              "    <tr>\n",
              "      <th>10</th>\n",
              "      <td>9008700</td>\n",
              "      <td>걍인피니트가짱이다.진짜짱이다♥</td>\n",
              "      <td>1</td>\n",
              "    </tr>\n",
              "    <tr>\n",
              "      <th>11</th>\n",
              "      <td>10217543</td>\n",
              "      <td>볼때마다 눈물나서 죽겠다90년대의 향수자극!!허진호는 감성절제멜로의 달인이다~</td>\n",
              "      <td>1</td>\n",
              "    </tr>\n",
              "    <tr>\n",
              "      <th>12</th>\n",
              "      <td>5957425</td>\n",
              "      <td>울면서 손들고 횡단보도 건널때 뛰쳐나올뻔 이범수 연기 드럽게못해</td>\n",
              "      <td>0</td>\n",
              "    </tr>\n",
              "    <tr>\n",
              "      <th>13</th>\n",
              "      <td>8628627</td>\n",
              "      <td>담백하고 깔끔해서 좋다. 신문기사로만 보다 보면 자꾸 잊어버린다. 그들도 사람이었다...</td>\n",
              "      <td>1</td>\n",
              "    </tr>\n",
              "    <tr>\n",
              "      <th>14</th>\n",
              "      <td>9864035</td>\n",
              "      <td>취향은 존중한다지만 진짜 내생에 극장에서 본 영화중 가장 노잼 노감동임 스토리도 어...</td>\n",
              "      <td>0</td>\n",
              "    </tr>\n",
              "    <tr>\n",
              "      <th>15</th>\n",
              "      <td>6852435</td>\n",
              "      <td>ㄱ냥 매번 긴장되고 재밋음ㅠㅠ</td>\n",
              "      <td>1</td>\n",
              "    </tr>\n",
              "    <tr>\n",
              "      <th>16</th>\n",
              "      <td>9143163</td>\n",
              "      <td>참 사람들 웃긴게 바스코가 이기면 락스코라고 까고바비가 이기면 아이돌이라고 깐다.그...</td>\n",
              "      <td>1</td>\n",
              "    </tr>\n",
              "    <tr>\n",
              "      <th>17</th>\n",
              "      <td>4891476</td>\n",
              "      <td>굿바이 레닌 표절인것은 이해하는데 왜 뒤로 갈수록 재미없어지냐</td>\n",
              "      <td>0</td>\n",
              "    </tr>\n",
              "    <tr>\n",
              "      <th>18</th>\n",
              "      <td>7465483</td>\n",
              "      <td>이건 정말 깨알 캐스팅과 질퍽하지않은 산뜻한 내용구성이 잘 버무러진 깨알일드!!♥</td>\n",
              "      <td>1</td>\n",
              "    </tr>\n",
              "    <tr>\n",
              "      <th>19</th>\n",
              "      <td>3989148</td>\n",
              "      <td>약탈자를 위한 변명, 이라. 저놈들은 착한놈들 절대 아닌걸요.</td>\n",
              "      <td>1</td>\n",
              "    </tr>\n",
              "  </tbody>\n",
              "</table>\n",
              "</div>\n",
              "      <button class=\"colab-df-convert\" onclick=\"convertToInteractive('df-743e981a-939d-4167-aa18-4b894184bdef')\"\n",
              "              title=\"Convert this dataframe to an interactive table.\"\n",
              "              style=\"display:none;\">\n",
              "\n",
              "  <svg xmlns=\"http://www.w3.org/2000/svg\" height=\"24px\"viewBox=\"0 0 24 24\"\n",
              "       width=\"24px\">\n",
              "    <path d=\"M0 0h24v24H0V0z\" fill=\"none\"/>\n",
              "    <path d=\"M18.56 5.44l.94 2.06.94-2.06 2.06-.94-2.06-.94-.94-2.06-.94 2.06-2.06.94zm-11 1L8.5 8.5l.94-2.06 2.06-.94-2.06-.94L8.5 2.5l-.94 2.06-2.06.94zm10 10l.94 2.06.94-2.06 2.06-.94-2.06-.94-.94-2.06-.94 2.06-2.06.94z\"/><path d=\"M17.41 7.96l-1.37-1.37c-.4-.4-.92-.59-1.43-.59-.52 0-1.04.2-1.43.59L10.3 9.45l-7.72 7.72c-.78.78-.78 2.05 0 2.83L4 21.41c.39.39.9.59 1.41.59.51 0 1.02-.2 1.41-.59l7.78-7.78 2.81-2.81c.8-.78.8-2.07 0-2.86zM5.41 20L4 18.59l7.72-7.72 1.47 1.35L5.41 20z\"/>\n",
              "  </svg>\n",
              "      </button>\n",
              "\n",
              "\n",
              "\n",
              "    <div id=\"df-4b985754-1bb8-42e1-8bd3-4bf6a52948f3\">\n",
              "      <button class=\"colab-df-quickchart\" onclick=\"quickchart('df-4b985754-1bb8-42e1-8bd3-4bf6a52948f3')\"\n",
              "              title=\"Suggest charts.\"\n",
              "              style=\"display:none;\">\n",
              "\n",
              "<svg xmlns=\"http://www.w3.org/2000/svg\" height=\"24px\"viewBox=\"0 0 24 24\"\n",
              "     width=\"24px\">\n",
              "    <g>\n",
              "        <path d=\"M19 3H5c-1.1 0-2 .9-2 2v14c0 1.1.9 2 2 2h14c1.1 0 2-.9 2-2V5c0-1.1-.9-2-2-2zM9 17H7v-7h2v7zm4 0h-2V7h2v10zm4 0h-2v-4h2v4z\"/>\n",
              "    </g>\n",
              "</svg>\n",
              "      </button>\n",
              "    </div>\n",
              "\n",
              "<style>\n",
              "  .colab-df-quickchart {\n",
              "    background-color: #E8F0FE;\n",
              "    border: none;\n",
              "    border-radius: 50%;\n",
              "    cursor: pointer;\n",
              "    display: none;\n",
              "    fill: #1967D2;\n",
              "    height: 32px;\n",
              "    padding: 0 0 0 0;\n",
              "    width: 32px;\n",
              "  }\n",
              "\n",
              "  .colab-df-quickchart:hover {\n",
              "    background-color: #E2EBFA;\n",
              "    box-shadow: 0px 1px 2px rgba(60, 64, 67, 0.3), 0px 1px 3px 1px rgba(60, 64, 67, 0.15);\n",
              "    fill: #174EA6;\n",
              "  }\n",
              "\n",
              "  [theme=dark] .colab-df-quickchart {\n",
              "    background-color: #3B4455;\n",
              "    fill: #D2E3FC;\n",
              "  }\n",
              "\n",
              "  [theme=dark] .colab-df-quickchart:hover {\n",
              "    background-color: #434B5C;\n",
              "    box-shadow: 0px 1px 3px 1px rgba(0, 0, 0, 0.15);\n",
              "    filter: drop-shadow(0px 1px 2px rgba(0, 0, 0, 0.3));\n",
              "    fill: #FFFFFF;\n",
              "  }\n",
              "</style>\n",
              "\n",
              "    <script>\n",
              "      async function quickchart(key) {\n",
              "        const containerElement = document.querySelector('#' + key);\n",
              "        const charts = await google.colab.kernel.invokeFunction(\n",
              "            'suggestCharts', [key], {});\n",
              "      }\n",
              "    </script>\n",
              "\n",
              "      <script>\n",
              "\n",
              "function displayQuickchartButton(domScope) {\n",
              "  let quickchartButtonEl =\n",
              "    domScope.querySelector('#df-4b985754-1bb8-42e1-8bd3-4bf6a52948f3 button.colab-df-quickchart');\n",
              "  quickchartButtonEl.style.display =\n",
              "    google.colab.kernel.accessAllowed ? 'block' : 'none';\n",
              "}\n",
              "\n",
              "        displayQuickchartButton(document);\n",
              "      </script>\n",
              "      <style>\n",
              "    .colab-df-container {\n",
              "      display:flex;\n",
              "      flex-wrap:wrap;\n",
              "      gap: 12px;\n",
              "    }\n",
              "\n",
              "    .colab-df-convert {\n",
              "      background-color: #E8F0FE;\n",
              "      border: none;\n",
              "      border-radius: 50%;\n",
              "      cursor: pointer;\n",
              "      display: none;\n",
              "      fill: #1967D2;\n",
              "      height: 32px;\n",
              "      padding: 0 0 0 0;\n",
              "      width: 32px;\n",
              "    }\n",
              "\n",
              "    .colab-df-convert:hover {\n",
              "      background-color: #E2EBFA;\n",
              "      box-shadow: 0px 1px 2px rgba(60, 64, 67, 0.3), 0px 1px 3px 1px rgba(60, 64, 67, 0.15);\n",
              "      fill: #174EA6;\n",
              "    }\n",
              "\n",
              "    [theme=dark] .colab-df-convert {\n",
              "      background-color: #3B4455;\n",
              "      fill: #D2E3FC;\n",
              "    }\n",
              "\n",
              "    [theme=dark] .colab-df-convert:hover {\n",
              "      background-color: #434B5C;\n",
              "      box-shadow: 0px 1px 3px 1px rgba(0, 0, 0, 0.15);\n",
              "      filter: drop-shadow(0px 1px 2px rgba(0, 0, 0, 0.3));\n",
              "      fill: #FFFFFF;\n",
              "    }\n",
              "  </style>\n",
              "\n",
              "      <script>\n",
              "        const buttonEl =\n",
              "          document.querySelector('#df-743e981a-939d-4167-aa18-4b894184bdef button.colab-df-convert');\n",
              "        buttonEl.style.display =\n",
              "          google.colab.kernel.accessAllowed ? 'block' : 'none';\n",
              "\n",
              "        async function convertToInteractive(key) {\n",
              "          const element = document.querySelector('#df-743e981a-939d-4167-aa18-4b894184bdef');\n",
              "          const dataTable =\n",
              "            await google.colab.kernel.invokeFunction('convertToInteractive',\n",
              "                                                     [key], {});\n",
              "          if (!dataTable) return;\n",
              "\n",
              "          const docLinkHtml = 'Like what you see? Visit the ' +\n",
              "            '<a target=\"_blank\" href=https://colab.research.google.com/notebooks/data_table.ipynb>data table notebook</a>'\n",
              "            + ' to learn more about interactive tables.';\n",
              "          element.innerHTML = '';\n",
              "          dataTable['output_type'] = 'display_data';\n",
              "          await google.colab.output.renderOutput(dataTable, element);\n",
              "          const docLink = document.createElement('div');\n",
              "          docLink.innerHTML = docLinkHtml;\n",
              "          element.appendChild(docLink);\n",
              "        }\n",
              "      </script>\n",
              "    </div>\n",
              "  </div>\n"
            ]
          },
          "metadata": {},
          "execution_count": 82
        }
      ],
      "source": [
        "train_data = pd.read_table('ratings_train.txt')\n",
        "test_data = pd.read_table('ratings_test.txt')\n",
        "# txt의 경우 read_table로 바로 작업 가능\n",
        "train_data=train_data[:1000]\n",
        "test_data=test_data[:1000]\n",
        "\n",
        "print('훈련용 리뷰 개수 :',len(train_data)) # 훈련용 리뷰 개수 출력\n",
        "print('테스트용 리뷰 개수 :',len(test_data)) # 테스트용 리뷰 개수 출력\n",
        "\n",
        "train_data.head(20)"
      ]
    },
    {
      "cell_type": "markdown",
      "metadata": {
        "id": "4xFdytwJE-lF"
      },
      "source": [
        "##### 데이터 정제"
      ]
    },
    {
      "cell_type": "code",
      "execution_count": 83,
      "metadata": {
        "colab": {
          "base_uri": "https://localhost:8080/"
        },
        "id": "DDaWWREYFNk9",
        "outputId": "29372ac3-a4fd-4dec-8a0e-efeb4abbd45b"
      },
      "outputs": [
        {
          "output_type": "execute_result",
          "data": {
            "text/plain": [
              "1000"
            ]
          },
          "metadata": {},
          "execution_count": 83
        }
      ],
      "source": [
        "len(train_data)"
      ]
    },
    {
      "cell_type": "code",
      "execution_count": 84,
      "metadata": {
        "colab": {
          "base_uri": "https://localhost:8080/"
        },
        "id": "diO2ATc5D2nl",
        "outputId": "d4931204-fb13-4a26-f781-2fd770359fad"
      },
      "outputs": [
        {
          "output_type": "execute_result",
          "data": {
            "text/plain": [
              "(1000, 2)"
            ]
          },
          "metadata": {},
          "execution_count": 84
        }
      ],
      "source": [
        "# 중복 제거\n",
        "# document 열과 label 열의 중복을 제외한 값의 개수\n",
        "train_data['document'].nunique(), train_data['label'].nunique()\n",
        "# return 값이 2개 이상인 것을 찾으면 됨"
      ]
    },
    {
      "cell_type": "code",
      "execution_count": 85,
      "metadata": {
        "colab": {
          "base_uri": "https://localhost:8080/"
        },
        "id": "gy1gsWR0D2sd",
        "outputId": "c91c7fe8-ca83-42bc-ff34-d54d2cf7ff00"
      },
      "outputs": [
        {
          "output_type": "execute_result",
          "data": {
            "text/plain": [
              "아 더빙.. 진짜 짜증나네요 목소리                                                                                                                   False\n",
              "무슨 내용인지 도통 모르겠다... 쓸데없이 특별해 보이려는 시도에만 열중이었던 영화.                                                                                       False\n",
              "국민학교 다닐때 이거 동생이랑 보다가.... 눈물이...ㅋ                                                                                                      False\n",
              "욕망이라는 이름의 전차.                                                                                                                         False\n",
              "'디 워'랑 같은 부류.. 저예산 + 저렴한 CG + 마구잡이연출                                                                                                  False\n",
              "                                                                                                                                      ...  \n",
              "안습                                                                                                                                    False\n",
              "감독의 의도를 전혀 알아차리지 못했다.                                                                                                                 False\n",
              "하나님이가정을온전히만든다. 진리이신분이만든영화. 눈으로만보지말고마음으로봐라.                                                                                            False\n",
              "2편도 나름 흥미진진한데 핀헤드가 죽은게 좀 아쉬운 점이랄까?                                                                                                    False\n",
              "남자 주인공 늑대 인간으로 변하고 끝나네유. 평점 보고 안 볼까 하다가 봤는디 재밌네유. CG보다 이런 실물 특수 효과가 더 보는 재미가 있어유. 웃기기까지 하네유. 근디 제목 번역은 어느 바보가 한거여. 그냥 늑대 인간이 아니잖여.    False\n",
              "Name: document, Length: 1000, dtype: bool"
            ]
          },
          "metadata": {},
          "execution_count": 85
        }
      ],
      "source": [
        "tmp=train_data['document'].value_counts()\n",
        "tmp>1"
      ]
    },
    {
      "cell_type": "code",
      "execution_count": 86,
      "metadata": {
        "colab": {
          "base_uri": "https://localhost:8080/"
        },
        "id": "Dk3o0nxLD2wV",
        "outputId": "0016ed43-cc36-4679-e5ff-060eb114a6c4"
      },
      "outputs": [
        {
          "output_type": "execute_result",
          "data": {
            "text/plain": [
              "아 더빙.. 진짜 짜증나네요 목소리                                                                                                                   False\n",
              "무슨 내용인지 도통 모르겠다... 쓸데없이 특별해 보이려는 시도에만 열중이었던 영화.                                                                                       False\n",
              "국민학교 다닐때 이거 동생이랑 보다가.... 눈물이...ㅋ                                                                                                      False\n",
              "욕망이라는 이름의 전차.                                                                                                                         False\n",
              "'디 워'랑 같은 부류.. 저예산 + 저렴한 CG + 마구잡이연출                                                                                                  False\n",
              "                                                                                                                                      ...  \n",
              "안습                                                                                                                                    False\n",
              "감독의 의도를 전혀 알아차리지 못했다.                                                                                                                 False\n",
              "하나님이가정을온전히만든다. 진리이신분이만든영화. 눈으로만보지말고마음으로봐라.                                                                                            False\n",
              "2편도 나름 흥미진진한데 핀헤드가 죽은게 좀 아쉬운 점이랄까?                                                                                                    False\n",
              "남자 주인공 늑대 인간으로 변하고 끝나네유. 평점 보고 안 볼까 하다가 봤는디 재밌네유. CG보다 이런 실물 특수 효과가 더 보는 재미가 있어유. 웃기기까지 하네유. 근디 제목 번역은 어느 바보가 한거여. 그냥 늑대 인간이 아니잖여.    False\n",
              "Name: document, Length: 1000, dtype: bool"
            ]
          },
          "metadata": {},
          "execution_count": 86
        }
      ],
      "source": [
        "# document 열의 중복 제거\n",
        "train_data.drop_duplicates(subset=['document'], inplace=True)\n",
        "train_data['document'].value_counts() > 1"
      ]
    },
    {
      "cell_type": "code",
      "execution_count": 87,
      "metadata": {
        "colab": {
          "base_uri": "https://localhost:8080/",
          "height": 443
        },
        "id": "Eh4cU3e0D20O",
        "outputId": "271d632b-cc79-4186-dc22-55fb697af9c5"
      },
      "outputs": [
        {
          "output_type": "execute_result",
          "data": {
            "text/plain": [
              "<Axes: >"
            ]
          },
          "metadata": {},
          "execution_count": 87
        },
        {
          "output_type": "display_data",
          "data": {
            "text/plain": [
              "<Figure size 640x480 with 1 Axes>"
            ],
            "image/png": "[encoded data removed]"
          },
          "metadata": {}
        }
      ],
      "source": [
        "### y값 편향 유무 판단\n",
        "train_data['label'].value_counts().plot(kind = 'bar')"
      ]
    },
    {
      "cell_type": "code",
      "execution_count": 88,
      "metadata": {
        "colab": {
          "base_uri": "https://localhost:8080/"
        },
        "id": "nSqp88ZdD221",
        "outputId": "a81c5732-0c31-4692-d2a2-b75e048d9aaa"
      },
      "outputs": [
        {
          "output_type": "stream",
          "name": "stdout",
          "text": [
            "<class 'pandas.core.frame.DataFrame'>\n",
            "Int64Index: 1000 entries, 0 to 999\n",
            "Data columns (total 3 columns):\n",
            " #   Column    Non-Null Count  Dtype \n",
            "---  ------    --------------  ----- \n",
            " 0   id        1000 non-null   int64 \n",
            " 1   document  1000 non-null   object\n",
            " 2   label     1000 non-null   int64 \n",
            "dtypes: int64(2), object(1)\n",
            "memory usage: 31.2+ KB\n"
          ]
        }
      ],
      "source": [
        "train_data.info()"
      ]
    },
    {
      "cell_type": "code",
      "execution_count": 89,
      "metadata": {
        "colab": {
          "base_uri": "https://localhost:8080/",
          "height": 49
        },
        "id": "wqhaAizpD25-",
        "outputId": "54984700-299a-492a-efb8-1cc3b8ef7a32"
      },
      "outputs": [
        {
          "output_type": "execute_result",
          "data": {
            "text/plain": [
              "Empty DataFrame\n",
              "Columns: [id, document, label]\n",
              "Index: []"
            ],
            "text/html": [
              "\n",
              "\n",
              "  <div id=\"df-55c87f5c-b7a9-4a4c-806f-03046713c386\">\n",
              "    <div class=\"colab-df-container\">\n",
              "      <div>\n",
              "<style scoped>\n",
              "    .dataframe tbody tr th:only-of-type {\n",
              "        vertical-align: middle;\n",
              "    }\n",
              "\n",
              "    .dataframe tbody tr th {\n",
              "        vertical-align: top;\n",
              "    }\n",
              "\n",
              "    .dataframe thead th {\n",
              "        text-align: right;\n",
              "    }\n",
              "</style>\n",
              "<table border=\"1\" class=\"dataframe\">\n",
              "  <thead>\n",
              "    <tr style=\"text-align: right;\">\n",
              "      <th></th>\n",
              "      <th>id</th>\n",
              "      <th>document</th>\n",
              "      <th>label</th>\n",
              "    </tr>\n",
              "  </thead>\n",
              "  <tbody>\n",
              "  </tbody>\n",
              "</table>\n",
              "</div>\n",
              "      <button class=\"colab-df-convert\" onclick=\"convertToInteractive('df-55c87f5c-b7a9-4a4c-806f-03046713c386')\"\n",
              "              title=\"Convert this dataframe to an interactive table.\"\n",
              "              style=\"display:none;\">\n",
              "\n",
              "  <svg xmlns=\"http://www.w3.org/2000/svg\" height=\"24px\"viewBox=\"0 0 24 24\"\n",
              "       width=\"24px\">\n",
              "    <path d=\"M0 0h24v24H0V0z\" fill=\"none\"/>\n",
              "    <path d=\"M18.56 5.44l.94 2.06.94-2.06 2.06-.94-2.06-.94-.94-2.06-.94 2.06-2.06.94zm-11 1L8.5 8.5l.94-2.06 2.06-.94-2.06-.94L8.5 2.5l-.94 2.06-2.06.94zm10 10l.94 2.06.94-2.06 2.06-.94-2.06-.94-.94-2.06-.94 2.06-2.06.94z\"/><path d=\"M17.41 7.96l-1.37-1.37c-.4-.4-.92-.59-1.43-.59-.52 0-1.04.2-1.43.59L10.3 9.45l-7.72 7.72c-.78.78-.78 2.05 0 2.83L4 21.41c.39.39.9.59 1.41.59.51 0 1.02-.2 1.41-.59l7.78-7.78 2.81-2.81c.8-.78.8-2.07 0-2.86zM5.41 20L4 18.59l7.72-7.72 1.47 1.35L5.41 20z\"/>\n",
              "  </svg>\n",
              "      </button>\n",
              "\n",
              "\n",
              "\n",
              "    <div id=\"df-723e916b-bbbd-417f-93d5-d826c02df5e9\">\n",
              "      <button class=\"colab-df-quickchart\" onclick=\"quickchart('df-723e916b-bbbd-417f-93d5-d826c02df5e9')\"\n",
              "              title=\"Suggest charts.\"\n",
              "              style=\"display:none;\">\n",
              "\n",
              "<svg xmlns=\"http://www.w3.org/2000/svg\" height=\"24px\"viewBox=\"0 0 24 24\"\n",
              "     width=\"24px\">\n",
              "    <g>\n",
              "        <path d=\"M19 3H5c-1.1 0-2 .9-2 2v14c0 1.1.9 2 2 2h14c1.1 0 2-.9 2-2V5c0-1.1-.9-2-2-2zM9 17H7v-7h2v7zm4 0h-2V7h2v10zm4 0h-2v-4h2v4z\"/>\n",
              "    </g>\n",
              "</svg>\n",
              "      </button>\n",
              "    </div>\n",
              "\n",
              "<style>\n",
              "  .colab-df-quickchart {\n",
              "    background-color: #E8F0FE;\n",
              "    border: none;\n",
              "    border-radius: 50%;\n",
              "    cursor: pointer;\n",
              "    display: none;\n",
              "    fill: #1967D2;\n",
              "    height: 32px;\n",
              "    padding: 0 0 0 0;\n",
              "    width: 32px;\n",
              "  }\n",
              "\n",
              "  .colab-df-quickchart:hover {\n",
              "    background-color: #E2EBFA;\n",
              "    box-shadow: 0px 1px 2px rgba(60, 64, 67, 0.3), 0px 1px 3px 1px rgba(60, 64, 67, 0.15);\n",
              "    fill: #174EA6;\n",
              "  }\n",
              "\n",
              "  [theme=dark] .colab-df-quickchart {\n",
              "    background-color: #3B4455;\n",
              "    fill: #D2E3FC;\n",
              "  }\n",
              "\n",
              "  [theme=dark] .colab-df-quickchart:hover {\n",
              "    background-color: #434B5C;\n",
              "    box-shadow: 0px 1px 3px 1px rgba(0, 0, 0, 0.15);\n",
              "    filter: drop-shadow(0px 1px 2px rgba(0, 0, 0, 0.3));\n",
              "    fill: #FFFFFF;\n",
              "  }\n",
              "</style>\n",
              "\n",
              "    <script>\n",
              "      async function quickchart(key) {\n",
              "        const containerElement = document.querySelector('#' + key);\n",
              "        const charts = await google.colab.kernel.invokeFunction(\n",
              "            'suggestCharts', [key], {});\n",
              "      }\n",
              "    </script>\n",
              "\n",
              "      <script>\n",
              "\n",
              "function displayQuickchartButton(domScope) {\n",
              "  let quickchartButtonEl =\n",
              "    domScope.querySelector('#df-723e916b-bbbd-417f-93d5-d826c02df5e9 button.colab-df-quickchart');\n",
              "  quickchartButtonEl.style.display =\n",
              "    google.colab.kernel.accessAllowed ? 'block' : 'none';\n",
              "}\n",
              "\n",
              "        displayQuickchartButton(document);\n",
              "      </script>\n",
              "      <style>\n",
              "    .colab-df-container {\n",
              "      display:flex;\n",
              "      flex-wrap:wrap;\n",
              "      gap: 12px;\n",
              "    }\n",
              "\n",
              "    .colab-df-convert {\n",
              "      background-color: #E8F0FE;\n",
              "      border: none;\n",
              "      border-radius: 50%;\n",
              "      cursor: pointer;\n",
              "      display: none;\n",
              "      fill: #1967D2;\n",
              "      height: 32px;\n",
              "      padding: 0 0 0 0;\n",
              "      width: 32px;\n",
              "    }\n",
              "\n",
              "    .colab-df-convert:hover {\n",
              "      background-color: #E2EBFA;\n",
              "      box-shadow: 0px 1px 2px rgba(60, 64, 67, 0.3), 0px 1px 3px 1px rgba(60, 64, 67, 0.15);\n",
              "      fill: #174EA6;\n",
              "    }\n",
              "\n",
              "    [theme=dark] .colab-df-convert {\n",
              "      background-color: #3B4455;\n",
              "      fill: #D2E3FC;\n",
              "    }\n",
              "\n",
              "    [theme=dark] .colab-df-convert:hover {\n",
              "      background-color: #434B5C;\n",
              "      box-shadow: 0px 1px 3px 1px rgba(0, 0, 0, 0.15);\n",
              "      filter: drop-shadow(0px 1px 2px rgba(0, 0, 0, 0.3));\n",
              "      fill: #FFFFFF;\n",
              "    }\n",
              "  </style>\n",
              "\n",
              "      <script>\n",
              "        const buttonEl =\n",
              "          document.querySelector('#df-55c87f5c-b7a9-4a4c-806f-03046713c386 button.colab-df-convert');\n",
              "        buttonEl.style.display =\n",
              "          google.colab.kernel.accessAllowed ? 'block' : 'none';\n",
              "\n",
              "        async function convertToInteractive(key) {\n",
              "          const element = document.querySelector('#df-55c87f5c-b7a9-4a4c-806f-03046713c386');\n",
              "          const dataTable =\n",
              "            await google.colab.kernel.invokeFunction('convertToInteractive',\n",
              "                                                     [key], {});\n",
              "          if (!dataTable) return;\n",
              "\n",
              "          const docLinkHtml = 'Like what you see? Visit the ' +\n",
              "            '<a target=\"_blank\" href=https://colab.research.google.com/notebooks/data_table.ipynb>data table notebook</a>'\n",
              "            + ' to learn more about interactive tables.';\n",
              "          element.innerHTML = '';\n",
              "          dataTable['output_type'] = 'display_data';\n",
              "          await google.colab.output.renderOutput(dataTable, element);\n",
              "          const docLink = document.createElement('div');\n",
              "          docLink.innerHTML = docLinkHtml;\n",
              "          element.appendChild(docLink);\n",
              "        }\n",
              "      </script>\n",
              "    </div>\n",
              "  </div>\n"
            ]
          },
          "metadata": {},
          "execution_count": 89
        }
      ],
      "source": [
        "# 결측치 확인 및 제거\n",
        "train_data.loc[train_data.document.isnull()]"
      ]
    },
    {
      "cell_type": "code",
      "execution_count": 90,
      "metadata": {
        "colab": {
          "base_uri": "https://localhost:8080/"
        },
        "id": "P5CLD5NsD2_l",
        "outputId": "0f1c59de-2e4d-4cea-cc97-a347eeffc091"
      },
      "outputs": [
        {
          "output_type": "stream",
          "name": "stdout",
          "text": [
            "False\n",
            "<class 'pandas.core.frame.DataFrame'>\n",
            "Int64Index: 1000 entries, 0 to 999\n",
            "Data columns (total 3 columns):\n",
            " #   Column    Non-Null Count  Dtype \n",
            "---  ------    --------------  ----- \n",
            " 0   id        1000 non-null   int64 \n",
            " 1   document  1000 non-null   object\n",
            " 2   label     1000 non-null   int64 \n",
            "dtypes: int64(2), object(1)\n",
            "memory usage: 31.2+ KB\n"
          ]
        }
      ],
      "source": [
        "train_data = train_data.dropna(how = 'any') # Null 값이 존재하는 행 제거\n",
        "print(train_data.isnull().values.any()) # Null 값이 존재하는지 확인\n",
        "train_data.info()"
      ]
    },
    {
      "cell_type": "markdown",
      "metadata": {
        "id": "Zt_mqrNLG_V3"
      },
      "source": [
        "### 정규표현식 작업"
      ]
    },
    {
      "cell_type": "code",
      "execution_count": 91,
      "metadata": {
        "colab": {
          "base_uri": "https://localhost:8080/",
          "height": 324
        },
        "id": "yd5Wv1DmD3Et",
        "outputId": "4d497ae4-e1dc-44e8-c0d3-58f6d33200dd"
      },
      "outputs": [
        {
          "output_type": "stream",
          "name": "stderr",
          "text": [
            "<ipython-input-91-bf8b0bd379d8>:2: FutureWarning: The default value of regex will change from True to False in a future version.\n",
            "  train_data['document'] = train_data['document'].str.replace(\"[^ㄱ-ㅎㅏ-ㅣ가-힣 ]\",\"\")\n"
          ]
        },
        {
          "output_type": "execute_result",
          "data": {
            "text/plain": [
              "         id                                           document  label\n",
              "0   9976970                                  아 더빙 진짜 짜증나네요 목소리      0\n",
              "1   3819312                         흠포스터보고 초딩영화줄오버연기조차 가볍지 않구나      1\n",
              "2  10265843                                  너무재밓었다그래서보는것을추천한다      0\n",
              "3   9045019                          교도소 이야기구먼 솔직히 재미는 없다평점 조정      0\n",
              "4   6483659  사이몬페그의 익살스런 연기가 돋보였던 영화스파이더맨에서 늙어보이기만 했던 커스틴 던...      1"
            ],
            "text/html": [
              "\n",
              "\n",
              "  <div id=\"df-befecd32-bafe-4408-b9ec-8fa1bb2db80b\">\n",
              "    <div class=\"colab-df-container\">\n",
              "      <div>\n",
              "<style scoped>\n",
              "    .dataframe tbody tr th:only-of-type {\n",
              "        vertical-align: middle;\n",
              "    }\n",
              "\n",
              "    .dataframe tbody tr th {\n",
              "        vertical-align: top;\n",
              "    }\n",
              "\n",
              "    .dataframe thead th {\n",
              "        text-align: right;\n",
              "    }\n",
              "</style>\n",
              "<table border=\"1\" class=\"dataframe\">\n",
              "  <thead>\n",
              "    <tr style=\"text-align: right;\">\n",
              "      <th></th>\n",
              "      <th>id</th>\n",
              "      <th>document</th>\n",
              "      <th>label</th>\n",
              "    </tr>\n",
              "  </thead>\n",
              "  <tbody>\n",
              "    <tr>\n",
              "      <th>0</th>\n",
              "      <td>9976970</td>\n",
              "      <td>아 더빙 진짜 짜증나네요 목소리</td>\n",
              "      <td>0</td>\n",
              "    </tr>\n",
              "    <tr>\n",
              "      <th>1</th>\n",
              "      <td>3819312</td>\n",
              "      <td>흠포스터보고 초딩영화줄오버연기조차 가볍지 않구나</td>\n",
              "      <td>1</td>\n",
              "    </tr>\n",
              "    <tr>\n",
              "      <th>2</th>\n",
              "      <td>10265843</td>\n",
              "      <td>너무재밓었다그래서보는것을추천한다</td>\n",
              "      <td>0</td>\n",
              "    </tr>\n",
              "    <tr>\n",
              "      <th>3</th>\n",
              "      <td>9045019</td>\n",
              "      <td>교도소 이야기구먼 솔직히 재미는 없다평점 조정</td>\n",
              "      <td>0</td>\n",
              "    </tr>\n",
              "    <tr>\n",
              "      <th>4</th>\n",
              "      <td>6483659</td>\n",
              "      <td>사이몬페그의 익살스런 연기가 돋보였던 영화스파이더맨에서 늙어보이기만 했던 커스틴 던...</td>\n",
              "      <td>1</td>\n",
              "    </tr>\n",
              "  </tbody>\n",
              "</table>\n",
              "</div>\n",
              "      <button class=\"colab-df-convert\" onclick=\"convertToInteractive('df-befecd32-bafe-4408-b9ec-8fa1bb2db80b')\"\n",
              "              title=\"Convert this dataframe to an interactive table.\"\n",
              "              style=\"display:none;\">\n",
              "\n",
              "  <svg xmlns=\"http://www.w3.org/2000/svg\" height=\"24px\"viewBox=\"0 0 24 24\"\n",
              "       width=\"24px\">\n",
              "    <path d=\"M0 0h24v24H0V0z\" fill=\"none\"/>\n",
              "    <path d=\"M18.56 5.44l.94 2.06.94-2.06 2.06-.94-2.06-.94-.94-2.06-.94 2.06-2.06.94zm-11 1L8.5 8.5l.94-2.06 2.06-.94-2.06-.94L8.5 2.5l-.94 2.06-2.06.94zm10 10l.94 2.06.94-2.06 2.06-.94-2.06-.94-.94-2.06-.94 2.06-2.06.94z\"/><path d=\"M17.41 7.96l-1.37-1.37c-.4-.4-.92-.59-1.43-.59-.52 0-1.04.2-1.43.59L10.3 9.45l-7.72 7.72c-.78.78-.78 2.05 0 2.83L4 21.41c.39.39.9.59 1.41.59.51 0 1.02-.2 1.41-.59l7.78-7.78 2.81-2.81c.8-.78.8-2.07 0-2.86zM5.41 20L4 18.59l7.72-7.72 1.47 1.35L5.41 20z\"/>\n",
              "  </svg>\n",
              "      </button>\n",
              "\n",
              "\n",
              "\n",
              "    <div id=\"df-9cf2e1c9-2d63-4aa0-9b75-aaf973463880\">\n",
              "      <button class=\"colab-df-quickchart\" onclick=\"quickchart('df-9cf2e1c9-2d63-4aa0-9b75-aaf973463880')\"\n",
              "              title=\"Suggest charts.\"\n",
              "              style=\"display:none;\">\n",
              "\n",
              "<svg xmlns=\"http://www.w3.org/2000/svg\" height=\"24px\"viewBox=\"0 0 24 24\"\n",
              "     width=\"24px\">\n",
              "    <g>\n",
              "        <path d=\"M19 3H5c-1.1 0-2 .9-2 2v14c0 1.1.9 2 2 2h14c1.1 0 2-.9 2-2V5c0-1.1-.9-2-2-2zM9 17H7v-7h2v7zm4 0h-2V7h2v10zm4 0h-2v-4h2v4z\"/>\n",
              "    </g>\n",
              "</svg>\n",
              "      </button>\n",
              "    </div>\n",
              "\n",
              "<style>\n",
              "  .colab-df-quickchart {\n",
              "    background-color: #E8F0FE;\n",
              "    border: none;\n",
              "    border-radius: 50%;\n",
              "    cursor: pointer;\n",
              "    display: none;\n",
              "    fill: #1967D2;\n",
              "    height: 32px;\n",
              "    padding: 0 0 0 0;\n",
              "    width: 32px;\n",
              "  }\n",
              "\n",
              "  .colab-df-quickchart:hover {\n",
              "    background-color: #E2EBFA;\n",
              "    box-shadow: 0px 1px 2px rgba(60, 64, 67, 0.3), 0px 1px 3px 1px rgba(60, 64, 67, 0.15);\n",
              "    fill: #174EA6;\n",
              "  }\n",
              "\n",
              "  [theme=dark] .colab-df-quickchart {\n",
              "    background-color: #3B4455;\n",
              "    fill: #D2E3FC;\n",
              "  }\n",
              "\n",
              "  [theme=dark] .colab-df-quickchart:hover {\n",
              "    background-color: #434B5C;\n",
              "    box-shadow: 0px 1px 3px 1px rgba(0, 0, 0, 0.15);\n",
              "    filter: drop-shadow(0px 1px 2px rgba(0, 0, 0, 0.3));\n",
              "    fill: #FFFFFF;\n",
              "  }\n",
              "</style>\n",
              "\n",
              "    <script>\n",
              "      async function quickchart(key) {\n",
              "        const containerElement = document.querySelector('#' + key);\n",
              "        const charts = await google.colab.kernel.invokeFunction(\n",
              "            'suggestCharts', [key], {});\n",
              "      }\n",
              "    </script>\n",
              "\n",
              "      <script>\n",
              "\n",
              "function displayQuickchartButton(domScope) {\n",
              "  let quickchartButtonEl =\n",
              "    domScope.querySelector('#df-9cf2e1c9-2d63-4aa0-9b75-aaf973463880 button.colab-df-quickchart');\n",
              "  quickchartButtonEl.style.display =\n",
              "    google.colab.kernel.accessAllowed ? 'block' : 'none';\n",
              "}\n",
              "\n",
              "        displayQuickchartButton(document);\n",
              "      </script>\n",
              "      <style>\n",
              "    .colab-df-container {\n",
              "      display:flex;\n",
              "      flex-wrap:wrap;\n",
              "      gap: 12px;\n",
              "    }\n",
              "\n",
              "    .colab-df-convert {\n",
              "      background-color: #E8F0FE;\n",
              "      border: none;\n",
              "      border-radius: 50%;\n",
              "      cursor: pointer;\n",
              "      display: none;\n",
              "      fill: #1967D2;\n",
              "      height: 32px;\n",
              "      padding: 0 0 0 0;\n",
              "      width: 32px;\n",
              "    }\n",
              "\n",
              "    .colab-df-convert:hover {\n",
              "      background-color: #E2EBFA;\n",
              "      box-shadow: 0px 1px 2px rgba(60, 64, 67, 0.3), 0px 1px 3px 1px rgba(60, 64, 67, 0.15);\n",
              "      fill: #174EA6;\n",
              "    }\n",
              "\n",
              "    [theme=dark] .colab-df-convert {\n",
              "      background-color: #3B4455;\n",
              "      fill: #D2E3FC;\n",
              "    }\n",
              "\n",
              "    [theme=dark] .colab-df-convert:hover {\n",
              "      background-color: #434B5C;\n",
              "      box-shadow: 0px 1px 3px 1px rgba(0, 0, 0, 0.15);\n",
              "      filter: drop-shadow(0px 1px 2px rgba(0, 0, 0, 0.3));\n",
              "      fill: #FFFFFF;\n",
              "    }\n",
              "  </style>\n",
              "\n",
              "      <script>\n",
              "        const buttonEl =\n",
              "          document.querySelector('#df-befecd32-bafe-4408-b9ec-8fa1bb2db80b button.colab-df-convert');\n",
              "        buttonEl.style.display =\n",
              "          google.colab.kernel.accessAllowed ? 'block' : 'none';\n",
              "\n",
              "        async function convertToInteractive(key) {\n",
              "          const element = document.querySelector('#df-befecd32-bafe-4408-b9ec-8fa1bb2db80b');\n",
              "          const dataTable =\n",
              "            await google.colab.kernel.invokeFunction('convertToInteractive',\n",
              "                                                     [key], {});\n",
              "          if (!dataTable) return;\n",
              "\n",
              "          const docLinkHtml = 'Like what you see? Visit the ' +\n",
              "            '<a target=\"_blank\" href=https://colab.research.google.com/notebooks/data_table.ipynb>data table notebook</a>'\n",
              "            + ' to learn more about interactive tables.';\n",
              "          element.innerHTML = '';\n",
              "          dataTable['output_type'] = 'display_data';\n",
              "          await google.colab.output.renderOutput(dataTable, element);\n",
              "          const docLink = document.createElement('div');\n",
              "          docLink.innerHTML = docLinkHtml;\n",
              "          element.appendChild(docLink);\n",
              "        }\n",
              "      </script>\n",
              "    </div>\n",
              "  </div>\n"
            ]
          },
          "metadata": {},
          "execution_count": 91
        }
      ],
      "source": [
        "# 한글과 공백을 제외하고 모두 제거\n",
        "train_data['document'] = train_data['document'].str.replace(\"[^ㄱ-ㅎㅏ-ㅣ가-힣 ]\",\"\")\n",
        "# 한국어의 경우 [^ㄱ-ㅎㅏ-ㅣ가-힣 ]와 같이 정규표현식을 지정해야함\n",
        "train_data[:5]"
      ]
    },
    {
      "cell_type": "code",
      "execution_count": 92,
      "metadata": {
        "colab": {
          "base_uri": "https://localhost:8080/"
        },
        "id": "uPmcrInZD3G9",
        "outputId": "4634e2c3-b3ca-4ba1-92e6-7f3cada0a259"
      },
      "outputs": [
        {
          "output_type": "stream",
          "name": "stdout",
          "text": [
            "id          0\n",
            "document    7\n",
            "label       0\n",
            "dtype: int64\n"
          ]
        },
        {
          "output_type": "stream",
          "name": "stderr",
          "text": [
            "<ipython-input-92-292cf5204d19>:1: FutureWarning: The default value of regex will change from True to False in a future version.\n",
            "  train_data['document'] = train_data['document'].str.replace('^ +', \"\") # white space 데이터를 empty value로 변경\n"
          ]
        }
      ],
      "source": [
        "train_data['document'] = train_data['document'].str.replace('^ +', \"\") # white space 데이터를 empty value로 변경\n",
        "train_data['document'].replace('', np.nan, inplace=True)\n",
        "print(train_data.isnull().sum())\n",
        "# none 값 789"
      ]
    },
    {
      "cell_type": "code",
      "execution_count": 93,
      "metadata": {
        "colab": {
          "base_uri": "https://localhost:8080/"
        },
        "id": "Ms5P_e_HD3R2",
        "outputId": "04ff8673-799f-47e9-90fc-f2a1d16b7341"
      },
      "outputs": [
        {
          "output_type": "stream",
          "name": "stdout",
          "text": [
            "993\n"
          ]
        }
      ],
      "source": [
        "train_data = train_data.dropna(how = 'any')\n",
        "print(len(train_data))"
      ]
    },
    {
      "cell_type": "code",
      "execution_count": 94,
      "metadata": {
        "colab": {
          "base_uri": "https://localhost:8080/"
        },
        "id": "TqhPm9RfD3UV",
        "outputId": "d9ea6c74-8506-47d6-c47a-4929a0c2b6e8"
      },
      "outputs": [
        {
          "output_type": "stream",
          "name": "stdout",
          "text": [
            "전처리 후 테스트용 샘플의 개수 : 985\n"
          ]
        },
        {
          "output_type": "stream",
          "name": "stderr",
          "text": [
            "<ipython-input-94-39ac924addc3>:3: FutureWarning: The default value of regex will change from True to False in a future version.\n",
            "  test_data['document'] = test_data['document'].str.replace(\"[^ㄱ-ㅎㅏ-ㅣ가-힣 ]\",\"\") # 정규 표현식 수행\n",
            "<ipython-input-94-39ac924addc3>:4: FutureWarning: The default value of regex will change from True to False in a future version.\n",
            "  test_data['document'] = test_data['document'].str.replace('^ +', \"\") # 공백은 empty 값으로 변경\n"
          ]
        }
      ],
      "source": [
        "# 중복 제거\n",
        "test_data.drop_duplicates(subset = ['document'], inplace=True) # document 열에서 중복인 내용이 있다면 중복 제거\n",
        "test_data['document'] = test_data['document'].str.replace(\"[^ㄱ-ㅎㅏ-ㅣ가-힣 ]\",\"\") # 정규 표현식 수행\n",
        "test_data['document'] = test_data['document'].str.replace('^ +', \"\") # 공백은 empty 값으로 변경\n",
        "test_data['document'].replace('', np.nan, inplace=True) # 공백은 Null 값으로 변경\n",
        "test_data = test_data.dropna(how='any') # Null 값 제거\n",
        "print('전처리 후 테스트용 샘플의 개수 :',len(test_data))\n",
        "# 작업 후 duplicate를 다시 봐야 함"
      ]
    },
    {
      "cell_type": "markdown",
      "metadata": {
        "id": "JelJRKaBICCA"
      },
      "source": [
        "### 토큰화"
      ]
    },
    {
      "cell_type": "code",
      "execution_count": 95,
      "metadata": {
        "id": "DhaMWDZvD3YE",
        "colab": {
          "base_uri": "https://localhost:8080/"
        },
        "outputId": "fa6493fe-ae22-49a4-bde2-ed418634729c"
      },
      "outputs": [
        {
          "output_type": "stream",
          "name": "stderr",
          "text": [
            "100%|██████████| 993/993 [00:05<00:00, 184.14it/s]\n"
          ]
        }
      ],
      "source": [
        "stopwords = ['의','가','이','은','들','는','좀','잘','걍','과','도','를','으로','자','에','와','한','하다']\n",
        "\n",
        "okt=Okt()\n",
        "\n",
        "X_train = []\n",
        "for sentence in tqdm(train_data['document']):\n",
        "    tokenized_sentence = okt.morphs(sentence, stem=True) # 토큰화, stem : 맞춤법 사전\n",
        "    stopwords_removed_sentence = [word for word in tokenized_sentence if not word in stopwords] # 불용어 제거\n",
        "    X_train.append(stopwords_removed_sentence)\n"
      ]
    },
    {
      "cell_type": "code",
      "execution_count": 96,
      "metadata": {
        "colab": {
          "base_uri": "https://localhost:8080/"
        },
        "id": "ufpyG-V0D3jM",
        "outputId": "05e269c8-ee08-40e7-9d29-be08d7aeb3be"
      },
      "outputs": [
        {
          "output_type": "stream",
          "name": "stderr",
          "text": [
            "100%|██████████| 985/985 [00:06<00:00, 144.15it/s]\n"
          ]
        }
      ],
      "source": [
        "X_test = []\n",
        "for sentence in tqdm(test_data['document']):\n",
        "    tokenized_sentence = okt.morphs(sentence, stem=True) # 토큰화\n",
        "    stopwords_removed_sentence = [word for word in tokenized_sentence if not word in stopwords] # 불용어 제거\n",
        "    X_test.append(stopwords_removed_sentence)\n"
      ]
    },
    {
      "cell_type": "markdown",
      "source": [
        "### 정수 인코딩"
      ],
      "metadata": {
        "id": "JPCop1tUSFBt"
      }
    },
    {
      "cell_type": "code",
      "execution_count": 97,
      "metadata": {
        "id": "wWeW_4I3D3ls",
        "colab": {
          "base_uri": "https://localhost:8080/"
        },
        "outputId": "0c7f7dfd-63d0-4797-c9e2-e8e2513be556"
      },
      "outputs": [
        {
          "output_type": "stream",
          "name": "stdout",
          "text": [
            "{'영화': 1, '보다': 2, '을': 3, '없다': 4, '있다': 5, '이다': 6, '좋다': 7, '다': 8, '적': 9, '진짜': 10, '정말': 11, '너무': 12, '아니다': 13, '재밌다': 14, '만': 15, '되다': 16, '같다': 17, '연기': 18, '인': 19, '로': 20, '나오다': 21, '점': 22, '최고': 23, '안': 24, '에서': 25, '사람': 26, '내': 27, '않다': 28, '보고': 29, '그': 30, '만들다': 31, '것': 32, '왜': 33, '못': 34, '하고': 35, '나': 36, '말': 37, '감동': 38, '재미': 39, '아깝다': 40, '고': 41, '재미없다': 42, '싶다': 43, 'ㅋㅋ': 44, '재미있다': 45, '생각': 46, '내용': 47, '배우': 48, '더': 49, '아': 50, '그냥': 51, '드라마': 52, '중': 53, '시간': 54, '평점': 55, '스토리': 56, '들다': 57, '감독': 58, '알다': 59, '때': 60, '쓰레기': 61, '게': 62, '그렇다': 63, '하나': 64, '작품': 65, '볼': 66, '자다': 67, '완전': 68, 'ㅠㅠ': 69, '모르다': 70, '주인공': 71, '개': 72, '기': 73, '요': 74, '지루하다': 75, '또': 76, '정도': 77, '주다': 78, '느낌': 79, '거': 80, '년': 81, '듯': 82, '오다': 83, 'ㅋㅋㅋ': 84, '네': 85, '돈': 86, '가다': 87, '지': 88, '수': 89, '다시': 90, '뭐': 91, '먹다': 92, '이건': 93, 'ㅡㅡ': 94, '이렇다': 95, '라': 96, '냐': 97, '마지막': 98, '안되다': 99, '난': 100, '인생': 101, '일': 102, '사랑': 103, '속': 104, '까지': 105, '줄': 106, '이야기': 107, '솔직하다': 108, '살다': 109, '액션': 110, '차다': 111, '저': 112, '별로': 113, 'ㅋ': 114, '최악': 115, '여': 116, '어떻다': 117, '명작': 118, '남다': 119, '느끼다': 120, '임': 121, '하': 122, '넘다': 123, '버리다': 124, '이렇게': 125, '받다': 126, '무슨': 127, '전': 128, '에게': 129, '소재': 130, '역시': 131, '나다': 132, '괜찮다': 133, '연출': 134, '무섭다': 135, '많다': 136, '그리고': 137, '장면': 138, '남자': 139, '별': 140, '죽다': 141, '서': 142, '인데': 143, '한번': 144, '님': 145, '멋지다': 146, '알': 147, '슬프다': 148, '건지다': 149, '이고': 150, '랑': 151, '기억': 152, '본': 153, '부터': 154, '연': 155, '끄다': 156, '이해': 157, '건': 158, '돼다': 159, '음악': 160, '아쉽다': 161, '자체': 162, '전개': 163, '일본': 164, '영': 165, '지금': 166, '인간': 167, '짜증나다': 168, '면': 169, '절대': 170, '걸': 171, '이네': 172, '이런': 173, '실망': 174, '기대': 175, '좋아하다': 176, '두': 177, '처음': 178, '당시': 179, '성': 180, '끝': 181, '허다': 182, '급': 183, '마음': 184, 'ㅎㅎ': 185, '시키다': 186, '뿐': 187, '작': 188, '보이다': 189, '움': 190, '나름': 191, '웃다': 192, '해주다': 193, '나가다': 194, '매력': 195, '조금': 196, '제일': 197, '끝나다': 198, 'ㅜㅜ': 199, '감정': 200, '유치하다': 201, '근데': 202, '설정': 203, '진심': 204, '이상하다': 205, '그만': 206, '많이': 207, '보기': 208, '애': 209, '귀엽다': 210, '표현': 211, '높다': 212, '지다': 213, '제': 214, '남': 215, '모든': 216, 'ㅎ': 217, '라는': 218, '포스터': 219, '몇': 220, '꽤': 221, '코': 222, '놈': 223, '이라': 224, '인가': 225, '엔': 226, '신선하다': 227, '우리': 228, '이나': 229, '웃음': 230, '보여주다': 231, '대해': 232, '연기력': 233, '분': 234, '결말': 235, '화': 236, '눈': 237, '따뜻하다': 238, '전혀': 239, '여운': 240, '충분하다': 241, '막장': 242, '내내': 243, '함': 244, '잇다': 245, '찍다': 246, '낮다': 247, '가장': 248, '웃기다': 249, '라고': 250, '캐스팅': 251, '위': 252, '늘다': 253, '야': 254, '력': 255, '이라는': 256, '에선': 257, '기분': 258, '노력': 259, '시청률': 260, '짜다': 261, '맞다': 262, '뭘': 263, '인상': 264, '아주': 265, '몰입': 266, '대': 267, '잼': 268, '믿다': 269, '자신': 270, '한국': 271, '되어다': 272, '요즘': 273, '아름답다': 274, '시리즈': 275, '예쁘다': 276, '다른': 277, '책': 278, '스릴러': 279, '영상': 280, '실제': 281, '키': 282, '때문': 283, '반전': 284, '추천': 285, '막': 286, '원작': 287, '긴장감': 288, '욕': 289, '데': 290, '짱': 291, '극': 292, '손': 293, '이라고': 294, '처럼': 295, '아직도': 296, '대한': 297, '정신': 298, '두다': 299, '잔잔하다': 300, '말다': 301, '크다': 302, '공감': 303, '초반': 304, '수준': 305, '이랑': 306, '작다': 307, '맛': 308, '가슴': 309, '혼자': 310, '대단하다': 311, '짜증': 312, '빨리': 313, '이야': 314, '이제': 315, '에도': 316, '한테': 317, '그래도': 318, '쓰다': 319, '빠지다': 320, '머': 321, '후': 322, '놓다': 323, '만들어지다': 324, '멀다': 325, '나이': 326, '어리다': 327, '코미디': 328, '이유': 329, '밖에': 330, '니까': 331, '없이': 332, '년도': 333, 'ㅠ': 334, '시': 335, '현실': 336, '더럽다': 337, '완벽하다': 338, '제발': 339, '굿': 340, '뭔가': 341, '부족하다': 342, '아이': 343, '여자': 344, '울다': 345, '슬픔': 346, '비디오': 347, '시나리오': 348, '친구': 349, '부분': 350, '뭔': 351, '모두': 352, '참고': 353, '애니': 354, '더빙': 355, '이쁘다': 356, '세': 357, '살리다': 358, '인지': 359, '발': 360, '년대': 361, '멜로': 362, '드럽다': 363, '갈수록': 364, '구': 365, '수작': 366, '그래서': 367, '꼭': 368, '진부하다': 369, '대체': 370, '원': 371, '캐릭터': 372, '딱': 373, '잊다': 374, '깊다': 375, '그저': 376, '중간': 377, '소': 378, '모습': 379, '다큐': 380, '살인': 381, '차': 382, '졸작': 383, '어이없다': 384, '가요': 385, 'ㅋㅋㅋㅋ': 386, '대박': 387, '로맨스': 388, '끌': 389, '지만': 390, '현': 391, '실감': 392, '또한': 393, '어울리다': 394, '에서도': 395, '힘들다': 396, '하지만': 397, '답': 398, '어린이': 399, '이란': 400, '그리다': 401, '화이팅': 402, '알바': 403, '읽다': 404, '보지': 405, '티비': 406, '피': 407, '추억': 408, '이영화': 409, '보': 410, '물': 411, '순간': 412, '에는': 413, '가보다': 414, '전쟁': 415, '세계': 416, '미치다': 417, '개연': 418, '여배우': 419, '돌리다': 420, '안타깝다': 421, '결국': 422, '싸우다': 423, '삶': 424, '번': 425, '이후': 426, '재다': 427, '눈물': 428, '전작': 429, '점수': 430, '공포영화': 431, '좀비': 432, '너': 433, '너무나도': 434, '초등학교': 435, '해도': 436, '그것': 437, '낫다': 438, '가족': 439, '식': 440, '화려하다': 441, '절제': 442, '뻔': 443, '취향': 444, '극장': 445, '노': 446, '이기': 447, '이라도': 448, '간': 449, '이리': 450, '라도': 451, '기대하다': 452, '작가': 453, '관객': 454, '명': 455, '방법': 456, '낭비': 457, '뛰어나다': 458, '상': 459, '다니다': 460, '소설': 461, '언제': 462, '그대로': 463, '악역': 464, '계속': 465, '우리나라': 466, '깊이': 467, '예전': 468, '회': 469, '몰입도': 470, '비슷하다': 471, '건가': 472, '어설프다': 473, '흥행': 474, '갈등': 475, '뻔하다': 476, '시작': 477, '엉망': 478, '때리다': 479, '밉다': 480, '유': 481, '인거': 482, '술': 483, '태어나다': 484, '짬뽕': 485, '특유': 486, '쓸다': 487, '떨어지다': 488, '스럽다': 489, '전부': 490, '점점': 491, '어느': 492, '상황': 493, '다르다': 494, '한석규': 495, '년전': 496, '서다': 497, '야하다': 498, '왠만하다': 499, '자극': 500, '지겹다': 501, '뜨다': 502, '오랜': 503, '조절': 504, '왠지': 505, '쯤': 506, '한마디': 507, '죽': 508, '예산': 509, '용': 510, '나서다': 511, '판': 512, '따다': 513, '류': 514, '나쁘다': 515, '개봉': 516, '청춘': 517, '아직': 518, '등': 519, '구성': 520, '그때': 521, '닿다': 522, '동': 523, '코믹': 524, '색다르다': 525, '날': 526, '액션영화': 527, '라니': 528, '짧다': 529, '적당하다': 530, '편이': 531, '이름': 532, '노래': 533, '부르다': 534, '장': 535, '질질': 536, '제목': 537, '누군가': 538, '그러나': 539, '걸다': 540, '주': 541, '이상': 542, '탑': 543, '화보': 544, '사실': 545, '떠나다': 546, '레전드': 547, '바라다': 548, '이딴': 549, '영활': 550, '공부': 551, '여기': 552, '다운': 553, '감사하다': 554, '감': 555, '자막': 556, '봄': 557, '엉': 558, '약하다': 559, '기키': 560, '유럽': 561, '점도': 562, '의미': 563, '쓰래': 564, '특히': 565, '예고편': 566, '지나다': 567, '초딩': 568, '오버': 569, '가볍다': 570, '돋보이다': 571, '늙다': 572, '떼다': 573, '학년': 574, '반개': 575, '반복': 576, '엿': 577, '볼때': 578, '감성': 579, '신': 580, '노잼': 581, '어거지': 582, '냥': 583, '뒤': 584, '없어지다': 585, '착하다': 586, '음식': 587, '평범하다': 588, '주제': 589, '중반': 590, '고추': 591, '발연기': 592, '도안': 593, '단순하다': 594, '맘': 595, '탈': 596, '간다': 597, '불가': 598, '대다': 599, '터': 600, '잠시': 601, '동화': 602, '콩': 603, '충격': 604, '적다': 605, '완전하다': 606, '무겁다': 607, '심심하다': 608, '바로': 609, '위해': 610, '민간인': 611, '학살': 612, '어디': 613, '에피소드': 614, '삼': 615, '백': 616, '조작': 617, '열리다': 618, '집': 619, '들어가다': 620, '걸리다': 621, '억지스럽다': 622, '매우': 623, '한국영': 624, '아햏햏': 625, '진정': 626, '내일': 627, '성룡': 628, 'ㅋㅋㅋㅋㅋ': 629, '에요': 630, '불륜': 631, '왕': 632, '너무나': 633, '흥미': 634, '도대체': 635, '순수하다': 636, '문제': 637, '아들': 638, '나라': 639, '이냐': 640, '해': 641, '나르다': 642, '혹': 643, '쩔다': 644, '질': 645, '개인': 646, '잔인하다': 647, '국산': 648, '아끼다': 649, '죽이다': 650, '오늘': 651, '완성': 652, '순': 653, '로써': 654, '사극': 655, '유쾌하다': 656, '니': 657, '배경': 658, '시종일관': 659, '풍': 660, '상당하다': 661, '얼마나': 662, '실력': 663, '어': 664, '옛날': 665, '사랑스럽다': 666, '생명': 667, '면서': 668, '래': 669, '여정': 670, '훈훈하다': 671, '네이버': 672, '언': 673, '대사': 674, '허무하다': 675, '조연': 676, '특집': 677, '비': 678, '서스펜스': 679, '귀신': 680, '댓글': 681, '묘사': 682, '극장판': 683, '역사': 684, '겁니다': 685, '시절': 686, '범죄': 687, '느와르': 688, '부': 689, '묻다': 690, '안습': 691, '소리': 692, '비추다': 693, '오글거리다': 694, '씩': 695, '쇼': 696, '언니': 697, '연인': 698, '망하다': 699, '시선': 700, '겁나다': 701, '해보다': 702, '비다': 703, '당신': 704, '세기': 705, '중요하다': 706, '거기': 707, '얘기': 708, '지루함': 709, '파다': 710, '닮다': 711, '내다': 712, '연예인': 713, '든': 714, '끼다': 715, '돌아가다': 716, '개다': 717, '땐': 718, '조폭': 719, '세상': 720, '기다': 721, '감다': 722, '둘': 723, '아빠': 724, '마저': 725, '의도': 726, '강하다': 727, '첨': 728, '탄탄하다': 729, '사회': 730, '검술': 731, '멋있다': 732, '최고다': 733, '끌다': 734, '중심': 735, '진': 736, '찝찝하다': 737, '이지만': 738, '나중': 739, '흐르다': 740, '정말로': 741, '늦다': 742, '즐기다': 743, '도움': 744, '장난': 745, '보내다': 746, '잃다': 747, '유대인': 748, '필요하다': 749, '남기다': 750, '두근거리다': 751, '엔딩': 752, '영화관': 753, '씨': 754, '복수': 755, '일이': 756, '만으로도': 757, '편': 758, '평생': 759, '생각나다': 760, '짐승': 761, '싸구려': 762, '밝혀지다': 763, '터지다': 764, '아오': 765, '미화': 766, '라면': 767, '뭐라다': 768, '싫어하다': 769, '아저씨': 770, '역겹다': 771, '일찍': 772, '최근': 773, '스타': 774, '얼굴': 775, '느껴지다': 776, '께서': 777, '간만': 778, '공포': 779, '티': 780, '누구': 781, '짓': 782, '외계인': 783, '주온': 784, '존재': 785, '기억나다': 786, '차라리': 787, '실화': 788, '용도': 789, '분위기': 790, '이에요': 791, '끼리': 792, '궁금하다': 793, '설득': 794, '늑대': 795, '연예계': 796, '목소리': 797, '흠': 798, '조차': 799, '다그': 800, '사이': 801, '커스틴': 802, '제대로': 803, '생활': 804, '보단': 805, '모': 806, '헐리우드': 807, '마다': 808, '향수': 809, '울면': 810, '뛰다': 811, '치다': 812, '담백하다': 813, '깔끔하다': 814, '문': 815, '사': 816, '로만': 817, '자꾸': 818, '깔다': 819, '굿바이': 820, '깨알': 821, '일드': 822, '뜻': 823, '만찬': 824, '는걸': 825, '납득': 826, '센스': 827, '탁월하다': 828, '꽃': 829, '죄인': 830, '열정': 831, '안나': 832, '키이라': 833, '평가': 834, '은은하다': 835, '알바생': 836, 'ㅇㅇ': 837, 'ㅇ': 838, '한데': 839, '이민기': 840, '패': 841, '물건': 842, '오': 843, '상태': 844, '마이너스': 845, 'ㅉㅉ': 846, '북한': 847, '누': 848, '용이': 849, '다크': 850, '수도': 851, '행복하다': 852, '세르게이': 853, '맵다': 854, '꼬마': 855, '어쩌라고': 856, '일본인': 857, '당황': 858, '일상': 859, '전개도': 860, '느리다': 861, '은희': 862, '극적': 863, '맨날': 864, '가슴속': 865, '예요': 866, '현대': 867, '말로': 868, '이정': 869, '살인자': 870, '재탕': 871, '이틀': 872, '만에': 873, '안이': 874, '아무나': 875, '빨': 876, '라서': 877, '온몸': 878, '사진': 879, '단연': 880, '진창': 881, '우뢰매': 882, '별루': 883, 'ㅋㅋㅋㅋㅋㅋ': 884, '새롭다': 885, '메인': 886, '킬링타임': 887, '떠오르다': 888, 'ㅎㅎㅎ': 889, '쫌': 890, '망치': 891, '허풍': 892, '스스로': 893, '미국': 894, '생애': 895, '지난': 896, '헐다': 897, '연기자': 898, '따로': 899, '보아': 900, '만이라도': 901, '교훈': 902, '케이블': 903, '그릇': 904, '살짝': 905, '감히': 906, '살': 907, '고민': 908, '여전하다': 909, '섹시하다': 910, '퀄리티': 911, '화끈하다': 912, '드니': 913, '일품': 914, '지네': 915, '외국': 916, '상상': 917, '심하다': 918, '해내다': 919, '그녀': 920, '앉다': 921, '지키다': 922, '일반': 923, '게임': 924, '흥미롭다': 925, '거슬리다': 926, '힘드다': 927, '당하다': 928, '극치': 929, '굉장하다': 930, '생기다': 931, '듣기': 932, '싫다': 933, '화가': 934, '아무': 935, '우웩': 936, '잠': 937, '판타지': 938, '어린시절': 939, '기존': 940, '쏙': 941, '후회': 942, '싸이코': 943, '만이': 944, '지나가다': 945, '돌아오다': 946, '무한': 947, '까지도': 948, '후세': 949, '출현': 950, '으': 951, '이든': 952, '히': 953, '새벽': 954, '필요': 955, '미묘하다': 956, '가져오다': 957, '오우삼': 958, '제로': 959, '꿈': 960, '훌륭하다': 961, '미로': 962, '이의': 963, '짜임새': 964, '음': 965, '대가': 966, '일단': 967, '괴물': 968, '버킷리스트': 969, '직전': 970, '란': 971, '역': 972, '기도': 973, '답답하다': 974, '정치인': 975, '모순': 976, '주년': 977, '개그콘서트': 978, '없애다': 979, '가치': 980, '감각': 981, '바라보다': 982, '엄마': 983, '딸': 984, '신나다': 985, '어쩔': 986, '생생하다': 987, '짱짱': 988, '다시다': 989, '본인': 990, '피해자': 991, '필름': 992, '어디서': 993, '드': 994, '혀': 995, '스릴': 996, 'ㅜ': 997, '전달': 998, '월': 999, '즐겁다': 1000, '레알': 1001, '여자애': 1002, '물폭탄': 1003, '딸리다': 1004, '굳다': 1005, '휴': 1006, '호구': 1007, '쓸데없이': 1008, '런가': 1009, '야경': 1010, '꾼': 1011, '넘어가다': 1012, '성도': 1013, '아역': 1014, '민폐': 1015, '싸하다': 1016, '딱하다': 1017, '송강호': 1018, '인하다': 1019, '해석': 1020, '이지': 1021, '한심하다': 1022, '준': 1023, '비정하다': 1024, '다듬다': 1025, '비롯': 1026, '민망하다': 1027, '군더더기': 1028, '진행': 1029, '봣는데': 1030, '애니메이션': 1031, '와는': 1032, '불쾌하다': 1033, '꺼': 1034, '국민': 1035, '하나님': 1036, '신분': 1037, '으로만': 1038, '흥미진진': 1039, '랄': 1040, '이번': 1041, '지존파': 1042, '정당화': 1043, '정부': 1044, '탓': 1045, '매칭': 1046, '중국': 1047, '틀다': 1048, '평균': 1049, '동영상': 1050, '모으다': 1051, '메세지': 1052, '영화사': 1053, '히어로': 1054, '놀이': 1055, '사건': 1056, '인물': 1057, '가지': 1058, '빌리다': 1059, '우연히': 1060, '그렇게': 1061, '누가': 1062, '절망': 1063, '챙기다': 1064, '거부': 1065, '어마어마하다': 1066, '망치다': 1067, '똥': 1068, '원주민': 1069, '견자단': 1070, '순위': 1071, '그래픽': 1072, '망작': 1073, '으로나': 1074, '평론가': 1075, '바꾸다': 1076, '아누': 1077, '리브': 1078, '스': 1079, '밥': 1080, '엄청': 1081, '자식': 1082, '살아오다': 1083, '서로': 1084, '확실하다': 1085, '짠하다': 1086, 'ㅡ': 1087, '사라지다': 1088, '사다': 1089, '아픔': 1090, '인형': 1091, '며': 1092, '샤넬': 1093, '십': 1094, '세월': 1095, '찰나': 1096, '영원하다': 1097, '관': 1098, '아무리': 1099, '용서': 1100, '갑자기': 1101, '선생님': 1102, '미안하다': 1103, '쥐': 1104, '미스캐스팅': 1105, '무기': 1106, '기술': 1107, '분명하다': 1108, '약간': 1109, '빼다': 1110, '끌리다': 1111, '디테': 1112, '찡': 1113, 'ㅋㅋㅋㅋㅋㅋㅋㅋ': 1114, '문화': 1115, '전반': 1116, '변화': 1117, '베다': 1118, '곳곳': 1119, '숨다': 1120, '치밀하다': 1121, '사고': 1122, '겨': 1123, '에서는': 1124, '함부로': 1125, '남녀': 1126, '웬만하다': 1127, '무': 1128, '조': 1129, '잘못': 1130, '성하다': 1131, '들이다': 1132, '자동차': 1133, '매니아': 1134, '이하': 1135, '정체': 1136, '길': 1137, '오르다': 1138, '공포물': 1139, '존나': 1140, '벌써': 1141, '관람': 1142, '삼류': 1143, '촌스럽다': 1144, '몸매': 1145, '심형래': 1146, '전체': 1147, '엄청나다': 1148, '초등': 1149, '나와라': 1150, '근래': 1151, '가족영화': 1152, '제작자': 1153, '들어서다': 1154, '같이': 1155, '접다': 1156, '원하다': 1157, '장가': 1158, '머리': 1159, '혹은': 1160, '종교': 1161, '업': 1162, '박수': 1163, '끼우다': 1164, '맞추다': 1165, '그게': 1166, '의하다': 1167, '최루성': 1168, '걸작': 1169, '남편': 1170, '단순': 1171, '가안': 1172, '영화상': 1173, '데리': 1174, '제제': 1175, '아련하다': 1176, '첫': 1177, '도입': 1178, '박사': 1179, '타다': 1180, '세다': 1181, '철학': 1182, '구역': 1183, '남성': 1184, '영화인': 1185, '요소': 1186, '홍보': 1187, '욕망': 1188, '전차': 1189, '디': 1190, '주목': 1191, '뇌': 1192, '특별하다': 1193, '죽음': 1194, '우주': 1195, '맡다': 1196, '로움': 1197, '상미': 1198, '예술': 1199, '보통': 1200, '말고도': 1201, '겪다': 1202, '쉬': 1203, '여성': 1204, '콜린': 1205, '여주': 1206, '시점': 1207, '에서만': 1208, '라이언': 1209, '일병': 1210, '자위': 1211, '과학': 1212, '강': 1213, '정신차리다': 1214, '팔': 1215, '선정': 1216, '솔로': 1217, '링': 1218, '으로는': 1219, '다니엘헤니': 1220, '프레디': 1221, '러닝': 1222, '타임': 1223, '황당하다': 1224, '솜씨': 1225, '독립영화': 1226, '똑같다': 1227, '걱정': 1228, '사촌동생': 1229, '소녀': 1230, '틀리다': 1231, '평': 1232, '들어오다': 1233, '접': 1234, '장르': 1235, '필요없다': 1236, '장편': 1237, '돋다': 1238, '마련': 1239, '로서': 1240, '채널': 1241, '화면': 1242, '입다': 1243, '변하다': 1244, '컴퓨터': 1245, '죠': 1246, '흠잡다': 1247, '짐': 1248, '전형': 1249, '기적': 1250, '놀래다': 1251, '거지': 1252, '흑인': 1253, '혹시': 1254, '훨씬': 1255, '지구': 1256, '근': 1257, '특수': 1258, '효과': 1259, '샷': 1260, '연결': 1261, '무재': 1262, '밓었': 1263, '래서': 1264, '교도소': 1265, '구먼': 1266, '조정': 1267, '몬페': 1268, '익살스럽다': 1269, '스파이더맨': 1270, '던스트': 1271, '걸음': 1272, '마': 1273, '생인': 1274, '이응경': 1275, '길용우': 1276, '납치': 1277, '감금': 1278, '왜케': 1279, '길들이다': 1280, '인피니트': 1281, '눈물나다': 1282, '허진호': 1283, '달인': 1284, '횡단보도': 1285, '건너다': 1286, '올': 1287, '이범수': 1288, '잊어버리다': 1289, '존중': 1290, '다지': 1291, '내생': 1292, 'ㄱ': 1293, '매번': 1294, '긴장': 1295, '재밋음': 1296, '바스코': 1297, '락스': 1298, '바비': 1299, '아이돌': 1300, '안달': 1301, '레닌': 1302, '표절': 1303, '질퍽': 1304, '산뜻하다': 1305, '용구성': 1306, '버무러진': 1307, '약탈': 1308, '변명': 1309, '이르다': 1310, '심오하다': 1311, '학생': 1312, '선생': 1313, '놀다': 1314, '불가능하다': 1315, '바베트': 1316, '차이': 1317, '남바': 1318, '베트': 1319, '핀란드': 1320, '풍경': 1321, '경': 1322, '할랫': 1323, '말씀드리다': 1324, '짤랐을꺼': 1325, '털다': 1326, '카밀라': 1327, '벨': 1328, '재밋는뎅': 1329, '엄포스': 1330, '위력': 1331, '깨닫다': 1332, '적남': 1333, '검사': 1334, '명품': 1335, '졸': 1336, '아시': 1337, '패션': 1338, '윈': 1339, '투어': 1340, '나이틀리': 1341, '정신장애': 1342, '틱장애': 1343, '허허': 1344, '유령': 1345, '싱겁다': 1346, '낚임': 1347, '서리': 1348, '굶주리다': 1349, 'ㅜㅡ': 1350, '윤제문': 1351, '발견': 1352, '소소하다': 1353, '미소': 1354, '머금': 1355, '올리다': 1356, '속지': 1357, '리얼리티': 1358, '정신의학': 1359, '분노조절': 1360, '장애': 1361, '초기': 1362, '증상': 1363, '툭하면': 1364, '파손': 1365, '바': 1366, '가면': 1367, '뮤비': 1368, '리스': 1369, '타르': 1370, '가르다': 1371, '엔나': 1372, '용의': 1373, '주인': 1374, '근친상간': 1375, '메': 1376, '니스': 1377, '드래곤': 1378, '토르': 1379, '월드': 1380, '잡수다': 1381, '기본': 1382, '선방': 1383, '영혼': 1384, '어루만지다': 1385, '거치다': 1386, '상사': 1387, '포퐁': 1388, '저그': 1389, '진호': 1390, '시리': 1391, '난또': 1392, '애가': 1393, '원한': 1394, '나대다': 1395, '푹': 1396, '꺼지다': 1397, '활': 1398, '이라고는': 1399, '지독하다': 1400, '차갑다': 1401, '무자비하다': 1402, '상상력': 1403, '백봉기': 1404, '들어맞다': 1405, '예측': 1406, '카리스마': 1407, '불알': 1408, '아무튼': 1409, '녹다': 1410, '밋밋하다': 1411, '한두': 1412, '컷': 1413, '대만': 1414, '온': 1415, '헤집다': 1416, '사의': 1417, '단면': 1418, '사죄': 1419, '잡기': 1420, '듣다': 1421, '보도': 1422, '연맹': 1423, '명백하다': 1424, '탕': 1425, '사골': 1426, '우려': 1427, '먹듯': 1428, '산': 1429, '아예': 1430, '부작': 1431, '이라니': 1432, '김남길': 1433, '불구': 1434, '손예진': 1435, 'ㅈㅈ': 1436, '노래실력': 1437, '뽑다': 1438, '박시환': 1439, '망신': 1440, '넣다': 1441, '활짝': 1442, '문자': 1443, '비번': 1444, '재밋네': 1445, '달팽이': 1446, '부패하다': 1447, '로마노프': 1448, '왕조': 1449, '기리': 1450, '뭣같': 1451, '항거': 1452, '러시아': 1453, '민중': 1454, '폭도': 1455, '무난': 1456, '펴다': 1457, '코드': 1458, '계': 1459, '화해': 1460, '남발': 1461, '분만': 1462, '리플릿': 1463, '불안하다': 1464, '럼': 1465, '위대하다': 1466, '조미': 1467, '막문위': 1468, '골깜': 1469, '부라리다': 1470, '쓰러지다': 1471, '골': 1472, '걸스데이': 1473, '이혜리': 1474, '서기': 1475, '인공': 1476, '주귀': 1477, '어내스트': 1478, '셀레스틴': 1479, '강추': 1480, '클라라': 1481, '볼라': 1482, '화신': 1483, '차차': 1484, '신카이': 1485, '마코토': 1486, '작화': 1487, '카나': 1488, '이훨': 1489, '고은님': 1490, '노골': 1491, '광고': 1492, '크리스마스': 1493, '행복': 1494, '산만하다': 1495, '믹스': 1496, '음향': 1497, '별루더': 1498, '기준': 1499, '패널': 1500, '가구': 1501, '서운하다': 1502, '몬스터': 1503, '주식회사': 1504, '투': 1505, '박하다': 1506, '중국인': 1507, '과장': 1508, '안간힘': 1509, '가상하다': 1510, '고증': 1511, '거북': 1512, '과대': 1513, '포장': 1514, '불법체류자': 1515, '잡다': 1516, '우상화': 1517, '뭥미': 1518, '삶속': 1519, '드러나다': 1520, '지나': 1521, '숀펜': 1522, '올레': 1523, '공짜': 1524, '배역': 1525, '상대': 1526, '라미란': 1527, '젤': 1528, '욕심': 1529, '쪽': 1530, '빵점': 1531, '베댓': 1532, '잘쓰다': 1533, '모자라다': 1534, '도둑': 1535, '뫼비우스': 1536, '믿어지다': 1537, '찌릿짜릿': 1538, '용기': 1539, '화이': 1540, '주입': 1541, '식이': 1542, '전하': 1543, '덴': 1544, '리투': 1545, '차이밍량': 1546, '섞이다': 1547, '채': 1548, '담기다': 1549, '여군': 1550, '엠비씨': 1551, '질린다': 1552, '김혜수': 1553, '어딘': 1554, '에볼라': 1555, '바이러스': 1556, '떠들다': 1557, '석': 1558, '어떤': 1559, '후반': 1560, '부가': 1561, '만해': 1562, '떨다': 1563, '용가리': 1564, '짱짱맨': 1565, '하나로': 1566, '꼽': 1567, '모건': 1568, '프리': 1569, '재방송': 1570, '시나': 1571, '상업': 1572, '노출씬': 1573, '보임': 1574, '끝내': 1575, '맥스': 1576, '샘': 1577, '바랬다': 1578, '스러웟음': 1579, '찍을껀데': 1580, '면상': 1581, '동심': 1582, '멀리': 1583, '무술': 1584, '총을드': 1585, '크리스토퍼': 1586, '왈츠': 1587, '타란티노': 1588, '조합': 1589, '유명': 1590, '한편': 1591, '초월': 1592, '유명하다': 1593, '재밋': 1594, '종방': 1595, '방도': 1596, '방송': 1597, '대본': 1598, '지치다': 1599, '수백향': 1600, '바른': 1601, '위원회': 1602, '김혜선': 1603, '김': 1604, '순정': 1605, '정이': 1606, '역할': 1607, '팜므파탈': 1608, '의외': 1609, '벌어지다': 1610, '논란': 1611, '멍하다': 1612, 'ㅈ': 1613, '공유': 1614, '존잘': 1615, '상쾌': 1616, '발랄하다': 1617, '껄끄런': 1618, '해설': 1619, '소파': 1620, '치고': 1621, '로큰롤': 1622, '주된': 1623, '타겟': 1624, '논리': 1625, '통': 1626, '요원': 1627, '무능력하다': 1628, '뮤지컬': 1629, '사운드': 1630, '녹음': 1631, '춤': 1632, '추다': 1633, '어제': 1634, '참다': 1635, '말리': 1636, '영국': 1637, '뮤지컬영화': 1638, '맘마미아': 1639, '로맨틱코미디': 1640, '게이물': 1641, '알고싶다': 1642, '스텝': 1643, '꼭두각시': 1644, '익숙해지다': 1645, '현대인': 1646, '뻑뻑': 1647, '볼걸': 1648, '언밸러스': 1649, '뚱뚱하다': 1650, '고역': 1651, '간간히': 1652, '흘러나오다': 1653, '클래식': 1654, '조차도': 1655, '주기도': 1656, '인가요': 1657, '죄송하다': 1658, '짜지다': 1659, '돼지': 1660, '닭목': 1661, '무당': 1662, '가져가다': 1663, '윤종신': 1664, '복귀': 1665, '이하늘': 1666, '뽑히다': 1667, '참가자': 1668, '심사': 1669, '위원': 1670, '인격': 1671, '쌓다': 1672, '어허': 1673, '광장': 1674, '생': 1675, '판타지영화': 1676, '짓다': 1677, '금물': 1678, '지옥': 1679, '멜로영화': 1680, '형식': 1681, '탈피': 1682, '지나치다': 1683, '사랑비': 1684, '서준': 1685, '초': 1686, '주네': 1687, '젖다': 1688, '보고오다': 1689, '벗어나다': 1690, '접해': 1691, '넘치다': 1692, '만큼은': 1693, '젊음': 1694, '건담': 1695, '최고봉': 1696, '개콘': 1697, '코너': 1698, '이안': 1699, '사다코': 1700, '서린': 1701, '우물': 1702, '펀치': 1703, '결정': 1704, '계기': 1705, '람': 1706, '빼앗다': 1707, '연극': 1708, '본능': 1709, '이래': 1710, '강수연': 1711, '최정원': 1712, '신음': 1713, '김혜성': 1714, '이현진': 1715, '가발': 1716, '이인상': 1717, '재밋어': 1718, '배두나': 1719, '대들다': 1720, '성적': 1721, '호기심': 1722, '닥치고': 1723, '각기': 1724, '미국드라마': 1725, '파워': 1726, '사로자다': 1727, '응답': 1728, '하라': 1729, '은지원': 1730, '웃기': 1731, '배꼽': 1732, '컴': 1733, '부실하다': 1734, '장끌': 1735, '로드': 1736, '몰락': 1737, '제적': 1738, '영웅본색': 1739, '설레다': 1740, '학창시절': 1741, '배경음악': 1742, '화남': 1743, '형태': 1744, '영양가': 1745, '이승기': 1746, '현충일': 1747, '프로': 1748, '제대': 1749, '휴가': 1750, '다녀오다': 1751, '소박하다': 1752, '햇살': 1753, '가득하다': 1754, '부엌': 1755, '요리': 1756, '신현준': 1757, '황': 1758, '장군': 1759, '뿅': 1760, '재생': 1761, '흡입': 1762, '하진': 1763, '소원': 1764, '들어주다': 1765, '발톱': 1766, '만큼도': 1767, '따라가다': 1768, '완존': 1769, '밝다': 1770, '긍정': 1771, '인게': 1772, '무표': 1773, '요홍': 1774, '혜정': 1775, '이그': 1776, '마도': 1777, '후련': 1778, '시원하다': 1779, '낼': 1780, '월요일': 1781, '해피': 1782, '정치범': 1783, '어렵다': 1784, '재개': 1785, '봉하': 1786, 'ㅄ': 1787, '대희': 1788, '전화': 1789, '끊음': 1790, '서양': 1791, '싸움판': 1792, '푸하하하': 1793, '구만': 1794, '최초': 1795, '반공': 1796, '애니매이션': 1797, '시각': 1798, '문학': 1799, '무고': 1800, '감옥살이': 1801, '이따위': 1802, '흑인음악': 1803, '아이스': 1804, '큐브': 1805, '건데': 1806, '알리시아': 1807, '옥소리': 1808, '프로필': 1809, 'ㅋㅋㅋㅋㅋㅋㅋㅋㅋㅋㅋㅋㅋㅋ': 1810, '아우': 1811, '재밓당': 1812, '나타내다': 1813, '이적': 1814, '영화롭다': 1815, '실패': 1816, '빠져들다': 1817, '모녀': 1818, '토막': 1819, '살해': 1820, '구리지': 1821, '값': 1822, '매미': 1823, '매니저': 1824, '역활': 1825, '훨': 1826, '이구': 1827, '할머니': 1828, '익숙하다': 1829, 'ㄷㅔ': 1830, '진개': 1831, '천카이거': 1832, '정은지': 1833, '트로트': 1834, '복': 1835, '순이': 1836, '다투다': 1837, '그건': 1838, '굳이': 1839, '어색': 1840, '연속극': 1841, '인터뷰': 1842, '박스': 1843, '오피스': 1844, '몰다': 1845, '싸움': 1846, '기량': 1847, '조디': 1848, '개막': 1849, '계시다': 1850, '두기': 1851, '쌀': 1852, '명대사': 1853, '뒷받침': 1854, '저스트': 1855, '위드': 1856, '애니스톤': 1857, '실망하다': 1858, '맛깔': 1859, '시베리아': 1860, '훈련': 1861, '작살': 1862, '즉': 1863, '달이': 1864, '앞': 1865, '훅': 1866, '지존': 1867, '수록': 1868, '추노': 1869, '저급': 1870, '킁': 1871, '그로': 1872, '즐거움': 1873, '수입': 1874, '금지': 1875, '테이프': 1876, '불후': 1877, '토록': 1878, '재치': 1879, '새롭웠': 1880, '라파스': 1881, '신봉선': 1882, '재탕하다': 1883, '이외': 1884, '의문': 1885, '당대': 1886, '퀄': 1887, '결코': 1888, '재기': 1889, '지지다': 1890, '넘어지다': 1891, '유유': 1892, '안개': 1893, '워터': 1894, '루': 1895, '다리': 1896, '마스코트': 1897, '곤': 1898, '사토시': 1899, '천재': 1900, '암': 1901, '갈다': 1902, '대작': 1903, '예': 1904, '뼈': 1905, '지고': 1906, '독': 1907, '이겠다': 1908, '츠무구': 1909, '영화로': 1910, '이구나': 1911, '뭉클하다': 1912, '살아가다': 1913, '많아지다': 1914, '처': 1915, 'ㅝ': 1916, '매끄럽다': 1917, '철': 1918, '뼈대': 1919, '가문': 1920, '섞다': 1921, '박정아': 1922, '펼치다': 1923, '포스': 1924, '다미': 1925, '지대': 1926, '빠순이': 1927, 'ㅋㅋㅋㅋㅋㅋㅋ': 1928, '긔': 1929, '재밋쎠': 1930, '법': 1931, '줄리아': 1932, '로버츠': 1933, '예술가': 1934, '시대': 1935, '관객수': 1936, '베테': 1937, '보다도': 1938, '류승완': 1939, '역작': 1940, '한창': 1941, '핵': 1942, '펭귄': 1943, '남북': 1944, '거짓': 1945, '평화로': 1946, '이던': 1947, '헐리웃': 1948, '알아차리다': 1949, '가정': 1950, '진리': 1951, '이만': 1952, '말고': 1953, '편도': 1954, '핀': 1955, '헤드': 1956, '신라': 1957, '달밤': 1958, '푸근하다': 1959, '다가': 1960, '둑': 1961, '달려가다': 1962, '높아지다': 1963, '의견': 1964, '핑계': 1965, '삼다': 1966, '여부': 1967, '아더': 1968, '원탁': 1969, '기사': 1970, '랜슬롯': 1971, '트리스탄': 1972, '마치': 1973, '흉내': 1974, '란슬롯': 1975, '쌍': 1976, '검다': 1977, '안대': 1978, '기네': 1979, '비어': 1980, '역도': 1981, '미스': 1982, '대한민국': 1983, '치르다': 1984, '하락': 1985, '종착역': 1986, '대유': 1987, '트레비스': 1988, '단지': 1989, '흘러가다': 1990, '네러티브': 1991, '취미': 1992, '올인': 1993, '학위': 1994, '위조': 1995, '성범죄자': 1996, '제자': 1997, '제작비': 1998, '패자부활전': 1999, '알맞다': 2000, '쩝': 2001, '뜻밖': 2002, '그랜드': 2003, '부다페스트': 2004, '호텔': 2005, '감기': 2006, '투자': 2007, '아이언맨': 2008, '개그': 2009, '뛰어넘다': 2010, '뜬금': 2011, '살인마': 2012, '대적': 2013, '해결': 2014, '탈출': 2015, '잡히다': 2016, '조달환': 2017, '정유미': 2018, '리얼': 2019, '비록': 2020, '로봇': 2021, '점차': 2022, '앤드류': 2023, '선사': 2024, '영구': 2025, '땡': 2026, '칠이': 2027, '친척': 2028, '형': 2029, '사촌형': 2030, '최신': 2031, '고요하다': 2032, '서글프다': 2033, '선속': 2034, '머물다': 2035, '성찰': 2036, '사색': 2037, '펑펑': 2038, 'ㅜㅜㅜ': 2039, '내기': 2040, '박빙': 2041, '심은하': 2042, '눈부시다': 2043, '미모': 2044, '주제가': 2045, '풀리다': 2046, '싸다': 2047, '잔인함': 2048, '비참하다': 2049, '대하': 2050, '페이스': 2051, '퇴색': 2052, '마르': 2053, '와의': 2054, '물론': 2055, '공주': 2056, '만약': 2057, '미국인': 2058, '맞서다': 2059, '아메리칸': 2060, '자유': 2061, '투쟁': 2062, '아카데미상': 2063, '부정': 2064, '엇음': 2065, '어딘가': 2066, '일어나고': 2067, '우베': 2068, '따르다': 2069, '정장': 2070, '림프비즈킷': 2071, '쥑': 2072, '엽문': 2073, '오월': 2074, '밤': 2075, '야릇하다': 2076, '반하다': 2077, '명치': 2078, '깨달': 2079, '다소': 2080, '스러운': 2081, '영화평론가': 2082, '마는': 2083, '울리다': 2084, '효느': 2085, '대강': 2086, '간첩': 2087, '색휘': 2088, '애쓰다': 2089, '검증': 2090, '이탈리아': 2091, '절때': 2092, '껄욕': 2093, '환경': 2094, '만화': 2095, '경의': 2096, '길다': 2097, '이이경': 2098, '게뭐': 2099, '가나다라': 2100, '키우다': 2101, '의아': 2102, '예민하다': 2103, '날카로워지다': 2104, '엇': 2105, '요구': 2106, '도와주다': 2107, '괜히': 2108, '끙끙': 2109, '거리': 2110, '단': 2111, '지수': 2112, '갈팡질팡': 2113, '공효진': 2114, '평수': 2115, '콧대': 2116, '높이다': 2117, '호': 2118, '권상우': 2119, '화산고': 2120, '왼쪽': 2121, '팔자': 2122, '잘생기다': 2123, '장혁': 2124, '말랑말랑': 2125, '열심히': 2126, '저런': 2127, '그린': 2128, '압': 2129, '권': 2130, '동행': 2131, '토마스': 2132, '유태인': 2133, '인척': 2134, '가족사진': 2135, '사슴': 2136, '밟다': 2137, '대변': 2138, '므': 2139, '찌다': 2140, '변태': 2141, '성공': 2142, '수년': 2143, '상대성': 2144, '이론': 2145, '니노': 2146, '이중인격': 2147, '울컥': 2148, '핫': 2149, '적임': 2150, '만으로': 2151, '돌진': 2152, '유혹': 2153, '난감하다': 2154, '깜짝': 2155, '놀라다': 2156, '센세이션': 2157, '차이나타운': 2158, '대놓고': 2159, '베': 2160, '신화': 2161, '에릭': 2162, '힘내다': 2163, '이민정': 2164, '신하균': 2165, '교양': 2166, '빨갱이': 2167, '지르다': 2168, '몬초': 2169, '단어': 2170, '그리움': 2171, '몬': 2172, '초가': 2173, '울먹이다': 2174, '애기': 2175, '그런': 2176, '깜놀': 2177, '힘겹다': 2178, '남자배우': 2179, '조은숙': 2180, '김유미': 2181, '땜': 2182, '세계대전': 2183, '피고': 2184, '일으키다': 2185, '지휘': 2186, '고위': 2187, '장교': 2188, '과는': 2189, '한예슬': 2190, '김태희': 2191, '적월': 2192, '쌤': 2193, '점때': 2194, '이연서': 2195, '신인': 2196, '답지': 2197, '다음': 2198, '뵙다': 2199, '피의자': 2200, '주변': 2201, '녀': 2202, '스피디': 2203, '박자': 2204, '시가전': 2205, '완': 2206, '탕웨이': 2207, '주기': 2208, '다망': 2209, '반도': 2210, '정상': 2211, '보이': 2212, '아수라': 2213, '공통점': 2214, '스포츠영화': 2215, '군대': 2216, '로버트': 2217, '광기': 2218, '만끽': 2219, '스릴러물': 2220, '도가니탕': 2221, '서나': 2222, '정치': 2223, '경제': 2224, '걸치다': 2225, '절실': 2226, '함정': 2227, '똑똑하다': 2228, '압삘럽': 2229, '숨막히다': 2230, '복선': 2231, '섬세하다': 2232, '김영애': 2233, '갖추다': 2234, '억지': 2235, '신파': 2236, '경극': 2237, '몸짓': 2238, '하늘': 2239, '빙빙': 2240, '졸다': 2241, '평정': 2242, '별거': 2243, '감수성': 2244, '밀려오다': 2245, '번만': 2246, '상영': 2247, '카톡': 2248, '생동감': 2249, '박물관': 2250, '노땅': 2251, '흘리다': 2252, '간신히': 2253, '찾다': 2254, '인종차별': 2255, '유괴': 2256, '불협화음': 2257, '고명환': 2258, '쩌': 2259, '후자': 2260, '속편': 2261, '앨빈': 2262, '밴드': 2263, '추가': 2264, '로더': 2265, '올해': 2266, '결투': 2267, '씬': 2268, '폭풍눈물': 2269, '팝핀현준': 2270, '할아버지': 2271, 'ㄵ': 2272, '상술': 2273, '선거': 2274, '맙시': 2275, '글쎄': 2276, '성향': 2277, '즐': 2278, '성격': 2279, '종영': 2280, '줄리': 2281, '델피': 2282, '쵝오': 2283, '글쎄요': 2284, '착각': 2285, '기독교': 2286, '성해': 2287, '절절': 2288, '다가오다': 2289, '비약': 2290, '삭제': 2291, '행간': 2292, '잃어버리다': 2293, '꽉': 2294, '반대': 2295, '스킨헤드': 2296, '았': 2297, '절': 2298, '대안': 2299, '성은': 2300, '사치': 2301, '일찐': 2302, '풀다': 2303, '개제': 2304, '남극': 2305, '곳': 2306, '쩐다': 2307, '엑소시스트': 2308, '능가': 2309, '실상': 2310, '처키': 2311, '개뿔': 2312, '제보': 2313, '재방': 2314, '저조하다': 2315, '귀요미': 2316, '저예산영화': 2317, '관계': 2318, '스펙': 2319, '타': 2320, '영화계': 2321, '바람': 2322, '희망': 2323, '다크호스': 2324, '응원': 2325, '부탁드리다': 2326, '째': 2327, '빵': 2328, '뜨겁다': 2329, '이니': 2330, '블랙코미디': 2331, '조롱': 2332, '대상': 2333, '우린': 2334, '성기': 2335, '노출': 2336, '어그': 2337, '로나': 2338, '촌': 2339, '동네': 2340, '가끔': 2341, '툭툭': 2342, '유머': 2343, '쌩뚱': 2344, '만들기': 2345, '뎀': 2346, '형님': 2347, '칠': 2348, '한개': 2349, '꼽히다': 2350, '조잡하다': 2351, '루즈': 2352, '민국이': 2353, '지아': 2354, '데뷔': 2355, '이해도': 2356, '저리': 2357, '무리하다': 2358, '승부': 2359, '띄우다': 2360, '이득': 2361, '박얘쁜': 2362, '빠수니': 2363, '죄다': 2364, '불': 2365, '보이지': 2366, '웅장': 2367, '코끼리': 2368, '내놓다': 2369, '패러디': 2370, '카메오': 2371, '들보': 2372, '유치': 2373, '자녀': 2374, '께': 2375, '후속': 2376, '통해': 2377, '찰지다': 2378, '토종': 2379, '성인영화': 2380, '드리다': 2381, '멍청하다': 2382, '어색하다': 2383, '가비': 2384, '의향': 2385, '씁쓸하다': 2386, '장윤현': 2387, '커피': 2388, '관해': 2389, '신경': 2390, '쓰시': 2391, '미흡하다': 2392, '세련되다': 2393, '진지하다': 2394, '경쾌하다': 2395, '픽션': 2396, '정정은': 2397, '어케된거': 2398, '과도': 2399, '압축': 2400, '호화롭다': 2401, '아마': 2402, '님들': 2403, '이본': 2404, '최저': 2405, '행동': 2406, '캐릭': 2407, '이해관계': 2408, '갘': 2409, '능': 2410, '젠': 2411, '스토리텔링': 2412, '기절': 2413, 'ㅜㅜㅜㅜ': 2414, '우울하다': 2415, '날다': 2416, '정화': 2417, '미가': 2418, '끙': 2419, '제작': 2420, '본분': 2421, '다만': 2422, '낳다': 2423, '영웅': 2424, '또다른': 2425, '희생': 2426, '평작': 2427, '까진': 2428, '깨': 2429, '영홥니': 2430, '알럽키': 2431, '중고생': 2432, '마마': 2433, '추어': 2434, '포르노': 2435, '물이': 2436, '동시': 2437, '영물': 2438, '넌': 2439, '설명': 2440, '이승연': 2441, '강렬하다': 2442, '홍경인': 2443, '불쌍하다': 2444, '드릴': 2445, '브라': 2446, '뿜었다': 2447, '계몽영화': 2448, '한계': 2449, '고스': 2450, '답습': 2451, '우와': 2452, '통쾌하다': 2453, '마침표': 2454, '세얼간이': 2455, '아줌마': 2456, '만족하다': 2457, '심혜진': 2458, '겨우': 2459, '메시지': 2460, '모호하다': 2461, '창업': 2462, '꿈꾸다': 2463, '아이템': 2464, '사업': 2465, '기르다': 2466, '험하다': 2467, '스승': 2468, '지침': 2469, '단념': 2470, '박': 2471, '대소': 2472, '독립': 2473, '치고는': 2474, '이크': 2475, '부자간': 2476, '배신': 2477, '원망': 2478, '명화': 2479, '낰였다': 2480, '프리미엄': 2481, '이선균': 2482, '정재영': 2483, '김상중': 2484, '파': 2485, '불다': 2486, '계쇠': 2487, '괴롭다': 2488, '달라': 2489, '부진': 2490, '반감': 2491, 'ㅣㅆ': 2492, '느덕': 2493, '화하다': 2494, '오락가락': 2495, '자기': 2496, '만의': 2497, '왠': 2498, '지모': 2499, '영화제': 2500, '데넘': 2501, '상처': 2502, '치유': 2503, '퍼스트': 2504, '양심': 2505, '점주': 2506, '흐뭇하다': 2507, '대우': 2508, '머릿속': 2509, '지우개': 2510, '폭발': 2511, '오늘이': 2512, '월요커플': 2513, '덕분': 2514, '습': 2515, '니당다': 2516, '터키': 2517, '스키': 2518, '추격': 2519, '남고': 2520, '무어': 2521, '수많다': 2522, '건너편': 2523, '사기': 2524, '이어서': 2525, '심각하다': 2526, '빵빵': 2527, '성남': 2528, '금': 2529, '성녀': 2530, '슈발': 2531, '내리다': 2532, '담배': 2533, '피다': 2534, '마술': 2535, '나볼': 2536, '수나': 2537, '리좀': 2538, '붙다': 2539, '형편': 2540, '써다': 2541, '수도승': 2542, '쉬다': 2543, '떠내려가다': 2544, '게왜': 2545, '맨': 2546, '물대포': 2547, '쏠때': 2548, '웃겻다': 2549, '린다': 2550, '신기하다': 2551, '부족함': 2552, '무비': 2553, '고스트라이더': 2554, '스치다': 2555, '사망': 2556, '묵직하다': 2557, '슴': 2558, '뭉치': 2559, '싸대기': 2560, '고고': 2561, '안쓰럽다': 2562, '마찬가지': 2563, '뚝방': 2564, '애틋하다': 2565, '찍지마라': 2566, '육감': 2567, '여인': 2568, '카메라': 2569, '각도': 2570, '라든지': 2571, '화질': 2572, '이라든지': 2573, '구림': 2574, '화란': 2575, '두고두고': 2576, '아닐런지': 2577, '정시': 2578, '묻히다': 2579, '던데': 2580, '번뜩이다': 2581, '아이디어': 2582, '아기자기하다': 2583, '우아': 2584, '미스터리': 2585, '에로스': 2586, '겸비': 2587, '윤계상': 2588, '능청': 2589, '에린': 2590, '프레스토': 2591, '네요': 2592, '고도': 2593, '효과음': 2594, '막히다': 2595, '이상은': 2596, '강혜정': 2597, '본가': 2598, '꾸준하다': 2599, '진짴': 2600, '만점': 2601, '타이틀': 2602, '달고나': 2603, '뷰욕': 2604, '중년': 2605, '추잡하다': 2606, '수가': 2607, '퀵이유': 2608, '두번째': 2609, '삼십분': 2610, '명도': 2611, '솜': 2612, '왕조현': 2613, '주윤발': 2614, '왜색': 2615, '작고': 2616, '교활하다': 2617, '원숭이': 2618, '망상': 2619, '사무라이': 2620, '토나오다': 2621, '모니터링': 2622, '염치': 2623, '산업': 2624, '여서': 2625, '소비자': 2626, '입장': 2627, '그나마': 2628, '다행': 2629, '상급': 2630, '품': 2631, '상호': 2632, '박신혜': 2633, '빠져나오다': 2634, '국민학교': 2635, '동생': 2636, '워': 2637, '부류': 2638, '저렴하다': 2639, '마구잡이': 2640, '땀': 2641, '고본': 2642, '번째': 2643, '개도': 2644, '비행기': 2645, '후회되다': 2646, '헛웃음': 2647, '금단비': 2648, '절대로': 2649, '도통': 2650, '시도': 2651, '에만': 2652, '열중': 2653, '기쁨': 2654, '거대하다': 2655, '섭리': 2656, '어머니': 2657, '성미': 2658, '자애': 2659, '낮추다': 2660, '고릴라': 2661, '거도': 2662, '섭렵': 2663, '샤워': 2664, '쳐다보다': 2665, '이라서': 2666, '그만큼': 2667, '광해': 2668, '하트넷': 2669, '나약하다': 2670, '이미지': 2671, '부각': 2672, '베드': 2673, '외모': 2674, '여러가지': 2675, '파렐': 2676, '난이': 2677, '라이': 2678, '사이코': 2679, '속출': 2680, '불교': 2681, '씨바': 2682, 'ㄹ': 2683, '어캐봐': 2684, '꼬옥': 2685, '식상하다': 2686, '물씬': 2687, '풍기다': 2688, '이성재': 2689, '에겐': 2690, '저격': 2691, '비긴': 2692, '어게인': 2693, '대중': 2694, '선택': 2695, '아기': 2696, '오로지': 2697, '청': 2698, '난해하다': 2699, '허탈하다': 2700, '카이사르': 2701, '김민종': 2702, '공격': 2703, '유순하다': 2704, '여성성': 2705, '일기토': 2706, '지략': 2707, '삼국지': 2708, '맞짱': 2709, '비디오테잎': 2710, '좍좍': 2711, '제외': 2712, '하고는': 2713, '따분': 2714, '헬기': 2715, '마구': 2716, '쏘다': 2717, '미군': 2718, '베트공': 2719, '스나이퍼': 2720, '등현': 2721, '극단': 2722, '에서의': 2723, '업햄': 2724, '조커': 2725, '척': 2726, '주위': 2727, '피해': 2728, '자위대': 2729, '등장': 2730, '일편': 2731, '삽질': 2732, '브리': 2733, '쪼끔': 2734, '퍼스': 2735, '그랜트': 2736, '한자리': 2737, '아이리스': 2738, '너무하다': 2739, '자시': 2740, '너무도': 2741, '접합': 2742, '정우성': 2743, '고소영': 2744, '그토록': 2745, '비트': 2746, '전라도': 2747, '노예': 2748, '업주': 2749, '처벌': 2750, '이슈': 2751, '공자': 2752, '자연': 2753, '노자': 2754, '끼리끼리': 2755, '빛': 2756, '유지': 2757, '크리스': 2758, '이삼': 2759, '덴젤와싱턴': 2760, '모레쯔': 2761, '후덕': 2762, '집중': 2763, '배틀로얄': 2764, '상류층': 2765, '속물': 2766, '근성': 2767, '국회의원': 2768, '아부': 2769, '도덕': 2770, '가만히': 2771, '씨익': 2772, '정상인': 2773, '에나': 2774, '샬라샬': 2775, '즁': 2776, '쥬': 2777, '옹졸하다': 2778, '치졸하다': 2779, '빠다': 2780, '롭고': 2781, '만하': 2782, '미드': 2783, '청소년': 2784, '이신': 2785, '직접': 2786, '어르신': 2787, '얘길': 2788, '대부분': 2789, '주민': 2790, '로간': 2791, '주로': 2792, '하층': 2793, '민': 2794, '복수심': 2795, '또는': 2796, '군경': 2797, '빨치산': 2798, '벌이다': 2799, '정작': 2800, '군': 2801, '일리': 2802, '수역': 2803, '아침': 2804, '으이구': 2805, '티나': 2806, '대표': 2807, '김치': 2808, '신뢰': 2809, '요점': 2810, '헤어스타일': 2811, '저렇다': 2812, '가게': 2813, '분신': 2814, '노찌': 2815, '쯔': 2816, '안다': 2817, '크게': 2818, '김명민': 2819, '약': 2820, '구해': 2821, '설마설마': 2822, '짝퉁': 2823, '고만': 2824, '게이': 2825, '설경구': 2826, '모욕감': 2827, '서점': 2828, '보심': 2829, '썰매': 2830, '타고': 2831, '목적지': 2832, '통제': 2833, '한다는': 2834, '데몰리션맨': 2835, '이퀄리브리엄': 2836, '원조': 2837, '격인': 2838, '즈': 2839, '해군': 2840, '출신': 2841, '관심': 2842, '파란색': 2843, '유오성': 2844, '챔프': 2845, '폭풍': 2846, '오열': 2847, 'ㅠㅜㅠㅍ': 2848, '퓨': 2849, '사소하다': 2850, '거장': 2851, '이모': 2852, '우': 2853, '베스트': 2854, '듬': 2855, '페이크': 2856, '시미즈': 2857, '레이': 2858, '만화책': 2859, '비밀': 2860, '영향': 2861, '업적': 2862, '보다는': 2863, '새': 2864, '도전': 2865, '대판': 2866, '쌈질': 2867, '마냥': 2868, '하하호호': 2869, '시청자': 2870, '낚시질': 2871, '그만하다': 2872, '폐지': 2873, '프랑스': 2874, '이래서': 2875, '지미': 2876, '애린': 2877, '꼴통': 2878, '페미니즘': 2879, '페미나치': 2880, '마인드': 2881, '지향': 2882, '장애인': 2883, '단것': 2884, '쿨하다': 2885, '이랬는데': 2886, '어처구니': 2887, '밤중': 2888, '에몽': 2889, '사과': 2890, '골목': 2891, '상권': 2892, '대형': 2893, '슈퍼마켓': 2894, '무협': 2895, '모해': 2896, '껀줄': 2897, '한송이': 2898, '하나라': 2899, '려': 2900, '설교': 2901, '거북하다': 2902, '결혼반지': 2903, '담하다': 2904, '개역': 2905, '문성우': 2906, '써주다': 2907, '색깔': 2908, '충실하다': 2909, '미취': 2910, '학': 2911, '자랑스럽다': 2912, '존내': 2913, '재밋습': 2914, '어의': 2915, '로맨스영화': 2916, '잘알다': 2917, '방': 2918, '허황': 2919, '윤아': 2920, '작자': 2921, '참여': 2922, '천녀유혼': 2923, '퀭': 2924, '따위': 2925, '강요': 2926, '곡': 2927, '훠': 2928, '얼씬': 2929, '내사': 2930, '나위': 2931, '화전': 2932, '출연': 2933, '진과': 2934, '산만': 2935, '무언가': 2936, '화학': 2937, '봣습니닼': 2938, '옆': 2939, '잼잇엇숩니': 2940, '준비': 2941, '젊다': 2942, '손대다': 2943, '마라천': 2944, '천하다': 2945, '두서': 2946, '영화감독': 2947, '앞뒤': 2948, '자르다': 2949, '오그리다': 2950, '파라': 2951, '노말': 2952, '엑': 2953, '부러': 2954, '문헌': 2955, '적히다': 2956, '문란하다': 2957, '사도세자': 2958, '정조': 2959, '아버지': 2960, '휴일': 2961, '낮': 2962, '침대': 2963, '눕다': 2964, '틀어주다': 2965, '벌떡': 2966, '해리슨': 2967, '포드': 2968, '영화광': 2969, '자주': 2970, '미학': 2971, '안타': 2972, '충분': 2973, '교육': 2974, '꿀잼': 2975, '소유': 2976, '서인영': 2977, '흑백': 2978, '쇼핑몰': 2979, '여러분': 2980, '와아': 2981, '두근두근': 2982, '익스트림': 2983, '폭력': 2984, '실험': 2985, '저만': 2986, '수트': 2987, '미남': 2988, '으루': 2989, '권유': 2990, '창조': 2991, '중복': 2992, '겠다': 2993, '나발': 2994, '보드': 2995, '누르다': 2996, '파트': 2997, '개떡': 2998, '농촌': 2999, '리그': 3000, '옴니버스': 3001, '피로': 3002, '극복': 3003, '얼음': 3004, '단독': 3005, '평소': 3006, '여호와': 3007, '증인': 3008, '가능하다': 3009, '탁재훈': 3010, '믄': 3011, '재밌': 3012, '와이': 3013, '라지': 3014, '무치다': 3015, '뒈지다': 3016, '정서': 3017, '선': 3018, '흔하다': 3019, '섬머': 3020, '힘알': 3021, '맥': 3022, '엽기': 3023, '괴짜': 3024, '메다': 3025, '특이하다': 3026, '나루토': 3027, '정당하다': 3028, '보상': 3029, '일정': 3030, '성취': 3031, '결실': 3032, '거두다': 3033, '아씨': 3034, '이미': 3035, '일어나다': 3036, '함께': 3037, '전율': 3038, '여기저기': 3039, '지저분하다': 3040, '연애': 3041, '갈겨쓰다': 3042, '카타르': 3043, '시스': 3044, '값지다': 3045, '린': 3046, '제이': 3047, '차안': 3048, '전화통화': 3049, '가까이': 3050, '구경': 3051, '폰부스': 3052, '현기증': 3053, '되돌아보다': 3054, '조금씩': 3055, '킬': 3056, '려면': 3057, '확': 3058, '던지다': 3059, '어정쩡하다': 3060, '개판': 3061, '총': 3062, '그걸': 3063, '흩어지다': 3064, '일방': 3065, '밀리': 3066, '식인종': 3067, '어쩌': 3068, '식인': 3069, '인성': 3070, '말살': 3071, '신도': 3072, '낭만': 3073, '민권': 3074, '운동': 3075, '사르다': 3076, '요약': 3077, '뛰어내리다': 3078, '줌': 3079, 'ㅋㅋㅋㅋㅋㅋㅋㅋㅋ': 3080, '셈': 3081, '구식': 3082, '알리다': 3083, '끝내주다': 3084, '유투브': 3085, '지하철': 3086, '기관사': 3087, '스타워즈': 3088, '다스베이더': 3089, '탄생': 3090, '루크': 3091, '레이어': 3092, '운명': 3093, '소희': 3094, '졸귀': 3095, '소문나다': 3096, '잔치': 3097, '호화': 3098, '주성치': 3099, '우우': 3100, '웃': 3101, '교과서': 3102, '플레이': 3103, '귀찮다': 3104, '손발': 3105, '후속작': 3106, '간직': 3107, '꺼내다': 3108, '화영': 3109, '나영': 3110, '머싯': 3111, '고래': 3112, '마리': 3113, '국가': 3114, '호들갑': 3115, '참으로': 3116, '주말': 3117, '밤새': 3118, '완주': 3119, '뮬란': 3120, '전쟁씬': 3121, '맑음': 3122, '파문': 3123, '김윤진': 3124, '무리수': 3125, '기획': 3126, '상품': 3127, '홀로': 3128, '더불다': 3129, '아마겟돈': 3130, '악몽': 3131, '각본': 3132, '개념': 3133, '고결하다': 3134, '신사': 3135, '하셧을까': 3136, '캬': 3137, 'ㅎㅎㅎㅎ': 3138, '김소현': 3139, '팬': 3140, '삐': 3141, '에로': 3142, '아웃': 3143, '되게': 3144, '접영': 3145, '도르다': 3146, '넘어서다': 3147, '왈가': 3148, '왈부': 3149, '굿굿굿': 3150, '또해': 3151, '주님': 3152, '미성년': 3153, '순결': 3154, '바치': 3155, '데인': 3156, '명문': 3157, '빈센트': 3158, '양반': 3159, '다세포': 3160, '잡': 3161, '흥': 3162, '새끼': 3163, '종인': 3164, '예원': 3165, '울': 3166, '동안': 3167, '통틀어': 3168, '남아돌다': 3169, '역대': 3170, '보신': 3171, '분들': 3172, '오는': 3173, '현재': 3174, '전지현': 3175, '피디': 3176, '에여': 3177, '쨋': 3178, '달기지': 3179, '미니어쳐': 3180, '팍팍': 3181, '뢔매': 3182, '정여립': 3183, '정철': 3184, '기축옥사': 3185, '케미': 3186, 'ㅠㅠㅠㅠ': 3187, '줄다': 3188, '실험영화': 3189, 'ㅋㅋㅋㅋㅋㅋㅋㅋㅋㅋㅋㅋㅋ': 3190, '옛': 3191, '처먹어랔': 3192, '에일리언': 3193, '쇼핑': 3194, '잊혀지다': 3195, '어떡하다': 3196, '색채': 3197, '아프다': 3198, '대로': 3199, '화려': 3200, '리리': 3201, '심정': 3202, '가지다': 3203, '옌': 3204, '도보': 3205, '소름': 3206, '사랑받다': 3207, '허전하다': 3208, '수이': 3209, '고양이': 3210, '대학교': 3211, '졸업': 3212, '담다': 3213, '최강': 3214, '부대': 3215, '기세': 3216, '에이즈': 3217, '운동화': 3218, '마이': 3219, '프렌드': 3220, '년후': 3221, 'ㅅㅎㅎㅎ': 3222, '설리': 3223, '년생': 3224, '충돌': 3225, '만큼이나': 3226, '거룩하다': 3227, '구려': 3228, '오오': 3229, '여태': 3230, '맷': 3231, '데이먼': 3232, '얼티': 3233, '메이': 3234, '텀': 3235, '뿐이다': 3236, '굿윌헌팅도쩐당': 3237, '로그인': 3238, '이여': 3239, '현정': 3240, '줄거리': 3241, '희한하다': 3242, '편집': 3243, '말아먹다': 3244, '저렇게': 3245, '케릭': 3246, '미장센': 3247, '불필요하다': 3248, '노인': 3249, '한나': 3250, '먼저': 3251, '사로잡히다': 3252, '누나': 3253, '마이클': 3254, '베이': 3255, '블록버스터': 3256, '필수': 3257, '메간폭스': 3258, '미달': 3259, '태도': 3260, '고치다': 3261, '파괴': 3262, '알콜중독자': 3263, '덕': 3264, '중견': 3265, '술사': 3266, '헛': 3267, '실물': 3268, '어유': 3269, '번역': 3270, '바보': 3271, '거여': 3272}\n"
          ]
        }
      ],
      "source": [
        "tokenizer = Tokenizer()\n",
        "tokenizer.fit_on_texts(X_train)\n",
        "\n",
        "print(tokenizer.word_index)"
      ]
    },
    {
      "cell_type": "code",
      "source": [
        "threshold = 3\n",
        "total_cnt = len(tokenizer.word_index) # 단어의 수\n",
        "rare_cnt = 0 # 등장 빈도수가 threshold보다 작은 단어의 개수를 카운트\n",
        "total_freq = 0 # 훈련 데이터의 전체 단어 빈도수 총 합\n",
        "rare_freq = 0 # 등장 빈도수가 threshold보다 작은 단어의 등장 빈도수의 총 합\n",
        "\n",
        "# 단어와 빈도수의 쌍(pair)을 key와 value로 받는다.\n",
        "for key, value in tokenizer.word_counts.items():\n",
        "    total_freq = total_freq + value\n",
        "\n",
        "    # 단어의 등장 빈도수가 threshold보다 작으면\n",
        "    if(value < threshold):\n",
        "        rare_cnt = rare_cnt + 1\n",
        "        rare_freq = rare_freq + value\n",
        "\n",
        "print('단어 집합(vocabulary)의 크기 :',total_cnt)\n",
        "print('등장 빈도가 %s번 이하인 희귀 단어의 수: %s'%(threshold - 1, rare_cnt))\n",
        "print(\"단어 집합에서 희귀 단어의 비율:\", (rare_cnt / total_cnt)*100)\n",
        "print(\"전체 등장 빈도에서 희귀 단어 등장 빈도 비율:\", (rare_freq / total_freq)*100)\n"
      ],
      "metadata": {
        "colab": {
          "base_uri": "https://localhost:8080/"
        },
        "id": "c8vbv2vTSHPL",
        "outputId": "06ff8f42-052c-4336-f7b1-2b9a2fb931d7"
      },
      "execution_count": 98,
      "outputs": [
        {
          "output_type": "stream",
          "name": "stdout",
          "text": [
            "단어 집합(vocabulary)의 크기 : 3272\n",
            "등장 빈도가 2번 이하인 희귀 단어의 수: 2476\n",
            "단어 집합에서 희귀 단어의 비율: 75.67237163814181\n",
            "전체 등장 빈도에서 희귀 단어 등장 빈도 비율: 26.927302691814685\n"
          ]
        }
      ]
    },
    {
      "cell_type": "code",
      "source": [
        "# 전체 단어 개수 중 빈도수 2이하인 단어는 제거.\n",
        "# 0번 패딩 토큰을 고려하여 + 1\n",
        "vocab_size = total_cnt - rare_cnt + 1\n",
        "print('단어 집합의 크기 :',vocab_size)\n"
      ],
      "metadata": {
        "colab": {
          "base_uri": "https://localhost:8080/"
        },
        "id": "tWYmibyBSHRr",
        "outputId": "ec345900-a2b5-4678-9d5a-f9cf0cd4f7ff"
      },
      "execution_count": 99,
      "outputs": [
        {
          "output_type": "stream",
          "name": "stdout",
          "text": [
            "단어 집합의 크기 : 797\n"
          ]
        }
      ]
    },
    {
      "cell_type": "code",
      "source": [
        "tokenizer = Tokenizer(vocab_size)\n",
        "tokenizer.fit_on_texts(X_train)\n",
        "X_train = tokenizer.texts_to_sequences(X_train)\n",
        "X_test = tokenizer.texts_to_sequences(X_test)\n"
      ],
      "metadata": {
        "id": "xzUyEhQDSNp0"
      },
      "execution_count": 100,
      "outputs": []
    },
    {
      "cell_type": "code",
      "source": [
        "y_train = np.array(train_data['label'])\n",
        "y_test = np.array(test_data['label'])\n"
      ],
      "metadata": {
        "id": "a3TGd_-RSMjy"
      },
      "execution_count": 101,
      "outputs": []
    },
    {
      "cell_type": "markdown",
      "source": [
        "### 빈 샘플 제거"
      ],
      "metadata": {
        "id": "DXtSRW2zSQZD"
      }
    },
    {
      "cell_type": "code",
      "source": [
        "drop_train = [index for index, sentence in enumerate(X_train) if len(sentence) < 1]\n"
      ],
      "metadata": {
        "id": "D1hddzuXSHTz"
      },
      "execution_count": 102,
      "outputs": []
    },
    {
      "cell_type": "code",
      "source": [
        "# 빈 샘플들을 제거\n",
        "X_train = np.delete(X_train, drop_train, axis=0)\n",
        "y_train = np.delete(y_train, drop_train, axis=0)\n",
        "print(len(X_train))\n",
        "print(len(y_train))\n"
      ],
      "metadata": {
        "colab": {
          "base_uri": "https://localhost:8080/"
        },
        "id": "8yAWMbUcSHdX",
        "outputId": "fb36109f-5abe-48ff-fdaf-fb2a6789e4c7"
      },
      "execution_count": 103,
      "outputs": [
        {
          "output_type": "stream",
          "name": "stdout",
          "text": [
            "977\n",
            "977\n"
          ]
        },
        {
          "output_type": "stream",
          "name": "stderr",
          "text": [
            "/usr/local/lib/python3.10/dist-packages/numpy/lib/function_base.py:5030: VisibleDeprecationWarning: Creating an ndarray from ragged nested sequences (which is a list-or-tuple of lists-or-tuples-or ndarrays with different lengths or shapes) is deprecated. If you meant to do this, you must specify 'dtype=object' when creating the ndarray.\n",
            "  arr = asarray(arr)\n"
          ]
        }
      ]
    },
    {
      "cell_type": "markdown",
      "source": [
        "### 패딩"
      ],
      "metadata": {
        "id": "vFgurzZ3STKr"
      }
    },
    {
      "cell_type": "code",
      "source": [
        "print('리뷰의 최대 길이 :',max(len(review) for review in X_train))\n",
        "print('리뷰의 평균 길이 :',sum(map(len, X_train))/len(X_train))\n",
        "plt.hist([len(review) for review in X_train], bins=50)\n",
        "plt.xlabel('length of samples')\n",
        "plt.ylabel('number of samples')\n",
        "plt.show()\n"
      ],
      "metadata": {
        "colab": {
          "base_uri": "https://localhost:8080/",
          "height": 485
        },
        "id": "52dwvs0kSHgD",
        "outputId": "894e8339-2ded-410e-c2ec-a765d830445f"
      },
      "execution_count": 104,
      "outputs": [
        {
          "output_type": "stream",
          "name": "stdout",
          "text": [
            "리뷰의 최대 길이 : 38\n",
            "리뷰의 평균 길이 : 8.168884339815763\n"
          ]
        },
        {
          "output_type": "display_data",
          "data": {
            "text/plain": [
              "<Figure size 640x480 with 1 Axes>"
            ],
            "image/png": "[encoded data removed]"
          },
          "metadata": {}
        }
      ]
    },
    {
      "cell_type": "code",
      "source": [
        "def below_threshold_len(max_len, nested_list):\n",
        "  count = 0\n",
        "  for sentence in nested_list:\n",
        "    if(len(sentence) <= max_len):\n",
        "        count = count + 1\n",
        "  print('전체 샘플 중 길이가 %s 이하인 샘플의 비율: %s'%(max_len, (count / len(nested_list))*100))\n"
      ],
      "metadata": {
        "id": "2XUetfr2SHir"
      },
      "execution_count": 105,
      "outputs": []
    },
    {
      "cell_type": "code",
      "source": [
        "max_len = 30\n",
        "below_threshold_len(max_len, X_train)\n"
      ],
      "metadata": {
        "colab": {
          "base_uri": "https://localhost:8080/"
        },
        "id": "sYL1jN2WSHl0",
        "outputId": "3641e186-3e23-4073-d156-f7970737324f"
      },
      "execution_count": 106,
      "outputs": [
        {
          "output_type": "stream",
          "name": "stdout",
          "text": [
            "전체 샘플 중 길이가 30 이하인 샘플의 비율: 98.15762538382803\n"
          ]
        }
      ]
    },
    {
      "cell_type": "code",
      "source": [
        "X_train = pad_sequences(X_train, maxlen=max_len)\n",
        "X_test = pad_sequences(X_test, maxlen=max_len)\n"
      ],
      "metadata": {
        "id": "bUJc9h4iSHq_"
      },
      "execution_count": 107,
      "outputs": []
    },
    {
      "cell_type": "markdown",
      "source": [
        "### LSTM 분류"
      ],
      "metadata": {
        "id": "Z05_fFa8SY1T"
      }
    },
    {
      "cell_type": "code",
      "source": [
        "from tensorflow.keras.layers import Embedding, Dense, LSTM\n",
        "from tensorflow.keras.models import Sequential\n",
        "from tensorflow.keras.models import load_model\n",
        "from tensorflow.keras.callbacks import EarlyStopping, ModelCheckpoint\n",
        "\n",
        "embedding_dim = 100\n",
        "hidden_units = 128\n",
        "\n",
        "model = Sequential()\n",
        "model.add(Embedding(vocab_size, embedding_dim))\n",
        "model.add(LSTM(hidden_units))\n",
        "model.add(Dense(1, activation='sigmoid'))\n",
        "\n",
        "es = EarlyStopping(monitor='val_loss', mode='min', verbose=1, patience=4)\n",
        "mc = ModelCheckpoint('best_model.h5', monitor='val_acc', mode='max', verbose=1, save_best_only=True)\n",
        "\n",
        "model.compile(optimizer='rmsprop', loss='binary_crossentropy', metrics=['acc'])\n",
        "history = model.fit(X_train, y_train, epochs=15, callbacks=[es, mc], batch_size=64, validation_split=0.2)\n"
      ],
      "metadata": {
        "colab": {
          "base_uri": "https://localhost:8080/"
        },
        "id": "Pm4DDKeCSHwP",
        "outputId": "bb02b675-6c6f-4292-837b-408e97aaf26e"
      },
      "execution_count": 108,
      "outputs": [
        {
          "output_type": "stream",
          "name": "stdout",
          "text": [
            "Epoch 1/15\n",
            "13/13 [==============================] - ETA: 0s - loss: 0.6936 - acc: 0.4853\n",
            "Epoch 1: val_acc improved from -inf to 0.49490, saving model to best_model.h5\n",
            "13/13 [==============================] - 10s 209ms/step - loss: 0.6936 - acc: 0.4853 - val_loss: 0.6920 - val_acc: 0.4949\n",
            "Epoch 2/15\n",
            "13/13 [==============================] - ETA: 0s - loss: 0.6889 - acc: 0.5391\n",
            "Epoch 2: val_acc improved from 0.49490 to 0.62755, saving model to best_model.h5\n",
            "13/13 [==============================] - 2s 136ms/step - loss: 0.6889 - acc: 0.5391 - val_loss: 0.6863 - val_acc: 0.6276\n",
            "Epoch 3/15\n",
            "13/13 [==============================] - ETA: 0s - loss: 0.6780 - acc: 0.6786\n",
            "Epoch 3: val_acc improved from 0.62755 to 0.64286, saving model to best_model.h5\n",
            "13/13 [==============================] - 1s 101ms/step - loss: 0.6780 - acc: 0.6786 - val_loss: 0.6774 - val_acc: 0.6429\n",
            "Epoch 4/15\n",
            "13/13 [==============================] - ETA: 0s - loss: 0.6395 - acc: 0.7055\n",
            "Epoch 4: val_acc did not improve from 0.64286\n",
            "13/13 [==============================] - 1s 87ms/step - loss: 0.6395 - acc: 0.7055 - val_loss: 0.8282 - val_acc: 0.4949\n",
            "Epoch 5/15\n",
            "13/13 [==============================] - ETA: 0s - loss: 0.5830 - acc: 0.7939\n",
            "Epoch 5: val_acc did not improve from 0.64286\n",
            "13/13 [==============================] - 2s 127ms/step - loss: 0.5830 - acc: 0.7939 - val_loss: 0.6396 - val_acc: 0.6224\n",
            "Epoch 6/15\n",
            "13/13 [==============================] - ETA: 0s - loss: 0.5104 - acc: 0.7875\n",
            "Epoch 6: val_acc improved from 0.64286 to 0.66327, saving model to best_model.h5\n",
            "13/13 [==============================] - 2s 157ms/step - loss: 0.5104 - acc: 0.7875 - val_loss: 0.5920 - val_acc: 0.6633\n",
            "Epoch 7/15\n",
            "13/13 [==============================] - ETA: 0s - loss: 0.4342 - acc: 0.8412\n",
            "Epoch 7: val_acc improved from 0.66327 to 0.69388, saving model to best_model.h5\n",
            "13/13 [==============================] - 1s 79ms/step - loss: 0.4342 - acc: 0.8412 - val_loss: 0.6027 - val_acc: 0.6939\n",
            "Epoch 8/15\n",
            "13/13 [==============================] - ETA: 0s - loss: 0.3760 - acc: 0.8464\n",
            "Epoch 8: val_acc did not improve from 0.69388\n",
            "13/13 [==============================] - 1s 72ms/step - loss: 0.3760 - acc: 0.8464 - val_loss: 0.5952 - val_acc: 0.6786\n",
            "Epoch 9/15\n",
            "13/13 [==============================] - ETA: 0s - loss: 0.3010 - acc: 0.8860\n",
            "Epoch 9: val_acc did not improve from 0.69388\n",
            "13/13 [==============================] - 1s 48ms/step - loss: 0.3010 - acc: 0.8860 - val_loss: 0.6144 - val_acc: 0.6684\n",
            "Epoch 10/15\n",
            "13/13 [==============================] - ETA: 0s - loss: 0.2884 - acc: 0.8899\n",
            "Epoch 10: val_acc did not improve from 0.69388\n",
            "13/13 [==============================] - 1s 61ms/step - loss: 0.2884 - acc: 0.8899 - val_loss: 0.6638 - val_acc: 0.6837\n",
            "Epoch 10: early stopping\n"
          ]
        }
      ]
    },
    {
      "cell_type": "code",
      "source": [
        "loaded_model = load_model('best_model.h5')\n",
        "print(\"\\n 테스트 정확도: %.4f\" % (loaded_model.evaluate(X_test, y_test)[1]))\n"
      ],
      "metadata": {
        "colab": {
          "base_uri": "https://localhost:8080/"
        },
        "id": "tDQvLb5RSHzg",
        "outputId": "d6d97952-b952-4d06-d877-17c1cdf5d52b"
      },
      "execution_count": 109,
      "outputs": [
        {
          "output_type": "stream",
          "name": "stdout",
          "text": [
            "31/31 [==============================] - 1s 4ms/step - loss: 0.5844 - acc: 0.6985\n",
            "\n",
            " 테스트 정확도: 0.6985\n"
          ]
        }
      ]
    },
    {
      "cell_type": "code",
      "source": [
        "# 토크나이저를 피클 단위로 저장하고 추후 불러들일 수 있음\n",
        "with open('tokenizer.pickle', 'wb') as handle:\n",
        "     pickle.dump(tokenizer, handle)\n",
        "\n",
        "with open('tokenizer.pickle', 'rb') as handle:\n",
        "    tokenizer = pickle.load(handle)\n"
      ],
      "metadata": {
        "id": "SjRtII_eSH1w"
      },
      "execution_count": 110,
      "outputs": []
    },
    {
      "cell_type": "markdown",
      "source": [
        "### 리뷰 예측"
      ],
      "metadata": {
        "id": "CjkoyAacSmqT"
      }
    },
    {
      "cell_type": "code",
      "source": [
        "def sentiment_predict(new_sentence):\n",
        "  new_sentence = re.sub(r'[^ㄱ-ㅎㅏ-ㅣ가-힣 ]','', new_sentence)\n",
        "  new_sentence = okt.morphs(new_sentence, stem=True) # 토큰화\n",
        "  new_sentence = [word for word in new_sentence if not word in stopwords] # 불용어 제거\n",
        "  encoded = tokenizer.texts_to_sequences([new_sentence]) # 정수 인코딩\n",
        "  pad_new = pad_sequences(encoded, maxlen = max_len) # 패딩\n",
        "  score = float(loaded_model.predict(pad_new)) # 예측\n",
        "  if(score > 0.5):\n",
        "    print(\"{:.2f}% 확률로 긍정 리뷰입니다.\\n\".format(score * 100))\n",
        "  else:\n",
        "    print(\"{:.2f}% 확률로 부정 리뷰입니다.\\n\".format((1 - score) * 100))\n"
      ],
      "metadata": {
        "id": "sphQqUgWSH38"
      },
      "execution_count": 111,
      "outputs": []
    },
    {
      "cell_type": "code",
      "source": [
        "sentiment_predict('이 영화 개꿀잼 ㅋㅋㅋ')\n"
      ],
      "metadata": {
        "colab": {
          "base_uri": "https://localhost:8080/"
        },
        "id": "2Hh3Wvi0SH6Y",
        "outputId": "888011bb-5f6e-48ce-b0be-cb55eec094ff"
      },
      "execution_count": 112,
      "outputs": [
        {
          "output_type": "stream",
          "name": "stdout",
          "text": [
            "1/1 [==============================] - 0s 364ms/step\n",
            "72.14% 확률로 긍정 리뷰입니다.\n",
            "\n"
          ]
        }
      ]
    },
    {
      "cell_type": "code",
      "source": [
        "sentiment_predict('이 영화 핵노잼 ㅠㅠ')\n"
      ],
      "metadata": {
        "colab": {
          "base_uri": "https://localhost:8080/"
        },
        "id": "FpbUfnvsSp1S",
        "outputId": "136b83e3-95c5-4566-f430-fa30946f603c"
      },
      "execution_count": 113,
      "outputs": [
        {
          "output_type": "stream",
          "name": "stdout",
          "text": [
            "1/1 [==============================] - 0s 18ms/step\n",
            "73.45% 확률로 긍정 리뷰입니다.\n",
            "\n"
          ]
        }
      ]
    }
  ],
  "metadata": {
    "accelerator": "GPU",
    "colab": {
      "provenance": [],
      "gpuType": "T4"
    },
    "kernelspec": {
      "display_name": "Python 3",
      "name": "python3"
    },
    "language_info": {
      "name": "python"
    }
  },
  "nbformat": 4,
  "nbformat_minor": 0
}
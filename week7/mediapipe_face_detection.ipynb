{
 "cells": [
  {
   "cell_type": "markdown",
   "metadata": {},
   "source": [
    "### Mediapipe face detection"
   ]
  },
  {
   "cell_type": "code",
   "execution_count": 1,
   "metadata": {},
   "outputs": [
    {
     "name": "stdout",
     "output_type": "stream",
     "text": [
      "Collecting mediapipe\n",
      "  Downloading mediapipe-0.10.2-cp310-cp310-win_amd64.whl (50.2 MB)\n",
      "     ---------------------------------------- 50.2/50.2 MB 5.8 MB/s eta 0:00:00\n",
      "Collecting attrs>=19.1.0\n",
      "  Using cached attrs-23.1.0-py3-none-any.whl (61 kB)\n",
      "Collecting matplotlib\n",
      "  Downloading matplotlib-3.7.2-cp310-cp310-win_amd64.whl (7.5 MB)\n",
      "     ---------------------------------------- 7.5/7.5 MB 6.6 MB/s eta 0:00:00\n",
      "Collecting protobuf<4,>=3.11\n",
      "  Downloading protobuf-3.20.3-cp310-cp310-win_amd64.whl (904 kB)\n",
      "     -------------------------------------- 904.0/904.0 kB 4.4 MB/s eta 0:00:00\n",
      "Collecting numpy\n",
      "  Downloading numpy-1.25.1-cp310-cp310-win_amd64.whl (15.0 MB)\n",
      "     ---------------------------------------- 15.0/15.0 MB 6.7 MB/s eta 0:00:00\n",
      "Collecting flatbuffers>=2.0\n",
      "  Using cached flatbuffers-23.5.26-py2.py3-none-any.whl (26 kB)\n",
      "Collecting sounddevice>=0.4.4\n",
      "  Downloading sounddevice-0.4.6-py3-none-win_amd64.whl (199 kB)\n",
      "     -------------------------------------- 199.7/199.7 kB 4.1 MB/s eta 0:00:00\n",
      "Collecting opencv-contrib-python\n",
      "  Downloading opencv_contrib_python-4.8.0.74-cp37-abi3-win_amd64.whl (44.8 MB)\n",
      "     ---------------------------------------- 44.8/44.8 MB 4.6 MB/s eta 0:00:00\n",
      "Collecting absl-py\n",
      "  Using cached absl_py-1.4.0-py3-none-any.whl (126 kB)\n",
      "Requirement already satisfied: CFFI>=1.0 in c:\\users\\user\\miniconda3\\lib\\site-packages (from sounddevice>=0.4.4->mediapipe) (1.15.1)\n",
      "Collecting fonttools>=4.22.0\n",
      "  Downloading fonttools-4.40.0-cp310-cp310-win_amd64.whl (1.9 MB)\n",
      "     ---------------------------------------- 1.9/1.9 MB 4.1 MB/s eta 0:00:00\n",
      "Requirement already satisfied: packaging>=20.0 in c:\\users\\user\\miniconda3\\lib\\site-packages (from matplotlib->mediapipe) (23.0)\n",
      "Collecting cycler>=0.10\n",
      "  Using cached cycler-0.11.0-py3-none-any.whl (6.4 kB)\n",
      "Collecting pyparsing<3.1,>=2.3.1\n",
      "  Using cached pyparsing-3.0.9-py3-none-any.whl (98 kB)\n",
      "Collecting contourpy>=1.0.1\n",
      "  Downloading contourpy-1.1.0-cp310-cp310-win_amd64.whl (470 kB)\n",
      "     -------------------------------------- 470.4/470.4 kB 2.7 MB/s eta 0:00:00\n",
      "Requirement already satisfied: python-dateutil>=2.7 in c:\\users\\user\\miniconda3\\lib\\site-packages (from matplotlib->mediapipe) (2.8.2)\n",
      "Collecting kiwisolver>=1.0.1\n",
      "  Downloading kiwisolver-1.4.4-cp310-cp310-win_amd64.whl (55 kB)\n",
      "     ---------------------------------------- 55.3/55.3 kB ? eta 0:00:00\n",
      "Collecting pillow>=6.2.0\n",
      "  Downloading Pillow-10.0.0-cp310-cp310-win_amd64.whl (2.5 MB)\n",
      "     ---------------------------------------- 2.5/2.5 MB 3.6 MB/s eta 0:00:00\n",
      "Requirement already satisfied: pycparser in c:\\users\\user\\miniconda3\\lib\\site-packages (from CFFI>=1.0->sounddevice>=0.4.4->mediapipe) (2.21)\n",
      "Requirement already satisfied: six>=1.5 in c:\\users\\user\\miniconda3\\lib\\site-packages (from python-dateutil>=2.7->matplotlib->mediapipe) (1.16.0)\n",
      "Installing collected packages: flatbuffers, pyparsing, protobuf, pillow, numpy, kiwisolver, fonttools, cycler, attrs, absl-py, sounddevice, opencv-contrib-python, contourpy, matplotlib, mediapipe\n",
      "Successfully installed absl-py-1.4.0 attrs-23.1.0 contourpy-1.1.0 cycler-0.11.0 flatbuffers-23.5.26 fonttools-4.40.0 kiwisolver-1.4.4 matplotlib-3.7.2 mediapipe-0.10.2 numpy-1.25.1 opencv-contrib-python-4.8.0.74 pillow-10.0.0 protobuf-3.20.3 pyparsing-3.0.9 sounddevice-0.4.6\n"
     ]
    }
   ],
   "source": [
    "# 파이썬 가상환경 없이 작업 또는 미디어파이프 용으로 가상환경 제작\n",
    "# 현재 사용하는 gpu와 충돌 현상이 있기 때문\n",
    "#!pip install mediapipe"
   ]
  },
  {
   "cell_type": "code",
   "execution_count": 2,
   "metadata": {},
   "outputs": [],
   "source": [
    "import cv2\n",
    "import mediapipe as mp\n",
    "mp_face_detection = mp.solutions.face_detection\n",
    "mp_drawing = mp.solutions.drawing_utils"
   ]
  },
  {
   "cell_type": "code",
   "execution_count": 8,
   "metadata": {},
   "outputs": [
    {
     "name": "stdout",
     "output_type": "stream",
     "text": [
      "Nose tip:\n",
      "x: 0.5250846147537231\n",
      "y: 0.31368646025657654\n",
      "\n",
      "Nose tip:\n",
      "x: 0.21966151893138885\n",
      "y: 0.3748025596141815\n",
      "\n",
      "Nose tip:\n",
      "x: 0.40158721804618835\n",
      "y: 0.41424360871315\n",
      "\n",
      "Nose tip:\n",
      "x: 0.8104060292243958\n",
      "y: 0.3089529573917389\n",
      "\n",
      "Nose tip:\n",
      "x: 0.6461549401283264\n",
      "y: 0.2599489390850067\n",
      "\n",
      "Nose tip:\n",
      "x: 0.3573139011859894\n",
      "y: 0.32127413153648376\n",
      "\n"
     ]
    }
   ],
   "source": [
    "# min_detection_confidence=0.5 신뢰도, 유사도가 0.5이상인 것만 사용\n",
    "\n",
    "IMAGE_FILES = ['c:/data/img/opencv_test_img/open_cv_1.jpg']\n",
    "# IMAGE_FILES = 'c:/data/img/opencv_test_img/open_cv_1.jpg'\n",
    "\n",
    "with mp_face_detection.FaceDetection(\n",
    "    model_selection=1, min_detection_confidence=0.5) as face_detection:\n",
    "    file=IMAGE_FILES[0]\n",
    "    for idx, file in enumerate(IMAGE_FILES):\n",
    "        image=cv2.imread(file)\n",
    "        results=face_detection.process(cv2.cvtColor(image, cv2.COLOR_BGR2RGB))\n",
    "        #print(results)\n",
    "        # print(results.detections) # mediapipe에서 제공하는 face_detection 함수를 사용하여 결과 확인, 각각의 위치값이 나옴\n",
    "        if not results.detections:\n",
    "            continue\n",
    "        annotated_image = image.copy()\n",
    "        for detection in results.detections:\n",
    "            print('Nose tip:')\n",
    "            print(mp_face_detection.get_key_point(\n",
    "                detection, mp_face_detection.FaceKeyPoint.NOSE_TIP))\n",
    "            mp_drawing.draw_detection(annotated_image, detection)\n",
    "        cv2.imwrite('/tmp/annotated_image' + str(idx) + '.png', annotated_image)   "
   ]
  },
  {
   "cell_type": "code",
   "execution_count": null,
   "metadata": {},
   "outputs": [],
   "source": []
  }
 ],
 "metadata": {
  "kernelspec": {
   "display_name": "base",
   "language": "python",
   "name": "python3"
  },
  "language_info": {
   "codemirror_mode": {
    "name": "ipython",
    "version": 3
   },
   "file_extension": ".py",
   "mimetype": "text/x-python",
   "name": "python",
   "nbconvert_exporter": "python",
   "pygments_lexer": "ipython3",
   "version": "3.10.10"
  },
  "orig_nbformat": 4
 },
 "nbformat": 4,
 "nbformat_minor": 2
}

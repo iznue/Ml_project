{
 "cells": [
  {
   "cell_type": "markdown",
   "metadata": {},
   "source": [
    "### pytorch 예제\n",
    "https://github.com/bjpublic/DeepLearningProject/blob/main/03_%EC%86%90%EA%B8%80%EC%94%A8_%EC%88%AB%EC%9E%90_%EC%9D%B4%EB%AF%B8%EC%A7%80_%EB%B6%84%EB%A5%98/mnist_example.ipynb"
   ]
  },
  {
   "cell_type": "code",
   "execution_count": 1,
   "metadata": {},
   "outputs": [],
   "source": [
    "#!pip install torchsummary"
   ]
  },
  {
   "cell_type": "code",
   "execution_count": 2,
   "metadata": {},
   "outputs": [],
   "source": [
    "import torch\n",
    "import torch.nn as nn\n",
    "import torch.nn.functional as F\n",
    "import torch.optim as optim\n",
    "from torchvision import datasets, transforms\n",
    "# from torch.autograd import Variable\n",
    "\n",
    "from matplotlib import pyplot as plt\n",
    "%matplotlib inline"
   ]
  },
  {
   "cell_type": "markdown",
   "metadata": {},
   "source": [
    "#### pytorch 장치 할당\n",
    "https://tutorials.pytorch.kr/recipes/recipes/save_load_across_devices.html"
   ]
  },
  {
   "cell_type": "code",
   "execution_count": 3,
   "metadata": {},
   "outputs": [
    {
     "name": "stdout",
     "output_type": "stream",
     "text": [
      "Current cuda device is cuda\n"
     ]
    }
   ],
   "source": [
    "#### -- 1-2. 분석 환경 설정 -- ####\n",
    "\n",
    "is_cuda = torch.cuda.is_available()\n",
    "device = torch.device('cuda' if is_cuda else 'cpu')\n",
    "\n",
    "# torch.device('cpu') cpu할당\n",
    "# torch.device('cuda') gpu 할당\n",
    "\n",
    "print ('Current cuda device is', device)"
   ]
  },
  {
   "cell_type": "code",
   "execution_count": 4,
   "metadata": {},
   "outputs": [],
   "source": [
    "#### -- 1-3. Hyper-parameter 지정 -- ####\n",
    "batch_size = 50\n",
    "learning_rate = 0.0001\n",
    "epoch_num = 15"
   ]
  },
  {
   "cell_type": "code",
   "execution_count": 5,
   "metadata": {},
   "outputs": [
    {
     "name": "stdout",
     "output_type": "stream",
     "text": [
      "Downloading http://yann.lecun.com/exdb/mnist/train-images-idx3-ubyte.gz\n",
      "Downloading http://yann.lecun.com/exdb/mnist/train-images-idx3-ubyte.gz to ./data\\MNIST\\raw\\train-images-idx3-ubyte.gz\n"
     ]
    },
    {
     "name": "stderr",
     "output_type": "stream",
     "text": [
      "100%|██████████| 9912422/9912422 [00:00<00:00, 11474910.26it/s]\n"
     ]
    },
    {
     "name": "stdout",
     "output_type": "stream",
     "text": [
      "Extracting ./data\\MNIST\\raw\\train-images-idx3-ubyte.gz to ./data\\MNIST\\raw\n",
      "\n",
      "Downloading http://yann.lecun.com/exdb/mnist/train-labels-idx1-ubyte.gz\n",
      "Downloading http://yann.lecun.com/exdb/mnist/train-labels-idx1-ubyte.gz to ./data\\MNIST\\raw\\train-labels-idx1-ubyte.gz\n"
     ]
    },
    {
     "name": "stderr",
     "output_type": "stream",
     "text": [
      "100%|██████████| 28881/28881 [00:00<?, ?it/s]"
     ]
    },
    {
     "name": "stdout",
     "output_type": "stream",
     "text": [
      "Extracting ./data\\MNIST\\raw\\train-labels-idx1-ubyte.gz to ./data\\MNIST\\raw\n"
     ]
    },
    {
     "name": "stderr",
     "output_type": "stream",
     "text": [
      "\n"
     ]
    },
    {
     "name": "stdout",
     "output_type": "stream",
     "text": [
      "\n",
      "Downloading http://yann.lecun.com/exdb/mnist/t10k-images-idx3-ubyte.gz\n",
      "Downloading http://yann.lecun.com/exdb/mnist/t10k-images-idx3-ubyte.gz to ./data\\MNIST\\raw\\t10k-images-idx3-ubyte.gz\n"
     ]
    },
    {
     "name": "stderr",
     "output_type": "stream",
     "text": [
      "100%|██████████| 1648877/1648877 [00:00<00:00, 7095747.30it/s]\n"
     ]
    },
    {
     "name": "stdout",
     "output_type": "stream",
     "text": [
      "Extracting ./data\\MNIST\\raw\\t10k-images-idx3-ubyte.gz to ./data\\MNIST\\raw\n",
      "\n",
      "Downloading http://yann.lecun.com/exdb/mnist/t10k-labels-idx1-ubyte.gz\n",
      "Downloading http://yann.lecun.com/exdb/mnist/t10k-labels-idx1-ubyte.gz to ./data\\MNIST\\raw\\t10k-labels-idx1-ubyte.gz\n"
     ]
    },
    {
     "name": "stderr",
     "output_type": "stream",
     "text": [
      "100%|██████████| 4542/4542 [00:00<00:00, 4281017.70it/s]"
     ]
    },
    {
     "name": "stdout",
     "output_type": "stream",
     "text": [
      "Extracting ./data\\MNIST\\raw\\t10k-labels-idx1-ubyte.gz to ./data\\MNIST\\raw\n",
      "\n",
      "number of training data:  60000\n",
      "number of test data:  10000\n"
     ]
    },
    {
     "name": "stderr",
     "output_type": "stream",
     "text": [
      "\n"
     ]
    }
   ],
   "source": [
    "#### -- 2-1. MNIST 데이터 불러오기 -- ####\n",
    "train_data = datasets.MNIST(root = './data', train = True, download = True, transform = transforms.ToTensor())\n",
    "test_data = datasets.MNIST(root = './data', train = False, transform = transforms.ToTensor())\n",
    "\n",
    "print('number of training data: ', len(train_data))\n",
    "print('number of test data: ', len(test_data))"
   ]
  },
  {
   "cell_type": "code",
   "execution_count": 6,
   "metadata": {},
   "outputs": [
    {
     "data": {
      "text/plain": [
       "(torch.Size([1, 28, 28]), torch.Size([28, 28]), (28, 28))"
      ]
     },
     "execution_count": 6,
     "metadata": {},
     "output_type": "execute_result"
    }
   ],
   "source": [
    "#### -- 2-2. MNIST 데이터 확인하기 -- ####\n",
    "image, label = train_data[0]\n",
    "image.shape, image.squeeze().shape, image.squeeze().numpy().shape\n",
    "# matplot에 이미지를 그리기 위해서는 흑백의 경우 (28,28), 컬러의 경우 (28,28,3)\n",
    "# matplot으로 그리기 위해 차원축소를 하고자 squeeze함수를 사용함(1의 차원만 제거)"
   ]
  },
  {
   "cell_type": "code",
   "execution_count": 7,
   "metadata": {},
   "outputs": [
    {
     "data": {
      "image/png": "[encoded data removed]",
      "text/plain": [
       "<Figure size 640x480 with 1 Axes>"
      ]
     },
     "metadata": {},
     "output_type": "display_data"
    }
   ],
   "source": [
    "plt.imshow(image.squeeze().numpy(), cmap = 'gray')\n",
    "# numpy말고 squeeze만 적용한 값을 사용해도 됨, torch의 경우 가능\n",
    "# squeeze : 1의 차원만 제거, 차원 축소\n",
    "#  \n",
    "plt.title('label : %s' % label)\n",
    "plt.show()"
   ]
  },
  {
   "cell_type": "markdown",
   "metadata": {},
   "source": [
    "##### 내 폴더 자료 불러와서 x,y 데이터셋 구성하기\n",
    "    - 폴더 내의 자료를 x 데이터로 부르면서 array화 함\n",
    "    https://tutorials.pytorch.kr/beginner/basics/data_tutorial.html"
   ]
  },
  {
   "cell_type": "code",
   "execution_count": 8,
   "metadata": {},
   "outputs": [
    {
     "name": "stdout",
     "output_type": "stream",
     "text": [
      "name            | type                      | size\n",
      "Num of Batch    |                           | 1200\n",
      "first_batch     | <class 'list'>            | 2\n",
      "first_batch[0]  | <class 'torch.Tensor'>    | torch.Size([50, 1, 28, 28])\n",
      "first_batch[1]  | <class 'torch.Tensor'>    | torch.Size([50])\n"
     ]
    }
   ],
   "source": [
    "#### -- 2-3. Mini-Batch 구성하기 -- ####\n",
    "train_loader = torch.utils.data.DataLoader(dataset = train_data, \n",
    "                                           batch_size = batch_size, shuffle = True)\n",
    "test_loader  = torch.utils.data.DataLoader(dataset = test_data, \n",
    "                                           batch_size = batch_size, shuffle = True)\n",
    "\n",
    "first_batch = train_loader.__iter__().__next__() # 첫번째 데이터 읽기, tensorflow : iteration(next)\n",
    "print('{:15s} | {:<25s} | {}'.format('name', 'type', 'size'))\n",
    "print('{:15s} | {:<25s} | {}'.format('Num of Batch', '', len(train_loader)))\n",
    "print('{:15s} | {:<25s} | {}'.format('first_batch', str(type(first_batch)), len(first_batch)))\n",
    "print('{:15s} | {:<25s} | {}'.format('first_batch[0]', str(type(first_batch[0])), first_batch[0].shape))\n",
    "print('{:15s} | {:<25s} | {}'.format('first_batch[1]', str(type(first_batch[1])), first_batch[1].shape))\n",
    "\n",
    "# batch에는 img, label이 들어있으므로 len(first_batch)=2"
   ]
  },
  {
   "cell_type": "code",
   "execution_count": 9,
   "metadata": {},
   "outputs": [
    {
     "name": "stdout",
     "output_type": "stream",
     "text": [
      "torch.Size([28, 28])\n",
      "torch.Size([28, 28])\n",
      "torch.Size([28, 28])\n",
      "torch.Size([28, 28])\n",
      "torch.Size([28, 28])\n"
     ]
    },
    {
     "data": {
      "image/png": "[encoded data removed]",
      "text/plain": [
       "<Figure size 1000x300 with 5 Axes>"
      ]
     },
     "metadata": {},
     "output_type": "display_data"
    }
   ],
   "source": [
    "first_batch[0].min(), first_batch[0].max(), first_batch[1]\n",
    "# 정규화 확인\n",
    "\n",
    "dataNum=5\n",
    "cnt=1\n",
    "plt.figure(figsize=(10,3))\n",
    "for x,y in zip(first_batch[0][:dataNum], first_batch[1][:dataNum]):\n",
    "    print(x.squeeze().shape)\n",
    "    plt.subplot(1,5,cnt)\n",
    "    plt.imshow(x.squeeze().numpy(), cmap = 'gray')\n",
    "    plt.title('label : %s' % y.numpy())\n",
    "    cnt+=1\n",
    "plt.show()"
   ]
  },
  {
   "cell_type": "code",
   "execution_count": 10,
   "metadata": {},
   "outputs": [],
   "source": [
    "#### -- 3-1. CNN 구조 설계하기 (매우 중요) -- ####\n",
    "class CNN(nn.Module):\n",
    "    def __init__(self):\n",
    "        super(CNN, self).__init__()\n",
    "        self.conv1 = nn.Conv2d(1, 32, 3, 1) #torch.nn.Conv2d(in_channels, out_channels, kernel_size, stride=1, padding=0)\n",
    "        self.conv2 = nn.Conv2d(32, 64, 3, 1)\n",
    "        self.dropout1 = nn.Dropout2d(0.25)\n",
    "        self.dropout2 = nn.Dropout2d(0.5)\n",
    "        self.fc1 = nn.Linear(9216, 128)\n",
    "        self.fc2 = nn.Linear(128, 10)  # 최종 output 10개\n",
    "\n",
    "    def forward(self, x):\n",
    "        x = self.conv1(x)\n",
    "        x = F.relu(x)\n",
    "        x = self.conv2(x)\n",
    "        x = F.relu(x)\n",
    "        x = F.max_pool2d(x, 2)\n",
    "        x = self.dropout1(x)\n",
    "        x = torch.flatten(x, 1)\n",
    "        x = self.fc1(x)\n",
    "        x = F.relu(x)\n",
    "        x = self.dropout2(x)\n",
    "        x = self.fc2(x)\n",
    "        output = F.log_softmax(x, dim=1)\n",
    "        return output"
   ]
  },
  {
   "cell_type": "code",
   "execution_count": 11,
   "metadata": {},
   "outputs": [],
   "source": [
    "#### -- 3-2. Optimizer 및 손실함수 정의 -- ####\n",
    "model = CNN().to(device)  # class를 설정하여 device에 넘김\n",
    "optimizer = optim.Adam(model.parameters(), lr = learning_rate)\n",
    "criterion = nn.CrossEntropyLoss( )\n",
    "# softmax output은 10개 이므로 crossentropy 사용"
   ]
  },
  {
   "cell_type": "code",
   "execution_count": 12,
   "metadata": {},
   "outputs": [
    {
     "name": "stdout",
     "output_type": "stream",
     "text": [
      "CNN(\n",
      "  (conv1): Conv2d(1, 32, kernel_size=(3, 3), stride=(1, 1))\n",
      "  (conv2): Conv2d(32, 64, kernel_size=(3, 3), stride=(1, 1))\n",
      "  (dropout1): Dropout2d(p=0.25, inplace=False)\n",
      "  (dropout2): Dropout2d(p=0.5, inplace=False)\n",
      "  (fc1): Linear(in_features=9216, out_features=128, bias=True)\n",
      "  (fc2): Linear(in_features=128, out_features=10, bias=True)\n",
      ")\n"
     ]
    }
   ],
   "source": [
    "#### -- 3-3. 설계한 CNN 모형 확인하기 -- ####\n",
    "print(model)"
   ]
  },
  {
   "cell_type": "code",
   "execution_count": 13,
   "metadata": {},
   "outputs": [
    {
     "name": "stdout",
     "output_type": "stream",
     "text": [
      "----------------------------------------------------------------\n",
      "        Layer (type)               Output Shape         Param #\n",
      "================================================================\n",
      "            Conv2d-1           [-1, 32, 26, 26]             320\n",
      "            Conv2d-2           [-1, 64, 24, 24]          18,496\n",
      "         Dropout2d-3           [-1, 64, 12, 12]               0\n",
      "            Linear-4                  [-1, 128]       1,179,776\n",
      "         Dropout2d-5                  [-1, 128]               0\n",
      "            Linear-6                   [-1, 10]           1,290\n",
      "================================================================\n",
      "Total params: 1,199,882\n",
      "Trainable params: 1,199,882\n",
      "Non-trainable params: 0\n",
      "----------------------------------------------------------------\n",
      "Input size (MB): 0.00\n",
      "Forward/backward pass size (MB): 0.52\n",
      "Params size (MB): 4.58\n",
      "Estimated Total Size (MB): 5.10\n",
      "----------------------------------------------------------------\n"
     ]
    },
    {
     "name": "stderr",
     "output_type": "stream",
     "text": [
      "c:\\Users\\user\\miniconda3\\envs\\gpu\\lib\\site-packages\\torch\\nn\\functional.py:1331: UserWarning: dropout2d: Received a 2-D input to dropout2d, which is deprecated and will result in an error in a future release. To retain the behavior and silence this warning, please use dropout instead. Note that dropout2d exists to provide channel-wise dropout on inputs with 2 spatial dimensions, a channel dimension, and an optional batch dimension (i.e. 3D or 4D inputs).\n",
      "  warnings.warn(warn_msg)\n"
     ]
    }
   ],
   "source": [
    "import torchsummary\n",
    "torchsummary.summary(model, (1,28,28))\n",
    "# flatten 전의 output 구성 확인 "
   ]
  },
  {
   "cell_type": "code",
   "execution_count": 14,
   "metadata": {},
   "outputs": [
    {
     "name": "stdout",
     "output_type": "stream",
     "text": [
      "Train Step: 1000\tLoss: 0.254\n",
      "Train Step: 2000\tLoss: 0.270\n",
      "Train Step: 3000\tLoss: 0.205\n",
      "Train Step: 4000\tLoss: 0.135\n",
      "Train Step: 5000\tLoss: 0.139\n",
      "Train Step: 6000\tLoss: 0.312\n",
      "Train Step: 7000\tLoss: 0.037\n",
      "Train Step: 8000\tLoss: 0.013\n",
      "Train Step: 9000\tLoss: 0.038\n",
      "Train Step: 10000\tLoss: 0.015\n",
      "Train Step: 11000\tLoss: 0.055\n",
      "Train Step: 12000\tLoss: 0.014\n",
      "Train Step: 13000\tLoss: 0.088\n",
      "Train Step: 14000\tLoss: 0.016\n",
      "Train Step: 15000\tLoss: 0.020\n",
      "Train Step: 16000\tLoss: 0.036\n",
      "Train Step: 17000\tLoss: 0.022\n",
      "Train Step: 18000\tLoss: 0.024\n"
     ]
    }
   ],
   "source": [
    "#### -- 3-4. 모델 학습하기 -- ###\n",
    "model.train()\n",
    "i = 1\n",
    "for epoch in range(epoch_num):\n",
    "    cost=0\n",
    "    \n",
    "    for data, target in train_loader:\n",
    "        data = data.to(device) # data를 device에 넘김\n",
    "        target = target.to(device)\n",
    "        optimizer.zero_grad() # 경사하강\n",
    "        output = model(data)\n",
    "        loss = criterion(output, target) # 오차 계산\n",
    "        loss.backward() # 오차 역전파\n",
    "        optimizer.step() # optimizer를 오차 역전파에 의해 step별로 진행\n",
    "        if i % 1000 == 0: # 1000번에 1번, batchsize만큼 도는데 1000번에 1번씩 print함, earlystopping과 같은 조건도 넣어줄 수 있음\n",
    "            # i : batch 1개, 전체 batch 1200개\n",
    "            # i % 1200이면 epoch 한번당 결과 반환과 같음\n",
    "            print('Train Step: {}\\tLoss: {:.3f}'.format(i, loss.item()))\n",
    "        i += 1"
   ]
  },
  {
   "cell_type": "code",
   "execution_count": 15,
   "metadata": {},
   "outputs": [
    {
     "name": "stdout",
     "output_type": "stream",
     "text": [
      "Test set: Accuracy: 99.10%\n"
     ]
    }
   ],
   "source": [
    "#### -- 4. 모델 평가하기 -- ###\n",
    "model.eval()\n",
    "correct = 0\n",
    "for data, target in test_loader:\n",
    "#     data, target = Variable(data, volatile=True), Variable(target)\n",
    "    data = data.to(device)\n",
    "    target = target.to(device)\n",
    "    output = model(data)\n",
    "    prediction = output.data.max(1)[1]\n",
    "    correct += prediction.eq(target.data).sum()\n",
    "\n",
    "print('Test set: Accuracy: {:.2f}%'.format(100. * correct / len(test_loader.dataset)))"
   ]
  },
  {
   "cell_type": "code",
   "execution_count": 16,
   "metadata": {},
   "outputs": [
    {
     "name": "stdout",
     "output_type": "stream",
     "text": [
      "epoch : 0 | loss : 0.039860\n",
      "Accuracy : 98.26\n",
      "------\n",
      "epoch : 1 | loss : 0.040241\n",
      "Accuracy : 98.27\n",
      "------\n",
      "epoch : 2 | loss : 0.036462\n",
      "Accuracy : 98.39\n",
      "------\n",
      "epoch : 3 | loss : 0.034213\n",
      "Accuracy : 98.37\n",
      "------\n",
      "epoch : 4 | loss : 0.032856\n",
      "Accuracy : 98.23\n",
      "------\n",
      "epoch : 5 | loss : 0.031157\n",
      "Accuracy : 98.23\n",
      "------\n",
      "epoch : 6 | loss : 0.030109\n",
      "Accuracy : 98.14\n",
      "------\n",
      "epoch : 7 | loss : 0.028531\n",
      "Accuracy : 98.44\n",
      "------\n",
      "epoch : 8 | loss : 0.028438\n",
      "Accuracy : 98.41\n",
      "------\n",
      "epoch : 9 | loss : 0.026636\n",
      "Accuracy : 98.61\n",
      "------\n",
      "epoch : 10 | loss : 0.024589\n",
      "Accuracy : 98.59\n",
      "------\n",
      "epoch : 11 | loss : 0.024195\n",
      "Accuracy : 98.53\n",
      "------\n",
      "epoch : 12 | loss : 0.024233\n",
      "Accuracy : 98.49\n",
      "------\n",
      "epoch : 13 | loss : 0.022614\n",
      "Accuracy : 98.46\n",
      "------\n",
      "epoch : 14 | loss : 0.023398\n",
      "Accuracy : 98.38\n",
      "------\n"
     ]
    }
   ],
   "source": [
    "loss_list = []\n",
    "accuracy_list = []\n",
    "epoch_list = []\n",
    "total_batch=len(train_loader)\n",
    "\n",
    "model.train()\n",
    "\n",
    "##################################### test에 대한 loss, accuracy 구하는 부분 추가하기\n",
    "##################################### 오차검증표, early stopping 확인 필요\n",
    "\n",
    "for epoch in range(epoch_num):\n",
    "    cost=0\n",
    "    \n",
    "    for data, target in train_loader:\n",
    "        data = data.to(device) # data를 device에 넘김\n",
    "        target = target.to(device)\n",
    "        optimizer.zero_grad() # 경사하강\n",
    "        output = model(data)\n",
    "        loss = criterion(output, target) # 오차 계산\n",
    "        loss.backward() # 오차 역전파\n",
    "        optimizer.step()\n",
    "        \n",
    "        cost += loss\n",
    "    \n",
    "    with torch.no_grad(): #미분하지 않겠다는 것\n",
    "        total = 0\n",
    "        correct=0\n",
    "        for data, target in test_loader:\n",
    "        #     data, target = Variable(data, volatile=True), Variable(target)\n",
    "            data = data.to(device)\n",
    "            target = target.to(device)\n",
    "            output = model(data) # 이 밑부터 다른 구문을 사용해도 됨\n",
    "            prediction = output.data.max(1)[1]\n",
    "\n",
    "            total += target.size(0)\n",
    "            correct += prediction.eq(target.data).sum()\n",
    "\n",
    "    avg_cost = cost / total_batch\n",
    "    accuracy = 100*correct/total\n",
    "    \n",
    "    # loss_list.append(avg_cost.detach().numpy())\n",
    "    loss_list.append(avg_cost.item())\n",
    "    accuracy_list.append(accuracy.item())\n",
    "    epoch_list.append(epoch)\n",
    "    \n",
    "    print(\"epoch : {} | loss : {:.6f}\" .format(epoch, avg_cost))\n",
    "    print(\"Accuracy : {:.2f}\".format(100*correct/total))\n",
    "    print(\"------\")"
   ]
  },
  {
   "cell_type": "code",
   "execution_count": 17,
   "metadata": {},
   "outputs": [
    {
     "data": {
      "image/png": "[encoded data removed]",
      "text/plain": [
       "<Figure size 1000x500 with 2 Axes>"
      ]
     },
     "metadata": {},
     "output_type": "display_data"
    }
   ],
   "source": [
    "plt.figure(figsize=(10,5))\n",
    "plt.subplot(1,2,1)\n",
    "plt.xlabel('Epoch')\n",
    "plt.ylabel('Loss')\n",
    "plt.plot(epoch_list,loss_list)\n",
    "plt.subplot(1,2,2)\n",
    "plt.xlabel('Epoch')\n",
    "plt.ylabel('Accuracy')\n",
    "plt.plot(epoch_list, accuracy_list)\n",
    "plt.show()"
   ]
  },
  {
   "cell_type": "code",
   "execution_count": 32,
   "metadata": {},
   "outputs": [
    {
     "data": {
      "image/png": "[encoded data removed]",
      "text/plain": [
       "<Figure size 640x480 with 1 Axes>"
      ]
     },
     "metadata": {},
     "output_type": "display_data"
    },
    {
     "data": {
      "text/plain": [
       "tensor([5], device='cuda:0')"
      ]
     },
     "execution_count": 32,
     "metadata": {},
     "output_type": "execute_result"
    }
   ],
   "source": [
    "### 새로운 이미지 넣고 값확인\n",
    "\n",
    "import cv2\n",
    "import numpy as np\n",
    "\n",
    "\n",
    "img=cv2.imread('c:/data/mnist_5.jpg', cv2.IMREAD_GRAYSCALE)\n",
    "#print(img.shape)\n",
    "#img = cv2.cvtColor(img, cv2.COLOR_BGR2RGB)\n",
    "img=cv2.resize(img, (28,28))\n",
    "\n",
    "# if img[0][0]==255:\n",
    "img=255-img  # 배경반전 (흰색 배경인 경우)\n",
    "img=img/255. # 정규화\n",
    "#print(img.shape)\n",
    "plt.imshow(img, cmap='gray')\n",
    "plt.show()\n",
    "img=np.reshape(img,(1,1,28,28))\n",
    "data = torch.Tensor(img)\n",
    "data=data.to(device)\n",
    "prediction=model(data)\n",
    "result=torch.max(prediction,1)\n",
    "result[1]"
   ]
  },
  {
   "cell_type": "code",
   "execution_count": 27,
   "metadata": {},
   "outputs": [
    {
     "data": {
      "text/plain": [
       "254"
      ]
     },
     "execution_count": 27,
     "metadata": {},
     "output_type": "execute_result"
    }
   ],
   "source": [
    "img=cv2.imread('c:/data/mnist_5.jpg', cv2.IMREAD_GRAYSCALE)\n",
    "img=cv2.resize(img, (28,28))\n",
    "img[0][0]  # 흰색인지 검은색인지 확인"
   ]
  },
  {
   "cell_type": "code",
   "execution_count": null,
   "metadata": {},
   "outputs": [],
   "source": [
    "# first_batch = test_loader.__iter__().__next__()\n",
    "# label=first_batch[1]\n",
    "# label,prediction[0]\n",
    "\n",
    "# prediction[0] : 첫 번째 에포크의 50개 데이터의 예측값\n",
    "# prediction[1] : 첫 번째 에포크의 51~100개의 데이터의 예측값\n",
    "# prediction[200] : 두번째 에포크의 50개의 데이터의 예측값"
   ]
  },
  {
   "cell_type": "code",
   "execution_count": 39,
   "metadata": {},
   "outputs": [
    {
     "data": {
      "text/plain": [
       "[array([3, 4, 5, 2, 3, 4, 1, 2, 3]),\n",
       " array([3, 4, 5, 2, 3, 4, 1, 2, 3]),\n",
       " array([3, 4, 5, 2, 3, 4, 1, 2, 3]),\n",
       " array([3, 4, 5, 2, 3, 4, 1, 2, 3]),\n",
       " array([3, 4, 5, 2, 3, 4, 1, 2, 3])]"
      ]
     },
     "execution_count": 39,
     "metadata": {},
     "output_type": "execute_result"
    }
   ],
   "source": [
    "import numpy as np\n",
    "result=[]\n",
    "\n",
    "for x in range(5):\n",
    "    a=[]    \n",
    "    a.append([3,4,5])\n",
    "    a.append([2,3,4])\n",
    "    a.append([1,2,3])\n",
    "    tmp=np.reshape(a,(-1)) # 모든 데이터를 하나로 묶음\n",
    "    result.append(tmp)\n",
    "result"
   ]
  },
  {
   "cell_type": "code",
   "execution_count": 47,
   "metadata": {},
   "outputs": [
    {
     "data": {
      "text/plain": [
       "[[1, 2], [1, 2]]"
      ]
     },
     "execution_count": 47,
     "metadata": {},
     "output_type": "execute_result"
    }
   ],
   "source": [
    "a=[]\n",
    "a.append([])\n",
    "a[-1].append(1)\n",
    "a[-1].append(2)\n",
    "\n",
    "a.append([])\n",
    "a[-1].append(1)\n",
    "a[-1].append(2)\n",
    "a"
   ]
  },
  {
   "cell_type": "code",
   "execution_count": null,
   "metadata": {},
   "outputs": [],
   "source": []
  },
  {
   "cell_type": "code",
   "execution_count": 18,
   "metadata": {},
   "outputs": [
    {
     "data": {
      "text/plain": [
       "tensor(9838, device='cuda:0')"
      ]
     },
     "execution_count": 18,
     "metadata": {},
     "output_type": "execute_result"
    }
   ],
   "source": [
    "correct"
   ]
  },
  {
   "cell_type": "code",
   "execution_count": 19,
   "metadata": {},
   "outputs": [
    {
     "data": {
      "text/plain": [
       "tensor([True, True, True, True, True, True, True, True, True, True, True, True,\n",
       "        True, True, True, True, True, True, True, True, True, True, True, True,\n",
       "        True, True, True, True, True, True, True, True, True, True, True, True,\n",
       "        True, True, True, True, True, True, True, True, True, True, True, True,\n",
       "        True, True], device='cuda:0')"
      ]
     },
     "execution_count": 19,
     "metadata": {},
     "output_type": "execute_result"
    }
   ],
   "source": [
    "prediction.eq(target.data)"
   ]
  }
 ],
 "metadata": {
  "kernelspec": {
   "display_name": "gpu",
   "language": "python",
   "name": "python3"
  },
  "language_info": {
   "codemirror_mode": {
    "name": "ipython",
    "version": 3
   },
   "file_extension": ".py",
   "mimetype": "text/x-python",
   "name": "python",
   "nbconvert_exporter": "python",
   "pygments_lexer": "ipython3",
   "version": "3.9.16"
  },
  "orig_nbformat": 4
 },
 "nbformat": 4,
 "nbformat_minor": 2
}

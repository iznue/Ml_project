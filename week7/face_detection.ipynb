{
 "cells": [
  {
   "cell_type": "markdown",
   "metadata": {},
   "source": [
    "### OpenCV  얼굴인식"
   ]
  },
  {
   "cell_type": "code",
   "execution_count": 38,
   "metadata": {},
   "outputs": [],
   "source": [
    "import cv2\n",
    "from glob import glob\n",
    "face_cascade = cv2.CascadeClassifier(cv2.data.haarcascades + 'haarcascade_frontalface_default.xml')\n",
    "# 정면인식하는 코드\n",
    "# XML 자료를 분류기에 넣음"
   ]
  },
  {
   "cell_type": "code",
   "execution_count": 55,
   "metadata": {},
   "outputs": [
    {
     "data": {
      "text/plain": [
       "array([[453, 102,  57,  57],\n",
       "       [272, 180,  51,  51],\n",
       "       [573, 121,  61,  61],\n",
       "       [364, 122,  55,  55],\n",
       "       [129, 157,  56,  56]])"
      ]
     },
     "execution_count": 55,
     "metadata": {},
     "output_type": "execute_result"
    }
   ],
   "source": [
    "# img = cv2.imread('c:/Users/user/Desktop/mtvs/week7/test_img.jpg')\n",
    "img = cv2.imread('c:/Users/user/Desktop/mtvs/week7/open_cv_1.jpg')\n",
    "\n",
    "### 얼굴인식 모델 실행하기\n",
    "faces = face_cascade.detectMultiScale(img, 1.03, 5)  #1.3\n",
    "faces   # 출력되는 값은 얼굴인식한 위치값에 대한 정보임"
   ]
  },
  {
   "cell_type": "code",
   "execution_count": 16,
   "metadata": {},
   "outputs": [
    {
     "data": {
      "text/plain": [
       "array([452, 102,  58,  58])"
      ]
     },
     "execution_count": 16,
     "metadata": {},
     "output_type": "execute_result"
    }
   ],
   "source": [
    "faces[0]"
   ]
  },
  {
   "cell_type": "code",
   "execution_count": 56,
   "metadata": {},
   "outputs": [],
   "source": [
    "## faces에서 검출된 3개의 이미지의 시작하는x,y값과 그 위치에서 우측으로 w, 아래로 h 확장된 값만큼을 받아서 그리는 코드임\n",
    "# 오픈CV는 RGB가 아니라 BGR로 들어옴 (255,0,0)은 블루임\n",
    "\n",
    "cnt=0\n",
    "font =  cv2.FONT_HERSHEY_PLAIN\n",
    "blue = (255, 0, 0)\n",
    "\n",
    "for x,y,w,h in faces:\n",
    "    # x,y 시작위치에서 x+w, y+h 위치에 파란색, 두께 2짜리 사각박스그리기\n",
    "    cv2.rectangle(img, (x, y), (x + w, y + h), (255, 0, 0), 2)\n",
    "    cv2.putText(img, str(cnt), (x+w//2, y-h//2), font, 2, blue, 1, cv2.LINE_AA)\n",
    "    cnt+=1\n",
    "\n",
    "cv2.imshow(\"test\", img)   #  cv2.imshow('캡션명 사용자 마음임',출력할 이미지 변수명)\n",
    "cv2.waitKey()\n",
    "cv2.destroyAllWindows()"
   ]
  },
  {
   "cell_type": "code",
   "execution_count": 57,
   "metadata": {},
   "outputs": [],
   "source": [
    "## 기존에 그려진 사각박스가 있어서 이미지를 다시 부름, \n",
    "## 얼굴인식하는 모델에 넣기위해서 박스값을 변경함\n",
    "## cv2.putText 을 이용하여서 박스위에 'face' 라는 글자를 입력함   / 구글검색 'cv2.putText'\n",
    "## 'face' 가 아닌 한글로 출력하고자 한다면 구글검색 '오픈cv 한글'\n",
    "\n",
    "img = cv2.imread('c:/Users/user/Desktop/mtvs/week7/open_cv_1.jpg')  # cv2는 기본으로 array로 들어옴\n",
    "\n",
    "\n",
    "for x,y,w,h in faces:\n",
    "    cv2.rectangle(img, (x-20, y-20), (x + w+20, y + h+20), (255, 0, 0), 2)  # 학습한 이미지에 맞게 영역을 더 넓혀줌\n",
    "    cv2.putText(img, \"face\" , (x,y-30), cv2.FONT_HERSHEY_SIMPLEX, 1, (255,0,0), 2)\n",
    "    \n",
    "cv2.imshow(\"test\", img)   #  cv2.imshow('캡션명 사용자 마음임',출력할 이미지 변수명)\n",
    "cv2.waitKey()\n",
    "cv2.destroyAllWindows()"
   ]
  },
  {
   "cell_type": "code",
   "execution_count": 58,
   "metadata": {},
   "outputs": [
    {
     "name": "stdout",
     "output_type": "stream",
     "text": [
      "현재작업폴더의 faceimage폴더안에 사각영역이 파일로 저장되었음\n"
     ]
    }
   ],
   "source": [
    "### 얼굴이미지만 별도로 저장하고자 한다면\n",
    "img = cv2.imread('c:/Users/user/Desktop/mtvs/week7/open_cv_1.jpg')  # cv2는 기본으로 array로 들어옴\n",
    "cnt=0\n",
    "\n",
    "for x,y,w,h in faces:\n",
    "    # cv2.rectangle(img, (x-20, y-20), (x + w+20, y + h+20), (255, 0, 0), 2)  \n",
    "    # cv2.putText(img, \"face\" , (x,y-30), cv2.FONT_HERSHEY_SIMPLEX, 1, (255,0,0), 2)\n",
    "    \n",
    "    cnt=cnt+1\n",
    "    사각영역array = img[y-20:y + h+20, x-20:x + w+20]   # array로 되어 있는 자료만 별도로 저장하기 위해서 행렬 자료로 작업함\n",
    "    fileName='c:/Users/user/Desktop/mtvs/week7/face/' + str(cnt) + 'face.jpg'  #cnt는 순서번호를 붙이기 위해서임\n",
    "    cv2.imwrite(fileName,사각영역array)\n",
    "    \n",
    "    \n",
    "print('현재작업폴더의 faceimage폴더안에 사각영역이 파일로 저장되었음')"
   ]
  },
  {
   "cell_type": "markdown",
   "metadata": {},
   "source": [
    "### 성별 모델에 넣어서 여자 남자 분류하기"
   ]
  },
  {
   "cell_type": "code",
   "execution_count": 70,
   "metadata": {},
   "outputs": [
    {
     "name": "stdout",
     "output_type": "stream",
     "text": [
      "WARNING:tensorflow:No training configuration found in the save file, so the model was *not* compiled. Compile it manually.\n"
     ]
    }
   ],
   "source": [
    "# 여자0, 남자 1로 성별 구별하는 모델 (티처블머신러닝에서 작업함)\n",
    "from keras.models import load_model\n",
    "model = load_model('c:/Users/user/Desktop/mtvs/week7/keras_model.h5')  "
   ]
  },
  {
   "cell_type": "code",
   "execution_count": 71,
   "metadata": {},
   "outputs": [],
   "source": [
    "import cv2\n",
    "import numpy as np\n",
    "class_name=['Female','Male']     \n",
    "face_cascade = cv2.CascadeClassifier(cv2.data.haarcascades + 'haarcascade_frontalface_default.xml')\n",
    "\n",
    "# 이미지 불러오기\n",
    "img = cv2.imread('c:/Users/user/Desktop/mtvs/week7/open_cv_1.jpg')\n",
    "\n",
    "# 얼굴 찾기\n",
    "faces = face_cascade.detectMultiScale(img, 1.3, 5)\n",
    "\n",
    "cnt=0\n",
    "for (x, y, w, h) in faces:\n",
    "    cv2.rectangle(img, (x-20, y-20), (x + w+20, y + h+20), (255, 0, 0), 2)\n",
    "    사각영역array = img[y-20:y + h+20, x-20:x + w+20]\n",
    "    \n",
    "    ### 모델에 넣기 위한 작업\n",
    "    resize_img = cv2.resize(사각영역array, (224, 224))\n",
    "    imgArr=(resize_img/127.0)-1   # 티처블 코드에 있었음\n",
    "    prediction=imgArr.reshape(1,224,224,3) # 인공지능은  array 를 하나 확장한 tensor로 해야함. (224,224,3)을 1,224,224,3 으로 확장함\n",
    "    pred=model.predict(prediction)\n",
    "    argmaxNumber=np.argmax(pred)   # 출력결과가 0이면 0번째 위치값이 predict 출력값중에 0번째 위치값이 가장 크다는 뜻\n",
    "    printTxt=class_name[argmaxNumber]\n",
    "    cv2.putText(img, printTxt , (x-10,y-30), cv2.FONT_HERSHEY_SIMPLEX, 1, (255,0,0), 2)\n",
    "\n",
    "\n",
    "cv2.imshow(\"test\", img)   #  cv2.imshow('캡션명 사용자 마음임',출력할 이미지 변수명)\n",
    "cv2.waitKey()\n",
    "cv2.destroyAllWindows()"
   ]
  },
  {
   "cell_type": "code",
   "execution_count": 75,
   "metadata": {},
   "outputs": [
    {
     "name": "stdout",
     "output_type": "stream",
     "text": [
      "Male\n",
      "Male\n",
      "Male\n",
      "Male\n",
      "Male\n"
     ]
    }
   ],
   "source": [
    "import os\n",
    "import shutil\n",
    "from PIL import Image\n",
    "\n",
    "base='c:/Users/user/Desktop/mtvs/week7/face/*.jpg'\n",
    "fileList=glob(base)\n",
    "\n",
    "def createFolder(directory):\n",
    "    try:\n",
    "        if not os.path.exists(directory):\n",
    "            os.makedirs(directory)\n",
    "    except OSError:\n",
    "        print('error:creating_directory'+ directory)\n",
    "\n",
    "\n",
    "for file in fileList:\n",
    "    img=cv2.imread(file).resize((224,224))\n",
    "    imgArr=(resize_img/127.0)-1   # 티처블 코드에 있었음\n",
    "    prediction=imgArr.reshape(1,224,224,3)\n",
    "\n",
    "    pred=model.predict(prediction)\n",
    "    argmaxNumber=np.argmax(pred)\n",
    "    printTxt=class_name[argmaxNumber]\n",
    "\n",
    "    print(printTxt)\n",
    "    #################### 예측된 값에 의해 이미지를 예측 폴더로 이동\n",
    "    # ex) dog으로 예측되면 dog 폴더를 만들고 (이미 있으면 pass)\n",
    "    # dog 폴더로 이미지 이동\n",
    "    # 각 폴더의 자료 갯수를 확인하여 dataframe 제작 (폴더명, 파일 갯수) dog 5, cat 13 \n",
    "    # 차트 그리기 \n",
    "    \n",
    "\n",
    "    # createFolder('d:/vgg/'+pred)\n",
    "    # shutil.move(file, 'd:/vgg/'+pred)"
   ]
  },
  {
   "cell_type": "code",
   "execution_count": null,
   "metadata": {},
   "outputs": [],
   "source": []
  },
  {
   "cell_type": "code",
   "execution_count": null,
   "metadata": {},
   "outputs": [],
   "source": []
  }
 ],
 "metadata": {
  "kernelspec": {
   "display_name": "gpu",
   "language": "python",
   "name": "python3"
  },
  "language_info": {
   "codemirror_mode": {
    "name": "ipython",
    "version": 3
   },
   "file_extension": ".py",
   "mimetype": "text/x-python",
   "name": "python",
   "nbconvert_exporter": "python",
   "pygments_lexer": "ipython3",
   "version": "3.9.16"
  },
  "orig_nbformat": 4
 },
 "nbformat": 4,
 "nbformat_minor": 2
}

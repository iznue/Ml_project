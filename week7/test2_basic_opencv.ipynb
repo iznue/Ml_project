{
 "cells": [
  {
   "cell_type": "code",
   "execution_count": 1,
   "id": "6a4d5e98",
   "metadata": {},
   "outputs": [],
   "source": [
    "####################################################\n",
    "# 1. 사각형 그리기\n",
    "####################################################\n",
    "\n",
    "import cv2\n",
    "\n",
    "# Lists to store the bounding box coordinates\n",
    "\n",
    "top_left_corner = []\n",
    "bottom_right_corner = []\n",
    "\n",
    "# function which will be called on mouse input\n",
    "\n",
    "\n",
    "def drawRectangle(action, x, y, flags, parms):\n",
    "    # Referencing global variables\n",
    "    global top_left_corner, bottom_right_corner\n",
    "    # Mark the top left corner when left mouse button is pressed\n",
    "    if action == cv2.EVENT_LBUTTONDOWN:\n",
    "        top_left_corner = [(x, y)]\n",
    "    # When left mouse button is released, mark bottom right corner\n",
    "    elif action == cv2.EVENT_LBUTTONUP:\n",
    "        bottom_right_corner = [(x, y)]\n",
    "        # Draw the rectangle\n",
    "        cv2.rectangle(image, top_left_corner[0], bottom_right_corner[0], (0, 255, 0),5)\n",
    "        cv2.imshow(\"Window\", image)\n",
    "\n",
    "# Read Images\n",
    "image = cv2.imread(\"c:/data/img/opencv_test_img/img01.jpg\")\n",
    "# Make a temporary image, will be useful to clear the drawing\n",
    "\n",
    "temp = image.copy()\n",
    "# Create a named window\n",
    "cv2.namedWindow(\"Window\")\n",
    "# highgui function called when mouse events occur\n",
    "cv2.setMouseCallback(\"Window\", drawRectangle)\n",
    "\n",
    "k = 0\n",
    "# Close the window when key q is pressed\n",
    "while k != 113:\n",
    "# Display the image\n",
    "    cv2.imshow(\"Window\", image)\n",
    "    k = cv2.waitKey(0)\n",
    "    # If c is pressed, clear the window, using the dummy image\n",
    "    if (k == 99):\n",
    "        image = temp.copy()\n",
    "        cv2.imshow(\"Window\", image)\n",
    "\n",
    "cv2.destroyAllWindows()"
   ]
  },
  {
   "cell_type": "markdown",
   "id": "edd565ea",
   "metadata": {},
   "source": [
    "##### 영역지정 position print"
   ]
  },
  {
   "cell_type": "code",
   "execution_count": 1,
   "id": "abbef565",
   "metadata": {},
   "outputs": [
    {
     "name": "stdout",
     "output_type": "stream",
     "text": [
      "[[(274, 148), (450, 298)], [(413, 95), (596, -17)], [(568, 357), (739, 498)]]\n",
      "          top      bottom\n",
      "0  (274, 148)  (450, 298)\n",
      "1   (413, 95)  (596, -17)\n",
      "2  (568, 357)  (739, 498)\n"
     ]
    }
   ],
   "source": [
    "import cv2\n",
    "import pandas as pd\n",
    "from glob import glob\n",
    "\n",
    "top_left_corner, bottom_right_corner=[],[]\n",
    "xy=[]\n",
    "\n",
    "def drawR(event, x, y, flags, params):\n",
    "    global top_left_corner, bottom_right_corner\n",
    "\n",
    "    if event == cv2.EVENT_LBUTTONDOWN:\n",
    "        top_left_corner=[(x,y)]\n",
    "    elif event == cv2.EVENT_LBUTTONUP:\n",
    "        bottom_right_corner=[(x,y)]\n",
    "\n",
    "        xy.append([top_left_corner[0], bottom_right_corner[0]])\n",
    "\n",
    "        cv2.rectangle(img, top_left_corner[0], bottom_right_corner[0], (255,0,0), 5)\n",
    "        cv2.imshow('my', img)\n",
    "        # print(xy)\n",
    "        \n",
    "        start=top_left_corner[0]\n",
    "        end=bottom_right_corner[0]\n",
    "\n",
    "        roi=img[start[1]:end[1], start[0]:end[0]]\n",
    "        # roi=img[start[1]-20:end[1]+20, start[0]-20:end[0]+20]\n",
    "        # target=str(start[0]+'_'+end[0])\n",
    "        # cv2.imwrite('c:/data/img/saveimg'+'/'+target+'.png', roi)\n",
    "\n",
    "        num=len(glob('./saveimg/*'))\n",
    "        cv2.imwrite('./saveimg/img_'+str(num)+'.png', roi)\n",
    "\n",
    "\n",
    "img=cv2.imread('c:/data/img/opencv_test_img/img01.jpg')\n",
    "cv2.namedWindow('my')\n",
    "cv2.setMouseCallback('my', drawR)\n",
    "\n",
    "k=0\n",
    "\n",
    "while k != 113:\n",
    "    cv2.imshow('my',img)\n",
    "    key = cv2.waitKey(0) & 0xFF # 키보드 입력 대기, 8비트 마스크 처리\n",
    "    if key == ord('q'):\n",
    "        print(xy)\n",
    "        df=pd.DataFrame(xy, columns=['top', 'bottom'])\n",
    "        print(df)\n",
    "        df.to_csv('roi')"
   ]
  },
  {
   "cell_type": "code",
   "execution_count": null,
   "id": "2ac1dfff",
   "metadata": {},
   "outputs": [],
   "source": []
  },
  {
   "cell_type": "code",
   "execution_count": null,
   "id": "89567e6f",
   "metadata": {},
   "outputs": [],
   "source": []
  },
  {
   "cell_type": "code",
   "execution_count": null,
   "id": "129ef813",
   "metadata": {},
   "outputs": [],
   "source": []
  },
  {
   "cell_type": "code",
   "execution_count": null,
   "id": "32307cac",
   "metadata": {},
   "outputs": [],
   "source": []
  },
  {
   "cell_type": "markdown",
   "id": "974663c0",
   "metadata": {},
   "source": [
    "##### 영역지정 후 필터 적용하기"
   ]
  },
  {
   "cell_type": "code",
   "execution_count": null,
   "id": "d59b9fb9",
   "metadata": {},
   "outputs": [],
   "source": []
  }
 ],
 "metadata": {
  "kernelspec": {
   "display_name": "Python 3 (ipykernel)",
   "language": "python",
   "name": "python3"
  },
  "language_info": {
   "codemirror_mode": {
    "name": "ipython",
    "version": 3
   },
   "file_extension": ".py",
   "mimetype": "text/x-python",
   "name": "python",
   "nbconvert_exporter": "python",
   "pygments_lexer": "ipython3",
   "version": "3.9.16"
  }
 },
 "nbformat": 4,
 "nbformat_minor": 5
}

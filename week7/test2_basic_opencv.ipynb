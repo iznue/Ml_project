{
 "cells": [
  {
   "cell_type": "code",
   "execution_count": 1,
   "id": "6a4d5e98",
   "metadata": {},
   "outputs": [
    {
     "ename": "UnboundLocalError",
     "evalue": "local variable 'image' referenced before assignment",
     "output_type": "error",
     "traceback": [
      "\u001b[1;31m---------------------------------------------------------------------------\u001b[0m",
      "\u001b[1;31mUnboundLocalError\u001b[0m                         Traceback (most recent call last)",
      "Cell \u001b[1;32mIn[1], line 25\u001b[0m, in \u001b[0;36mdrawRectangle\u001b[1;34m(action, x, y, flags, parms)\u001b[0m\n\u001b[0;32m     23\u001b[0m     bottom_right_corner \u001b[39m=\u001b[39m [(x, y)]\n\u001b[0;32m     24\u001b[0m     \u001b[39m# Draw the rectangle\u001b[39;00m\n\u001b[1;32m---> 25\u001b[0m     cv2\u001b[39m.\u001b[39mrectangle(image, top_left_corner[\u001b[39m0\u001b[39m], bottom_right_corner[\u001b[39m0\u001b[39m], (\u001b[39m0\u001b[39m, \u001b[39m255\u001b[39m, \u001b[39m0\u001b[39m),\u001b[39m5\u001b[39m)\n\u001b[0;32m     26\u001b[0m     cv2\u001b[39m.\u001b[39mimshow(\u001b[39m\"\u001b[39m\u001b[39mWindow\u001b[39m\u001b[39m\"\u001b[39m, image)\n\u001b[0;32m     28\u001b[0m \u001b[39melif\u001b[39;00m action\u001b[39m==\u001b[39mcv2\u001b[39m.\u001b[39mEVENT_FLAG_RBUTTON:\n",
      "\u001b[1;31mUnboundLocalError\u001b[0m: local variable 'image' referenced before assignment"
     ]
    },
    {
     "ename": "UnboundLocalError",
     "evalue": "local variable 'image' referenced before assignment",
     "output_type": "error",
     "traceback": [
      "\u001b[1;31m---------------------------------------------------------------------------\u001b[0m",
      "\u001b[1;31mUnboundLocalError\u001b[0m                         Traceback (most recent call last)",
      "Cell \u001b[1;32mIn[1], line 25\u001b[0m, in \u001b[0;36mdrawRectangle\u001b[1;34m(action, x, y, flags, parms)\u001b[0m\n\u001b[0;32m     23\u001b[0m     bottom_right_corner \u001b[39m=\u001b[39m [(x, y)]\n\u001b[0;32m     24\u001b[0m     \u001b[39m# Draw the rectangle\u001b[39;00m\n\u001b[1;32m---> 25\u001b[0m     cv2\u001b[39m.\u001b[39mrectangle(image, top_left_corner[\u001b[39m0\u001b[39m], bottom_right_corner[\u001b[39m0\u001b[39m], (\u001b[39m0\u001b[39m, \u001b[39m255\u001b[39m, \u001b[39m0\u001b[39m),\u001b[39m5\u001b[39m)\n\u001b[0;32m     26\u001b[0m     cv2\u001b[39m.\u001b[39mimshow(\u001b[39m\"\u001b[39m\u001b[39mWindow\u001b[39m\u001b[39m\"\u001b[39m, image)\n\u001b[0;32m     28\u001b[0m \u001b[39melif\u001b[39;00m action\u001b[39m==\u001b[39mcv2\u001b[39m.\u001b[39mEVENT_FLAG_RBUTTON:\n",
      "\u001b[1;31mUnboundLocalError\u001b[0m: local variable 'image' referenced before assignment"
     ]
    }
   ],
   "source": [
    "####################################################\n",
    "# 1. 사각형 그리기\n",
    "####################################################\n",
    "\n",
    "import cv2\n",
    "\n",
    "# Lists to store the bounding box coordinates\n",
    "\n",
    "top_left_corner = []\n",
    "bottom_right_corner = []\n",
    "\n",
    "# function which will be called on mouse input\n",
    "\n",
    "\n",
    "def drawRectangle(action, x, y, flags, parms):\n",
    "    # Referencing global variables\n",
    "    global top_left_corner, bottom_right_corner\n",
    "    # Mark the top left corner when left mouse button is pressed\n",
    "    if action == cv2.EVENT_LBUTTONDOWN:\n",
    "        top_left_corner = [(x, y)]\n",
    "    # When left mouse button is released, mark bottom right corner\n",
    "    elif action == cv2.EVENT_LBUTTONUP:\n",
    "        bottom_right_corner = [(x, y)]\n",
    "        # Draw the rectangle\n",
    "        cv2.rectangle(image, top_left_corner[0], bottom_right_corner[0], (0, 255, 0),5)\n",
    "        cv2.imshow(\"Window\", image)\n",
    "\n",
    "# Read Images\n",
    "image = cv2.imread(\"c:/data/img/opencv_test_img/img01.jpg\")\n",
    "# Make a temporary image, will be useful to clear the drawing\n",
    "\n",
    "temp = image.copy()\n",
    "# Create a named window\n",
    "cv2.namedWindow(\"Window\")\n",
    "# highgui function called when mouse events occur\n",
    "cv2.setMouseCallback(\"Window\", drawRectangle)\n",
    "\n",
    "k = 0\n",
    "# Close the window when key q is pressed\n",
    "while k != 113:\n",
    "# Display the image\n",
    "    cv2.imshow(\"Window\", image)\n",
    "    k = cv2.waitKey(0)\n",
    "    # If c is pressed, clear the window, using the dummy image\n",
    "    if (k == 99):\n",
    "        image = temp.copy()\n",
    "        cv2.imshow(\"Window\", image)\n",
    "\n",
    "cv2.destroyAllWindows()"
   ]
  },
  {
   "cell_type": "markdown",
   "id": "edd565ea",
   "metadata": {},
   "source": [
    "##### 영역지정 position print"
   ]
  },
  {
   "cell_type": "code",
   "execution_count": 1,
   "id": "abbef565",
   "metadata": {},
   "outputs": [
    {
     "name": "stdout",
     "output_type": "stream",
     "text": [
      "[[(279, 151), (452, 293)], [(573, 370), (727, 491)], [(419, 71), (573, -3)]]\n",
      "          top      bottom\n",
      "0  (279, 151)  (452, 293)\n",
      "1  (573, 370)  (727, 491)\n",
      "2   (419, 71)   (573, -3)\n"
     ]
    }
   ],
   "source": [
    "import cv2\n",
    "import pandas as pd\n",
    "\n",
    "top_left_corner, bottom_right_corner=[],[]\n",
    "xy=[]\n",
    "\n",
    "def drawR(event, x, y, flags, params):\n",
    "    global top_left_corner, bottom_right_corner\n",
    "\n",
    "    if event == cv2.EVENT_LBUTTONDOWN:\n",
    "        top_left_corner=[(x,y)]\n",
    "    elif event == cv2.EVENT_LBUTTONUP:\n",
    "        bottom_right_corner=[(x,y)]\n",
    "\n",
    "        xy.append([top_left_corner[0], bottom_right_corner[0]])\n",
    "\n",
    "        cv2.rectangle(img, top_left_corner[0], bottom_right_corner[0], (255,0,0), 5)\n",
    "        cv2.imshow('my', img)\n",
    "        # print(xy)\n",
    "\n",
    "img=cv2.imread('c:/data/img/opencv_test_img/img01.jpg')\n",
    "cv2.namedWindow('my')\n",
    "cv2.setMouseCallback('my', drawR)\n",
    "\n",
    "k=0\n",
    "\n",
    "while k != 113:\n",
    "    cv2.imshow('my',img)\n",
    "    key = cv2.waitKey(0) & 0xFF # 키보드 입력 대기, 8비트 마스크 처리\n",
    "    if key == ord('q'):\n",
    "        print(xy)\n",
    "        df=pd.DataFrame(xy, columns=['top', 'bottom'])\n",
    "        print(df)\n",
    "        df.to_csv('roi')"
   ]
  },
  {
   "cell_type": "code",
   "execution_count": null,
   "id": "2ac1dfff",
   "metadata": {},
   "outputs": [],
   "source": []
  },
  {
   "cell_type": "code",
   "execution_count": null,
   "id": "89567e6f",
   "metadata": {},
   "outputs": [],
   "source": []
  },
  {
   "cell_type": "code",
   "execution_count": null,
   "id": "129ef813",
   "metadata": {},
   "outputs": [],
   "source": []
  },
  {
   "cell_type": "code",
   "execution_count": null,
   "id": "32307cac",
   "metadata": {},
   "outputs": [],
   "source": []
  },
  {
   "cell_type": "markdown",
   "id": "974663c0",
   "metadata": {},
   "source": [
    "##### 영역지정 후 필터 적용하기"
   ]
  },
  {
   "cell_type": "code",
   "execution_count": null,
   "id": "d59b9fb9",
   "metadata": {},
   "outputs": [],
   "source": []
  }
 ],
 "metadata": {
  "kernelspec": {
   "display_name": "Python 3 (ipykernel)",
   "language": "python",
   "name": "python3"
  },
  "language_info": {
   "codemirror_mode": {
    "name": "ipython",
    "version": 3
   },
   "file_extension": ".py",
   "mimetype": "text/x-python",
   "name": "python",
   "nbconvert_exporter": "python",
   "pygments_lexer": "ipython3",
   "version": "3.9.16"
  }
 },
 "nbformat": 4,
 "nbformat_minor": 5
}

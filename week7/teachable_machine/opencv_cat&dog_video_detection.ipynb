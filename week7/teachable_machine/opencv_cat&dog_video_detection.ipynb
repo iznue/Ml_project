{
 "cells": [
  {
   "cell_type": "markdown",
   "metadata": {},
   "source": [
    "##### Teachable Machine을 이용한 cat&dog detection"
   ]
  },
  {
   "cell_type": "markdown",
   "metadata": {},
   "source": [
    "##### Model Load"
   ]
  },
  {
   "cell_type": "code",
   "execution_count": 2,
   "metadata": {},
   "outputs": [
    {
     "name": "stdout",
     "output_type": "stream",
     "text": [
      "WARNING:tensorflow:No training configuration found in the save file, so the model was *not* compiled. Compile it manually.\n"
     ]
    }
   ],
   "source": [
    "import tensorflow as tf\n",
    "model=tf.keras.models.load_model('keras_model_cat_dog.h5')"
   ]
  },
  {
   "cell_type": "markdown",
   "metadata": {},
   "source": [
    "##### Video Load"
   ]
  },
  {
   "cell_type": "code",
   "execution_count": 3,
   "metadata": {},
   "outputs": [
    {
     "name": "stdout",
     "output_type": "stream",
     "text": [
      "length :  418\n",
      "width :  960\n",
      "height :  540\n",
      "fps :  25.0\n"
     ]
    }
   ],
   "source": [
    "import cv2\n",
    "cap = cv2.VideoCapture('cat&dog.mp4')\n",
    "if not cap.isOpened():\n",
    "  print(\"could not open :\", infilename)\n",
    "  exit(0)\n",
    " \n",
    "length = int(cap.get(cv2.CAP_PROP_FRAME_COUNT))   # 영상의 전체프레임수(한장한장사진의 전체갯수)\n",
    "width = int(cap.get(cv2.CAP_PROP_FRAME_WIDTH))    # 영상너비\n",
    "height = int(cap.get(cv2.CAP_PROP_FRAME_HEIGHT))  # 영상 높이\n",
    "fps = cap.get(cv2.CAP_PROP_FPS)                  # frame per second (초당 프레임수) 24개\n",
    " \n",
    "print('length : ', length)\n",
    "print('width : ', width)\n",
    "print('height : ', height)\n",
    "print('fps : ', fps)"
   ]
  },
  {
   "cell_type": "markdown",
   "metadata": {},
   "source": [
    "##### Apply keras_model_cat_dog.h5"
   ]
  },
  {
   "cell_type": "code",
   "execution_count": 4,
   "metadata": {},
   "outputs": [],
   "source": [
    "import numpy as np\n",
    "\n",
    "def model_dab(img):\n",
    "  re=img.reshape(1,224,224,3)     # 텐서에 넣기 위해서 맨앞 1을 확장함. (180,180,3)사진을\n",
    "  predict=model.predict(re)       # 모델을 예측함. softmax함수에 의해서 3가지 경우의 수의 확률값이 출력됨\n",
    "  predict_num=np.argmax(predict)       # 3개의 확률중 가장 큰 값을 갖고 있는 위치값을 갖고옴\n",
    "\n",
    "  class_name=['cat', 'dog']\n",
    "  return class_name[predict_num]"
   ]
  },
  {
   "cell_type": "code",
   "execution_count": 5,
   "metadata": {},
   "outputs": [],
   "source": [
    "# 캡처된 사진 저장용 폴더\n",
    "\n",
    "def save_folder(folder):\n",
    "  import os\n",
    "  import shutil\n",
    "\n",
    "  MODEL_DIR = './' + folder + '/'\n",
    "  # 폴더삭제(자료가 있어도 삭제함)\n",
    "  if os.path.exists(MODEL_DIR):\n",
    "      shutil.rmtree(MODEL_DIR)\n",
    "\n",
    "  # 새로 폴더만듦\n",
    "  os.mkdir(MODEL_DIR)"
   ]
  },
  {
   "cell_type": "code",
   "execution_count": 12,
   "metadata": {},
   "outputs": [],
   "source": [
    "# 모든 프레임 저장\n",
    "\n",
    "import matplotlib.pyplot as plt\n",
    "import cv2\n",
    "face=[]\n",
    "vidcap = cv2.VideoCapture('c:/Users/user/Desktop/mtvs/week7/teachable_machine/cat&dog.mp4')\n",
    "folderName='face_caputre_모든프레임'\n",
    "save_folder(folderName)\n",
    "\n",
    "count = 0\n",
    "\n",
    "while(vidcap.isOpened()):\n",
    "    try:\n",
    "      ret, image = vidcap.read()\n",
    "      img=cv2.rotate(image, cv2.cv2.ROTATE_90_CLOCKWISE)  # 원본영상이 회전되어 있는 영상이라 우측으로90도 회전함(상황에 따라 작업함)\n",
    "      resize_frame = cv2.resize(img, (180, 180))   #사이즈 조정 180,180으로\n",
    "      result=model_dab(resize_frame)  #모델에 넣어서 결과보기\n",
    "      fileName='./'+folderName +'/' +  result + '_' + str(count).zfill(3)+ '.jpg'\n",
    "      cv2.imwrite(fileName,resize_frame)\n",
    "      face.append(result)\n",
    "      count += 1\n",
    "      \n",
    "    except:\n",
    "      break\n",
    " \n",
    "vidcap.release()"
   ]
  },
  {
   "cell_type": "code",
   "execution_count": 13,
   "metadata": {},
   "outputs": [
    {
     "name": "stdout",
     "output_type": "stream",
     "text": [
      "0\n"
     ]
    }
   ],
   "source": [
    "import matplotlib.pyplot as plt\n",
    "import cv2\n",
    "face_second=[]\n",
    "vidcap = cv2.VideoCapture('cat&dog.mp4')\n",
    "folderName='face_caputre_초당1장'\n",
    "save_folder(folderName)\n",
    "\n",
    "count = 0\n",
    " \n",
    "while(vidcap.isOpened()):\n",
    "    try:\n",
    "      ret, image = vidcap.read()\n",
    "      # print(ret)\n",
    "      # print(image)\n",
    "      if count%25==0:\n",
    "        print(count)\n",
    "\n",
    "        # img=cv2.rotate(image, cv2.cv2.ROTATE_90_CLOCKWISE)  # 원본영상이 회전되어 있는 영상이라 우측으로90도 회전함(상황에 따라 작업함)\n",
    "        resize_frame = cv2.resize(image, (224, 224))   #사이즈 조정 180,180으로\n",
    "        result=model_dab(resize_frame)  #모델에 넣어서 결과보기\n",
    "        fileName='./' + result + '_' + str(count).zfill(3)+ '.jpg'\n",
    "        cv2.imwrite(fileName,resize_frame)\n",
    "        face_second.append(result)\n",
    "\n",
    "        count += 1\n",
    "        \n",
    "    except:\n",
    "      break\n",
    " \n",
    "vidcap.release()"
   ]
  },
  {
   "cell_type": "code",
   "execution_count": 6,
   "metadata": {},
   "outputs": [
    {
     "name": "stdout",
     "output_type": "stream",
     "text": [
      "0\n"
     ]
    }
   ],
   "source": [
    "import matplotlib.pyplot as plt\n",
    "import cv2\n",
    "face_second=[]\n",
    "vidcap = cv2.VideoCapture('cat&dog.mp4')\n",
    "folderName='face_caputre_초당1장'\n",
    "save_folder(folderName)\n",
    "\n",
    "count = 0\n",
    " \n",
    "while(vidcap.isOpened()):\n",
    "    ret, image = vidcap.read()\n",
    "      \n",
    "    if count%25==0:\n",
    "        print(count)\n",
    "\n",
    "        img=cv2.rotate(image, cv2.ROTATE_90_CLOCKWISE)  # 원본영상이 회전되어 있는 영상이라 우측으로90도 회전함(상황에 따라 작업함)\n",
    "        resize_frame = cv2.resize(img, (224, 224))   #사이즈 조정 180,180으로\n",
    "        result=model_dab(resize_frame)  #모델에 넣어서 결과보기\n",
    "        fileName='./' +  result + '_' + str(count).zfill(3)+ '.jpg'\n",
    "        cv2.imwrite(fileName,resize_frame)\n",
    "        face_second.append(result)\n",
    "\n",
    "        count += 1\n",
    "    else:\n",
    "        break\n",
    " \n",
    "vidcap.release()"
   ]
  }
 ],
 "metadata": {
  "kernelspec": {
   "display_name": "gpu",
   "language": "python",
   "name": "python3"
  },
  "language_info": {
   "codemirror_mode": {
    "name": "ipython",
    "version": 3
   },
   "file_extension": ".py",
   "mimetype": "text/x-python",
   "name": "python",
   "nbconvert_exporter": "python",
   "pygments_lexer": "ipython3",
   "version": "3.9.16"
  },
  "orig_nbformat": 4
 },
 "nbformat": 4,
 "nbformat_minor": 2
}

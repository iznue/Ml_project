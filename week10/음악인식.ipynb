{
 "cells": [
  {
   "cell_type": "markdown",
   "metadata": {},
   "source": [
    "### 음성 인식 테스트"
   ]
  },
  {
   "cell_type": "code",
   "execution_count": 1,
   "metadata": {},
   "outputs": [
    {
     "name": "stdout",
     "output_type": "stream",
     "text": [
      "Collecting SpeechRecognition\n",
      "  Downloading SpeechRecognition-3.10.0-py2.py3-none-any.whl (32.8 MB)\n",
      "     ---------------------------------------- 0.0/32.8 MB ? eta -:--:--\n",
      "     --------------------------------------- 0.0/32.8 MB 653.6 kB/s eta 0:00:51\n",
      "      --------------------------------------- 0.5/32.8 MB 5.4 MB/s eta 0:00:06\n",
      "     -- ------------------------------------- 1.8/32.8 MB 12.4 MB/s eta 0:00:03\n",
      "     -- ------------------------------------- 2.1/32.8 MB 14.7 MB/s eta 0:00:03\n",
      "     -- ------------------------------------- 2.1/32.8 MB 14.7 MB/s eta 0:00:03\n",
      "     --- ------------------------------------ 3.1/32.8 MB 11.8 MB/s eta 0:00:03\n",
      "     --- ------------------------------------ 3.1/32.8 MB 11.8 MB/s eta 0:00:03\n",
      "     --- ------------------------------------ 3.1/32.8 MB 11.8 MB/s eta 0:00:03\n",
      "     --- ------------------------------------ 3.1/32.8 MB 11.8 MB/s eta 0:00:03\n",
      "     ------ --------------------------------- 5.1/32.8 MB 11.2 MB/s eta 0:00:03\n",
      "     ----------- ---------------------------- 9.3/32.8 MB 18.5 MB/s eta 0:00:02\n",
      "     -------------- ------------------------ 12.5/32.8 MB 32.7 MB/s eta 0:00:01\n",
      "     --------------- ----------------------- 13.5/32.8 MB 59.5 MB/s eta 0:00:01\n",
      "     ---------------- ---------------------- 14.2/32.8 MB 50.1 MB/s eta 0:00:01\n",
      "     ----------------- --------------------- 14.7/32.8 MB 43.7 MB/s eta 0:00:01\n",
      "     ----------------- --------------------- 14.9/32.8 MB 36.4 MB/s eta 0:00:01\n",
      "     ------------------ -------------------- 15.2/32.8 MB 31.2 MB/s eta 0:00:01\n",
      "     ------------------ -------------------- 15.7/32.8 MB 27.3 MB/s eta 0:00:01\n",
      "     ------------------ -------------------- 15.9/32.8 MB 25.2 MB/s eta 0:00:01\n",
      "     ------------------- ------------------- 16.2/32.8 MB 21.9 MB/s eta 0:00:01\n",
      "     ------------------- ------------------- 16.5/32.8 MB 20.5 MB/s eta 0:00:01\n",
      "     -------------------- ------------------ 16.9/32.8 MB 19.2 MB/s eta 0:00:01\n",
      "     -------------------- ------------------ 17.2/32.8 MB 17.7 MB/s eta 0:00:01\n",
      "     -------------------- ------------------ 17.6/32.8 MB 16.4 MB/s eta 0:00:01\n",
      "     --------------------- ----------------- 18.2/32.8 MB 15.6 MB/s eta 0:00:01\n",
      "     ---------------------- ---------------- 18.9/32.8 MB 14.6 MB/s eta 0:00:01\n",
      "     ----------------------- --------------- 19.4/32.8 MB 13.4 MB/s eta 0:00:02\n",
      "     ------------------------ -------------- 20.4/32.8 MB 12.9 MB/s eta 0:00:01\n",
      "     ------------------------- ------------- 21.2/32.8 MB 12.6 MB/s eta 0:00:01\n",
      "     -------------------------- ------------ 21.9/32.8 MB 11.9 MB/s eta 0:00:01\n",
      "     --------------------------- ----------- 22.8/32.8 MB 11.7 MB/s eta 0:00:01\n",
      "     ---------------------------- ---------- 23.7/32.8 MB 11.5 MB/s eta 0:00:01\n",
      "     ----------------------------- --------- 24.4/32.8 MB 11.7 MB/s eta 0:00:01\n",
      "     ----------------------------- --------- 25.2/32.8 MB 12.4 MB/s eta 0:00:01\n",
      "     ------------------------------ -------- 25.9/32.8 MB 13.1 MB/s eta 0:00:01\n",
      "     ------------------------------- ------- 26.5/32.8 MB 13.9 MB/s eta 0:00:01\n",
      "     -------------------------------- ------ 27.1/32.8 MB 14.9 MB/s eta 0:00:01\n",
      "     -------------------------------- ------ 27.7/32.8 MB 15.6 MB/s eta 0:00:01\n",
      "     --------------------------------- ----- 28.6/32.8 MB 16.0 MB/s eta 0:00:01\n",
      "     ---------------------------------- ---- 29.1/32.8 MB 16.0 MB/s eta 0:00:01\n",
      "     ---------------------------------- ---- 29.5/32.8 MB 15.6 MB/s eta 0:00:01\n",
      "     ----------------------------------- --- 29.7/32.8 MB 14.9 MB/s eta 0:00:01\n",
      "     ----------------------------------- --- 30.1/32.8 MB 14.2 MB/s eta 0:00:01\n",
      "     ------------------------------------ -- 30.5/32.8 MB 13.6 MB/s eta 0:00:01\n",
      "     ------------------------------------ -- 31.0/32.8 MB 13.4 MB/s eta 0:00:01\n",
      "     ------------------------------------- - 31.7/32.8 MB 13.1 MB/s eta 0:00:01\n",
      "     --------------------------------------  32.4/32.8 MB 13.1 MB/s eta 0:00:01\n",
      "     --------------------------------------  32.8/32.8 MB 13.1 MB/s eta 0:00:01\n",
      "     --------------------------------------- 32.8/32.8 MB 12.3 MB/s eta 0:00:00\n",
      "Collecting requests>=2.26.0 (from SpeechRecognition)\n",
      "  Obtaining dependency information for requests>=2.26.0 from https://files.pythonhosted.org/packages/70/8e/0e2d847013cb52cd35b38c009bb167a1a26b2ce6cd6965bf26b47bc0bf44/requests-2.31.0-py3-none-any.whl.metadata\n",
      "  Downloading requests-2.31.0-py3-none-any.whl.metadata (4.6 kB)\n",
      "Collecting charset-normalizer<4,>=2 (from requests>=2.26.0->SpeechRecognition)\n",
      "  Obtaining dependency information for charset-normalizer<4,>=2 from https://files.pythonhosted.org/packages/91/6e/db0e545302bf93b6dbbdc496dd192c7f8e8c3bb1584acba069256d8b51d4/charset_normalizer-3.2.0-cp311-cp311-win_amd64.whl.metadata\n",
      "  Downloading charset_normalizer-3.2.0-cp311-cp311-win_amd64.whl.metadata (31 kB)\n",
      "Collecting idna<4,>=2.5 (from requests>=2.26.0->SpeechRecognition)\n",
      "  Using cached idna-3.4-py3-none-any.whl (61 kB)\n",
      "Collecting urllib3<3,>=1.21.1 (from requests>=2.26.0->SpeechRecognition)\n",
      "  Obtaining dependency information for urllib3<3,>=1.21.1 from https://files.pythonhosted.org/packages/9b/81/62fd61001fa4b9d0df6e31d47ff49cfa9de4af03adecf339c7bc30656b37/urllib3-2.0.4-py3-none-any.whl.metadata\n",
      "  Downloading urllib3-2.0.4-py3-none-any.whl.metadata (6.6 kB)\n",
      "Collecting certifi>=2017.4.17 (from requests>=2.26.0->SpeechRecognition)\n",
      "  Obtaining dependency information for certifi>=2017.4.17 from https://files.pythonhosted.org/packages/4c/dd/2234eab22353ffc7d94e8d13177aaa050113286e93e7b40eae01fbf7c3d9/certifi-2023.7.22-py3-none-any.whl.metadata\n",
      "  Downloading certifi-2023.7.22-py3-none-any.whl.metadata (2.2 kB)\n",
      "Using cached requests-2.31.0-py3-none-any.whl (62 kB)\n",
      "Downloading certifi-2023.7.22-py3-none-any.whl (158 kB)\n",
      "   ---------------------------------------- 0.0/158.3 kB ? eta -:--:--\n",
      "   ---------------------------------------- 158.3/158.3 kB ? eta 0:00:00\n",
      "Downloading charset_normalizer-3.2.0-cp311-cp311-win_amd64.whl (96 kB)\n",
      "   ---------------------------------------- 0.0/96.6 kB ? eta -:--:--\n",
      "   ---------------------------------------- 96.6/96.6 kB ? eta 0:00:00\n",
      "Downloading urllib3-2.0.4-py3-none-any.whl (123 kB)\n",
      "   ---------------------------------------- 0.0/123.9 kB ? eta -:--:--\n",
      "   ---------------------------------------- 123.9/123.9 kB 7.1 MB/s eta 0:00:00\n",
      "Installing collected packages: urllib3, idna, charset-normalizer, certifi, requests, SpeechRecognition\n",
      "Successfully installed SpeechRecognition-3.10.0 certifi-2023.7.22 charset-normalizer-3.2.0 idna-3.4 requests-2.31.0 urllib3-2.0.4\n"
     ]
    }
   ],
   "source": [
    "!pip install SpeechRecognition"
   ]
  },
  {
   "cell_type": "code",
   "execution_count": 7,
   "metadata": {},
   "outputs": [
    {
     "name": "stdout",
     "output_type": "stream",
     "text": [
      "음성을 입력하세요\n",
      "마이크로폰 에러\n"
     ]
    }
   ],
   "source": [
    "import speech_recognition as sr\n",
    "\n",
    "r = sr.Recognizer()\n",
    "try:\n",
    "    while True:\n",
    "        # 음성 입력 받기\n",
    "        with sr.Microphone() as source:\n",
    "            print('음성을 입력하세요')\n",
    "            audio = r.listen(source)\n",
    "            txt = r.recognize_google(audio, language='ko-KR')\n",
    "            print(txt)\n",
    "except:\n",
    "    print('마이크로폰 에러')"
   ]
  },
  {
   "cell_type": "code",
   "execution_count": 3,
   "metadata": {},
   "outputs": [
    {
     "name": "stdout",
     "output_type": "stream",
     "text": [
      "Collecting pyaudio\n",
      "  Downloading PyAudio-0.2.13-cp311-cp311-win_amd64.whl (164 kB)\n",
      "     ---------------------------------------- 0.0/164.1 kB ? eta -:--:--\n",
      "     ------- ------------------------------- 30.7/164.1 kB 1.3 MB/s eta 0:00:01\n",
      "     -------------------------------------- 164.1/164.1 kB 2.4 MB/s eta 0:00:00\n",
      "Installing collected packages: pyaudio\n",
      "Successfully installed pyaudio-0.2.13\n"
     ]
    }
   ],
   "source": [
    "# 마이크 입력 오류가 있으면 pyaudio 설치\n",
    "!pip install pyaudio"
   ]
  },
  {
   "cell_type": "markdown",
   "metadata": {},
   "source": [
    "### gtts 테스트"
   ]
  },
  {
   "cell_type": "code",
   "execution_count": 5,
   "metadata": {},
   "outputs": [
    {
     "name": "stdout",
     "output_type": "stream",
     "text": [
      "Collecting gtts\n",
      "  Downloading gTTS-2.3.2-py3-none-any.whl (28 kB)\n",
      "Requirement already satisfied: requests<3,>=2.27 in c:\\users\\user\\miniconda3\\envs\\audio\\lib\\site-packages (from gtts) (2.31.0)\n",
      "Collecting click<8.2,>=7.1 (from gtts)\n",
      "  Obtaining dependency information for click<8.2,>=7.1 from https://files.pythonhosted.org/packages/1a/70/e63223f8116931d365993d4a6b7ef653a4d920b41d03de7c59499962821f/click-8.1.6-py3-none-any.whl.metadata\n",
      "  Using cached click-8.1.6-py3-none-any.whl.metadata (3.0 kB)\n",
      "Requirement already satisfied: colorama in c:\\users\\user\\miniconda3\\envs\\audio\\lib\\site-packages (from click<8.2,>=7.1->gtts) (0.4.6)\n",
      "Requirement already satisfied: charset-normalizer<4,>=2 in c:\\users\\user\\miniconda3\\envs\\audio\\lib\\site-packages (from requests<3,>=2.27->gtts) (3.2.0)\n",
      "Requirement already satisfied: idna<4,>=2.5 in c:\\users\\user\\miniconda3\\envs\\audio\\lib\\site-packages (from requests<3,>=2.27->gtts) (3.4)\n",
      "Requirement already satisfied: urllib3<3,>=1.21.1 in c:\\users\\user\\miniconda3\\envs\\audio\\lib\\site-packages (from requests<3,>=2.27->gtts) (2.0.4)\n",
      "Requirement already satisfied: certifi>=2017.4.17 in c:\\users\\user\\miniconda3\\envs\\audio\\lib\\site-packages (from requests<3,>=2.27->gtts) (2023.7.22)\n",
      "Using cached click-8.1.6-py3-none-any.whl (97 kB)\n",
      "Installing collected packages: click, gtts\n",
      "Successfully installed click-8.1.6 gtts-2.3.2\n",
      "Collecting playsound\n",
      "  Downloading playsound-1.3.0.tar.gz (7.7 kB)\n",
      "  Preparing metadata (setup.py): started\n",
      "  Preparing metadata (setup.py): finished with status 'done'\n",
      "Building wheels for collected packages: playsound\n",
      "  Building wheel for playsound (setup.py): started\n",
      "  Building wheel for playsound (setup.py): finished with status 'done'\n",
      "  Created wheel for playsound: filename=playsound-1.3.0-py3-none-any.whl size=7046 sha256=8240d336415d9354bb2d27e238e6128a9664e9f7b3f3b7afad48954a81e2ac23\n",
      "  Stored in directory: c:\\users\\user\\appdata\\local\\pip\\cache\\wheels\\50\\98\\42\\62753a9e1fb97579a0ce2f84f7db4c21c09d03bb2091e6cef4\n",
      "Successfully built playsound\n",
      "Installing collected packages: playsound\n",
      "Successfully installed playsound-1.3.0\n"
     ]
    }
   ],
   "source": [
    "!pip install gtts\n",
    "# gtts : 글자 -> 음성 변환 패키지\n",
    "!pip install playsound"
   ]
  },
  {
   "cell_type": "code",
   "execution_count": 8,
   "metadata": {},
   "outputs": [],
   "source": [
    "from gtts import gTTS\n",
    "import playsound\n",
    "import time\n",
    "\n",
    "tts = gTTS(text='할 말을 입력해주세요!', lang='ko')\n",
    "path = 'test.mp3'  # 음성파일 경로설정\n",
    "tts.save(path)  # 음성파일 저장\n",
    "# time.sleep(3)  # 저장하는데 시간이 걸려서 에러가 나면 슬립타임 활성화\n",
    "playsound.playsound(path)  # 녹음파일 실행"
   ]
  },
  {
   "cell_type": "markdown",
   "metadata": {},
   "source": [
    "### 음성 인식 -> 출력 테스트"
   ]
  },
  {
   "cell_type": "code",
   "execution_count": 9,
   "metadata": {},
   "outputs": [
    {
     "name": "stdout",
     "output_type": "stream",
     "text": [
      "음성을 입력하세요\n",
      "마이크로폰 에러\n"
     ]
    }
   ],
   "source": [
    "import speech_recognition as sr\n",
    "from gtts import gTTS\n",
    "import playsound\n",
    "import time\n",
    "\n",
    "\n",
    "r = sr.Recognizer()\n",
    "try:\n",
    "    while True:\n",
    "        # 음성 입력 받기\n",
    "        with sr.Microphone() as source:\n",
    "            print('음성을 입력하세요')\n",
    "            audio = r.listen(source)\n",
    "            result = r.recognize_google(audio, language='ko-KR')\n",
    "            print('음성: ' + result)\n",
    "\n",
    "            # if '카카오' in result:  # '헤이 카카오'등 키워드를 추가하여 음성인식 서비스처럼 사용 가능\n",
    "            tts = gTTS(text=result, lang='ko')\n",
    "            path = 'test.mp3'  # 음성파일 경로설정\n",
    "            tts.save(path)  # 음성파일 저장\n",
    "            # time.sleep(3)  # 저장하는데 시간이 걸리면 잠시 대기\n",
    "            playsound.playsound(path)  # 녹음파일 실행\n",
    "except:\n",
    "    print('마이크로폰 에러')"
   ]
  },
  {
   "cell_type": "code",
   "execution_count": null,
   "metadata": {},
   "outputs": [],
   "source": []
  }
 ],
 "metadata": {
  "kernelspec": {
   "display_name": "audio",
   "language": "python",
   "name": "python3"
  },
  "language_info": {
   "codemirror_mode": {
    "name": "ipython",
    "version": 3
   },
   "file_extension": ".py",
   "mimetype": "text/x-python",
   "name": "python",
   "nbconvert_exporter": "python",
   "pygments_lexer": "ipython3",
   "version": "3.11.4"
  },
  "orig_nbformat": 4
 },
 "nbformat": 4,
 "nbformat_minor": 2
}
